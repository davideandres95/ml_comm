{
  "cells": [
    {
      "cell_type": "markdown",
      "metadata": {
        "id": "view-in-github",
        "colab_type": "text"
      },
      "source": [
        "<a href=\"https://colab.research.google.com/github/davideandres95/ml_comm/blob/main/tut09_to_fill.ipynb\" target=\"_parent\"><img src=\"https://colab.research.google.com/assets/colab-badge.svg\" alt=\"Open In Colab\"/></a>"
      ]
    },
    {
      "cell_type": "markdown",
      "id": "b805812a",
      "metadata": {
        "id": "b805812a"
      },
      "source": [
        "## Tutorial 9 - Spectral Shaping\n",
        "23.12.2021"
      ]
    },
    {
      "cell_type": "code",
      "execution_count": null,
      "id": "2245e980",
      "metadata": {
        "id": "2245e980"
      },
      "outputs": [],
      "source": [
        "import numpy as np\n",
        "import matplotlib.pyplot as plt\n",
        "from scipy import signal"
      ]
    },
    {
      "cell_type": "markdown",
      "id": "0a0d333a",
      "metadata": {
        "id": "0a0d333a"
      },
      "source": [
        "### Problem 7.1\n",
        "* 1. Implement the PSD estimator (7.8)."
      ]
    },
    {
      "cell_type": "code",
      "execution_count": null,
      "id": "8af3d489",
      "metadata": {
        "id": "8af3d489"
      },
      "outputs": [],
      "source": [
        "# Calculate PSD according to empirical formula\n",
        "def PSD(x):\n",
        "    num_seq = x.shape[0]\n",
        "    len_seq = x.shape[1]\n",
        "    x_f = np.fft.fft(x)\n",
        "    # Your code here\n",
        "    # PSD = \n",
        "    return np.mean(PSD, 0)"
      ]
    },
    {
      "cell_type": "markdown",
      "id": "42c238d9",
      "metadata": {
        "id": "42c238d9"
      },
      "source": [
        "* 2. Sample the length $n = 10 000$ time signal $x$ with independent normal Gaussian\n",
        "entries. Plot its PSD for $n_{seq} = \\{10, 100, 1000\\}$."
      ]
    },
    {
      "cell_type": "code",
      "execution_count": null,
      "id": "f30f3386",
      "metadata": {
        "id": "f30f3386"
      },
      "outputs": [],
      "source": [
        "len_seq = 1000\n",
        "for num_seq in [10, 100, 1000]:\n",
        "    x = np.random.randn(num_seq, len_seq)\n",
        "    S_xx = PSD(x)\n",
        "    P_t = np.mean(x**2)\n",
        "    P_f = np.mean(S_xx)\n",
        "    plt.plot(10*np.log10(S_xx), label=f'num_seq={num_seq}')\n",
        "plt.grid()\n",
        "plt.legend()\n",
        "plt.show()\n",
        "print(f'P_t={P_t :.4f}, P_f={P_f :.4f}')    "
      ]
    },
    {
      "cell_type": "markdown",
      "id": "4c18b0f6",
      "metadata": {
        "id": "4c18b0f6"
      },
      "source": [
        "* 3. Consider now the signal $y$ with $$y_i = x_i + 0.5  x(i-1) \\mod n$$\n",
        "\n",
        "     Are the entries of $y_i$ independent?\n",
        " \n",
        " \n",
        " \n",
        "* 4. Plot the PSD of $y$ for $n_{seq} = \\{10, 100, 1000\\}$."
      ]
    },
    {
      "cell_type": "code",
      "execution_count": null,
      "id": "226c8174",
      "metadata": {
        "id": "226c8174"
      },
      "outputs": [],
      "source": [
        "alpha = 0.5\n",
        "for num_seq in [10, 100, 1000]:\n",
        "    x = np.random.randn(num_seq, len_seq)\n",
        "    # Your code here\n",
        "    # y = ...\n",
        "    S_yy = PSD(y)\n",
        "    plt.plot(10*np.log10(S_yy), label=f'num_seq={num_seq}')\n",
        "plt.grid()\n",
        "plt.legend()\n",
        "plt.show()"
      ]
    },
    {
      "cell_type": "markdown",
      "id": "cdc34873",
      "metadata": {
        "id": "cdc34873"
      },
      "source": [
        "* 5. Compare the plots of 2. and 4. with the ones obtained with scipy.signal.welch"
      ]
    },
    {
      "cell_type": "code",
      "execution_count": null,
      "id": "12f86e12",
      "metadata": {
        "id": "12f86e12"
      },
      "outputs": [],
      "source": [
        "from scipy import signal"
      ]
    },
    {
      "cell_type": "code",
      "execution_count": null,
      "id": "1e660d1b",
      "metadata": {
        "id": "1e660d1b"
      },
      "outputs": [],
      "source": [
        "for num_seq in [10, 100, 1000]:\n",
        "    print(num_seq)\n",
        "    x = np.random.randn(len_seq*num_seq)\n",
        "    y = x + alpha * np.roll(x, 1)\n",
        "    # Your code here\n",
        "    # _, Syy = \n",
        "    plt.plot(10*np.log10(Syy), label=f'num_seq={num_seq}')\n",
        "plt.grid()\n",
        "plt.legend()\n",
        "plt.show()    "
      ]
    },
    {
      "cell_type": "markdown",
      "id": "fd96e5cd",
      "metadata": {
        "id": "fd96e5cd"
      },
      "source": [
        "### Problem 7.2 - Filter Design by End-to-End Training"
      ]
    },
    {
      "cell_type": "markdown",
      "id": "182c7bf2",
      "metadata": {
        "id": "182c7bf2"
      },
      "source": [
        "* 1. Carry out the end-to-end filter design described in Section 7.4 and plot the PSDs of the filtered signals.\n",
        "* 2. Remove the low pass filter from the channel. Retrain the system and plot the PSDs of the filtered signals.\n",
        "* 3. Exchange the low pass filter in the channel by interference as described in Section 7.1.2. Retrain the system and plot the PSDs of the filtered signals.\n",
        "* 4. Exchange the low pass filter in the channel by the pilot tone as described in Section 7.1.3. Retrain the system and plot the PSDs of the filtered signals."
      ]
    },
    {
      "cell_type": "code",
      "execution_count": null,
      "id": "af2028a6",
      "metadata": {
        "id": "af2028a6"
      },
      "outputs": [],
      "source": [
        "import torch\n",
        "import time"
      ]
    },
    {
      "cell_type": "markdown",
      "id": "c697d451",
      "metadata": {
        "id": "c697d451"
      },
      "source": [
        "##### Auxiliary functions"
      ]
    },
    {
      "cell_type": "code",
      "execution_count": null,
      "id": "7f802f6d",
      "metadata": {
        "id": "7f802f6d"
      },
      "outputs": [],
      "source": [
        "def downsample_td(signal, down):\n",
        "    return down * signal[::down]\n",
        "\n",
        "def upsample_td(signal, up):\n",
        "    _signal = torch.zeros(len(signal) * up, dtype=signal.dtype)\n",
        "    _signal[::up] = signal\n",
        "    return _signal\n",
        "\n",
        "def normalize(x):\n",
        "    P = torch.mean(x**2)\n",
        "    return x / torch.sqrt(P)\n",
        "\n",
        "def get_filter_response(filt, fs, nperseg=100):\n",
        "    x = torch.zeros(fs * nperseg)\n",
        "    x[nperseg//2] = 1.\n",
        "    h = tx_filter(x).detach().numpy()\n",
        "    h = 1 / np.sqrt(np.sum(h**2)) * h\n",
        "    Shh_dB = 10*np.log10(np.abs(np.fft.fft(h))**2)\n",
        "    return h, Shh_dB"
      ]
    },
    {
      "cell_type": "markdown",
      "id": "3261b0e7",
      "metadata": {
        "id": "3261b0e7"
      },
      "source": [
        "##### Communication system"
      ]
    },
    {
      "cell_type": "code",
      "execution_count": null,
      "id": "f3b2f892",
      "metadata": {
        "id": "f3b2f892"
      },
      "outputs": [],
      "source": [
        "def mapper(n, M):\n",
        "    a = np.random.choice(range(M), n)\n",
        "    alphabet = np.arange(-(M-1), M, 2)\n",
        "    x = alphabet[a]\n",
        "    return torch.tensor(a), torch.tensor(x).float()\n",
        "\n",
        "class Demapper(torch.nn.Module):\n",
        "    def __init__(self, M, redundant=False):\n",
        "        super().__init__()\n",
        "        self.redundant = redundant\n",
        "        if self.redundant:\n",
        "            self.lin1 = torch.nn.Linear(1, 2 * M)\n",
        "            self.lin2 = torch.nn.Linear(2 * M, M)\n",
        "        else:\n",
        "            self.lin = torch.nn.Linear(1, M)\n",
        "        \n",
        "    def forward(self, y):\n",
        "        if self.redundant:\n",
        "            return self.lin2(self.lin1(y))\n",
        "        else:\n",
        "            return self.lin(y)\n",
        "\n",
        "class LinearFilter(torch.nn.Module):\n",
        "    def __init__(self, num_taps):\n",
        "        super().__init__()\n",
        "        self.conv = torch.nn.Conv1d(in_channels=1,\n",
        "                                    out_channels=1,\n",
        "                                    kernel_size=num_taps,\n",
        "                                    padding='same',\n",
        "                                    bias=False)\n",
        "    def forward(self, y):\n",
        "        y = self.conv(y.reshape(1, 1, -1)).reshape(-1)\n",
        "        return 1 / torch.sqrt(torch.mean(y**2)) * y\n",
        "    \n",
        "def transmitter(batch_size,\n",
        "                M,\n",
        "                ovs_factor,\n",
        "                tx_filter):\n",
        "    a, x = mapper(batch_size, M)\n",
        "    power_x = torch.mean(x**2)\n",
        "    \n",
        "    u = upsample_td(x, ovs_factor)\n",
        "    \n",
        "    y_tx = tx_filter(u)\n",
        "    y_tx = normalize(y_tx)\n",
        "    \n",
        "    return a, x, u, y_tx, power_x\n",
        "\n",
        "def receiver(y_ch, power_x, rx_filter, ovs_factor, demapper):\n",
        "    y_rx = rx_filter(y_ch.reshape(1, 1, -1)).reshape(-1)\n",
        "    y_rx = normalize(y_rx)\n",
        "    \n",
        "    d = downsample_td(y_rx, ovs_factor)\n",
        "    \n",
        "    power_d = torch.mean(d**2)\n",
        "    d = torch.sqrt(power_x / power_d) * d\n",
        "    \n",
        "    l = demapper(d.reshape(-1, 1))\n",
        "    return y_rx, d, l"
      ]
    },
    {
      "cell_type": "markdown",
      "id": "43cbf533",
      "metadata": {
        "id": "43cbf533"
      },
      "source": [
        "##### Plotting functions"
      ]
    },
    {
      "cell_type": "code",
      "execution_count": null,
      "id": "0134bc6d",
      "metadata": {
        "id": "0134bc6d"
      },
      "outputs": [],
      "source": [
        "def scatterplot(x, d, show=True):\n",
        "    if isinstance(x, torch.Tensor):\n",
        "        x = x.detach().numpy().reshape(-1)\n",
        "    if isinstance(d, torch.Tensor):\n",
        "        d = d.detach().numpy().reshape(-1)\n",
        "    plt.scatter(d[::2], d[1::2], s=1, label='d')\n",
        "    plt.scatter(x[::2], x[1::2], s=1, label='x')\n",
        "    plt.grid()\n",
        "    plt.xlim((-8, 8))\n",
        "    plt.ylim((-8, 8))\n",
        "    plt.xticks(np.arange(-8, 9, 2))\n",
        "    plt.yticks(np.arange(-8, 9, 2))\n",
        "    plt.gca().set_aspect('equal')\n",
        "    if show:\n",
        "        plt.show()\n",
        "\n",
        "def PSD(x, label, fs, nperseg=100, show=False, fftshift=False):\n",
        "    if isinstance(x, torch.Tensor):\n",
        "        x = x.detach().numpy().reshape(-1)\n",
        "    f, Pxx = signal.welch(x, nperseg=nperseg * fs, return_onesided=False, fs=fs)\n",
        "    if not fftshift:\n",
        "        plt.plot(10*np.log10(Pxx), label=label)\n",
        "    else:\n",
        "        plt.plot(np.fft.fftshift(10*np.log10(Pxx)), linestyle='dashed', label=label)\n",
        "    plt.grid()\n",
        "    plt.legend()\n",
        "    plt.xlabel('k')\n",
        "    plt.ylabel('power spectral density')\n",
        "    if show:\n",
        "        plt.show()"
      ]
    },
    {
      "cell_type": "markdown",
      "id": "4e751fc8",
      "metadata": {
        "id": "4e751fc8"
      },
      "source": [
        "#### Low pass filter channel"
      ]
    },
    {
      "cell_type": "code",
      "execution_count": null,
      "id": "e41c7168",
      "metadata": {
        "id": "e41c7168"
      },
      "outputs": [],
      "source": [
        "def get_rc_fd(filter_length, rolloff, samples_per_symbol):\n",
        "    assert filter_length % 2 == 0, 'filter_length should be even'\n",
        "    f = np.arange(-0.5, 0.5, 1 / filter_length)\n",
        "    T = samples_per_symbol\n",
        "    return _rc_fd(rolloff, T, f)\n",
        "\n",
        "def _rc_fd(rolloff, T, f):\n",
        "    Hf = np.cos(np.pi * T / 2 / rolloff *(np.abs(f) - (1 - rolloff) / 2 / T))**2\n",
        "    idx = np.logical_and((1 - rolloff) / 2 / T < np.abs(f), np.abs(f) <= (1 + rolloff) / 2 / T)\n",
        "    filter_fd = np.zeros_like(f)\n",
        "    filter_fd[idx] = Hf[idx]\n",
        "    idx1 = np.abs(f) <= (1 - rolloff) / 2 / T\n",
        "    filter_fd[idx1] = 1.\n",
        "    return np.fft.fftshift(filter_fd)\n",
        "\n",
        "def filter_circ(signal, filter_fd):\n",
        "    s_fd = torch.fft.fft(signal)\n",
        "    signal_td = torch.fft.ifft(s_fd * filter_fd)\n",
        "    return torch.real(signal_td).float()\n",
        "\n",
        "def get_lpf(num_samples):\n",
        "    filter_fd = torch.tensor(get_rc_fd(num_samples, \n",
        "                             rolloff=0.2, \n",
        "                             samples_per_symbol=8/5))\n",
        "    return filter_fd\n",
        "\n",
        "def channel_lpf(y, filter_fd, noise_variance):\n",
        "    y_ch = filter_circ(y, filter_fd)\n",
        "    return y_ch + np.sqrt(noise_variance) * torch.randn(y_ch.shape)"
      ]
    },
    {
      "cell_type": "code",
      "execution_count": null,
      "id": "59fc62f6",
      "metadata": {
        "id": "59fc62f6"
      },
      "outputs": [],
      "source": [
        "n_epochs = 100_000\n",
        "batch_size = 1000\n",
        "M = 8\n",
        "num_taps = 51\n",
        "ovs_factor = 2\n",
        "noise_variance = 0.01\n",
        "whichloss = 'ce'\n",
        "\n",
        "loss_fn = torch.nn.CrossEntropyLoss()\n",
        "msg_fn = lambda j, loss: print(f'(Epoch {j}) XE={loss/np.log(2) :.4f}bits')    \n",
        "\n",
        "tx_filter = LinearFilter(num_taps)\n",
        "rx_filter = LinearFilter(num_taps)\n",
        "demapper = Demapper(M, redundant=True)\n",
        "lpf_fd = get_lpf(ovs_factor * batch_size)\n",
        "\n",
        "# Your code here\n",
        "# We want to train tx filter, rx filter and demapper\n",
        "# optimizer = \n",
        "\n",
        "start0 = time.time()\n",
        "start = start0\n",
        "losses = []\n",
        "times = []\n",
        "\n",
        "for j in range(n_epochs + 1):\n",
        "    a, x, u, y_tx, power_x = transmitter(batch_size, M, ovs_factor, tx_filter)\n",
        "    a = a.type(torch.LongTensor)\n",
        "    # Your code here\n",
        "    # y_ch = \n",
        "    # y_rx, d, l = \n",
        "    \n",
        "    optimizer.zero_grad()\n",
        "    loss = loss_fn(l, a)\n",
        "    loss.backward()\n",
        "    optimizer.step()\n",
        "    \n",
        "    if time.time() - start > 5:\n",
        "        a, x, u, y_tx, power_x = transmitter(100_000, M, ovs_factor, tx_filter)\n",
        "        a = a.type(torch.LongTensor)\n",
        "        y_ch = channel_lpf(y_tx, \n",
        "                           get_lpf(ovs_factor * 100_000), \n",
        "                           noise_variance)\n",
        "        y_rx, d, l = receiver(y_ch, power_x, rx_filter, ovs_factor, demapper)\n",
        "        losses.append(loss_fn(l, a).detach().numpy())\n",
        "        msg_fn(j, loss)\n",
        "        times.append(time.time()-start0)\n",
        "        start = time.time()"
      ]
    },
    {
      "cell_type": "code",
      "execution_count": null,
      "id": "85a59882",
      "metadata": {
        "id": "85a59882"
      },
      "outputs": [],
      "source": [
        "# Test dataset\n",
        "a, x, u, y_tx, power_x = transmitter(100_000, M, ovs_factor, tx_filter)\n",
        "filter_fd = get_lpf(100_000 * ovs_factor)\n",
        "y_ch = channel_lpf(y_tx, filter_fd, noise_variance)\n",
        "y_rx, d, l = receiver(y_ch, power_x, rx_filter, ovs_factor, demapper)"
      ]
    },
    {
      "cell_type": "code",
      "execution_count": null,
      "id": "e4e8301d",
      "metadata": {
        "id": "e4e8301d"
      },
      "outputs": [],
      "source": [
        "# Transmitter\n",
        "PSD(x, r'x', fs=1)\n",
        "PSD(u, 'u', fs=2)\n",
        "PSD(y_tx, 'y', fs=2)\n",
        "h, Shh_dB = get_filter_response(tx_filter, fs=2)\n",
        "plt.plot(Shh_dB, label='g')\n",
        "plt.legend()\n",
        "plt.show()"
      ]
    },
    {
      "cell_type": "code",
      "execution_count": null,
      "id": "d8660594",
      "metadata": {
        "id": "d8660594"
      },
      "outputs": [],
      "source": [
        "# Channel\n",
        "PSD(y_tx, r'$y_{tx}$', fs=2)\n",
        "PSD(y_ch, r'$y_{ch}$', fs=2)\n",
        "lpf = get_lpf(200)\n",
        "plt.plot(10*np.log10(np.abs(lpf)**2), label=r'$f$')\n",
        "plt.grid()\n",
        "plt.legend()\n",
        "plt.ylim((-35, 5))\n",
        "plt.show()"
      ]
    },
    {
      "cell_type": "code",
      "execution_count": null,
      "id": "aa82a69b",
      "metadata": {
        "id": "aa82a69b"
      },
      "outputs": [],
      "source": [
        "# Receiver\n",
        "PSD(y_ch, r'$y_{ch}$', fs=2)\n",
        "PSD(y_rx, r'$y_{rx}$', fs=2)\n",
        "PSD(y_rx, r'$y_{rx}(k + 100)$', fs=2, fftshift=True)\n",
        "PSD(d, 'd', fs=1)\n",
        "plt.grid()\n",
        "plt.show()\n",
        "scatterplot(x, d, show=False)\n",
        "\n",
        "plt.xlabel('even samples')\n",
        "plt.ylabel('odd samples')\n",
        "plt.legend()\n",
        "plt.show()"
      ]
    },
    {
      "cell_type": "markdown",
      "id": "05935556",
      "metadata": {
        "id": "05935556"
      },
      "source": [
        "##### Without low-pass filter"
      ]
    },
    {
      "cell_type": "code",
      "execution_count": null,
      "id": "8f74bcad",
      "metadata": {
        "id": "8f74bcad"
      },
      "outputs": [],
      "source": [
        "def channel_awgn(y, noise_variance):\n",
        "    return y + np.sqrt(noise_variance) * torch.randn(y.shape)"
      ]
    },
    {
      "cell_type": "code",
      "execution_count": null,
      "id": "a4d66030",
      "metadata": {
        "id": "a4d66030"
      },
      "outputs": [],
      "source": [
        "# Your code here\n",
        "\n",
        "\n"
      ]
    },
    {
      "cell_type": "code",
      "execution_count": null,
      "id": "3efa6721",
      "metadata": {
        "id": "3efa6721"
      },
      "outputs": [],
      "source": [
        "# Test dataset\n",
        "a, x, u, y_tx, power_x = transmitter(100_000, M, ovs_factor, tx_filter)\n",
        "y_ch = channel_awgn(y_tx, noise_variance)\n",
        "y_rx, d, l = receiver(y_ch, power_x, rx_filter, ovs_factor, demapper)"
      ]
    },
    {
      "cell_type": "code",
      "execution_count": null,
      "id": "51fd4142",
      "metadata": {
        "id": "51fd4142"
      },
      "outputs": [],
      "source": [
        "# Transmitter\n",
        "PSD(x, r'x', fs=1)\n",
        "PSD(u, 'u', fs=2)\n",
        "PSD(y_tx, 'y', fs=2)\n",
        "h, Shh_dB = get_filter_response(tx_filter, fs=2)\n",
        "plt.plot(Shh_dB, label='g')\n",
        "plt.legend()\n",
        "plt.show()"
      ]
    },
    {
      "cell_type": "code",
      "execution_count": null,
      "id": "b98c91bd",
      "metadata": {
        "id": "b98c91bd"
      },
      "outputs": [],
      "source": [
        "# Channel\n",
        "PSD(y_tx, r'$y_{tx}$', fs=2)\n",
        "PSD(y_ch, r'$y_{ch}$', fs=2)\n",
        "plt.grid()\n",
        "plt.legend()\n",
        "plt.ylim((-35, 5))\n",
        "plt.show()"
      ]
    },
    {
      "cell_type": "code",
      "execution_count": null,
      "id": "5ca3d7d7",
      "metadata": {
        "id": "5ca3d7d7"
      },
      "outputs": [],
      "source": [
        "# Receiver\n",
        "PSD(y_ch, r'$y_{ch}$', fs=2)\n",
        "PSD(y_rx, r'$y_{rx}$', fs=2)\n",
        "PSD(y_rx, r'$y_{rx}(k + 100)$', fs=2, fftshift=True)\n",
        "PSD(d, 'd', fs=1)\n",
        "plt.grid()\n",
        "plt.show()\n",
        "scatterplot(x, d, show=False)\n",
        "\n",
        "plt.xlabel('even samples')\n",
        "plt.ylabel('odd samples')\n",
        "plt.legend()\n",
        "plt.show()"
      ]
    },
    {
      "cell_type": "markdown",
      "id": "0b467e12",
      "metadata": {
        "id": "0b467e12"
      },
      "source": [
        "##### Interference Channel"
      ]
    },
    {
      "cell_type": "code",
      "execution_count": null,
      "id": "e8530507",
      "metadata": {
        "id": "e8530507"
      },
      "outputs": [],
      "source": [
        "def filter_circ(signal, filter_fd):\n",
        "    s_fd = torch.fft.fft(signal)\n",
        "    signal_td = torch.fft.ifft(torch.fft.fftshift(s_fd * filter_fd))\n",
        "    return torch.real(signal_td).float()\n",
        "\n",
        "def get_rc(num_samples):\n",
        "    filter_fd = torch.tensor(get_rc_fd(num_samples, \n",
        "                             rolloff=0.2, \n",
        "                             samples_per_symbol=2))\n",
        "    return filter_fd\n",
        "\n",
        "def channel_interf(y, filter_fd, noise_variance):\n",
        "    interference_fd = torch.randn(y.shape)\n",
        "    return y + filter_circ(interference_fd, filter_fd) + np.sqrt(noise_variance) * torch.randn(y.shape)"
      ]
    },
    {
      "cell_type": "code",
      "execution_count": null,
      "id": "0f8dfcbb",
      "metadata": {
        "id": "0f8dfcbb"
      },
      "outputs": [],
      "source": [
        "# Your code here\n",
        "\n",
        "\n"
      ]
    },
    {
      "cell_type": "code",
      "execution_count": null,
      "id": "7696ef44",
      "metadata": {
        "id": "7696ef44"
      },
      "outputs": [],
      "source": [
        "# Test dataset\n",
        "a, x, u, y_tx, power_x = transmitter(100_000, M, ovs_factor, tx_filter)\n",
        "filter_fd = get_rc(100_000 * ovs_factor)\n",
        "y_ch = channel_interf(y_tx, filter_fd, noise_variance)\n",
        "y_rx, d, l = receiver(y_ch, power_x, rx_filter, ovs_factor, demapper)"
      ]
    },
    {
      "cell_type": "code",
      "execution_count": null,
      "id": "0d25a450",
      "metadata": {
        "id": "0d25a450"
      },
      "outputs": [],
      "source": [
        "# Transmitter\n",
        "PSD(x, r'x', fs=1)\n",
        "PSD(u, 'u', fs=2)\n",
        "PSD(y_tx, 'y', fs=2)\n",
        "h, Shh_dB = get_filter_response(tx_filter, fs=2)\n",
        "plt.plot(Shh_dB, label='g')\n",
        "plt.legend()\n",
        "plt.show()"
      ]
    },
    {
      "cell_type": "code",
      "execution_count": null,
      "id": "0f496a09",
      "metadata": {
        "id": "0f496a09"
      },
      "outputs": [],
      "source": [
        "# Channel\n",
        "PSD(y_tx, r'$y_{tx}$', fs=2)\n",
        "PSD(y_ch, r'$y_{ch}$', fs=2)\n",
        "plt.grid()\n",
        "plt.legend()\n",
        "plt.ylim((-35, 5))\n",
        "plt.show()"
      ]
    },
    {
      "cell_type": "code",
      "execution_count": null,
      "id": "740db118",
      "metadata": {
        "id": "740db118"
      },
      "outputs": [],
      "source": [
        "# Receiver\n",
        "PSD(y_ch, r'$y_{ch}$', fs=2)\n",
        "PSD(y_rx, r'$y_{rx}$', fs=2)\n",
        "PSD(y_rx, r'$y_{rx}(k + 100)$', fs=2, fftshift=True)\n",
        "PSD(d, 'd', fs=1)\n",
        "plt.grid()\n",
        "plt.show()\n",
        "scatterplot(x, d, show=False)\n",
        "\n",
        "plt.xlabel('even samples')\n",
        "plt.ylabel('odd samples')\n",
        "plt.legend()\n",
        "plt.show()"
      ]
    },
    {
      "cell_type": "markdown",
      "id": "c3552e38",
      "metadata": {
        "id": "c3552e38"
      },
      "source": [
        "##### Pilot tone"
      ]
    },
    {
      "cell_type": "code",
      "execution_count": null,
      "id": "43707f48",
      "metadata": {
        "id": "43707f48"
      },
      "outputs": [],
      "source": [
        "def get_pilot(n, ovs_factor, power):\n",
        "    tone_fd = np.zeros(n * ovs_factor)\n",
        "    f = int(0.2 * n)\n",
        "    tone_fd[f - 1] = 0.1 * n\n",
        "    tone_fd[f] = n\n",
        "    tone_fd[f + 1] = 0.1 * n\n",
        "    phase = np.random.rand()\n",
        "    tone = np.real(np.fft.ifft(tone_fd * np.exp(2 * np.pi * phase)))\n",
        "    return np.sqrt(power / np.mean(tone**2)) * tone\n",
        "\n",
        "def channel_pilot_tone(y, ovs_factor, pilot_power, noise_variance):\n",
        "    pilot = get_pilot(len(y)//ovs_factor, ovs_factor, pilot_power)\n",
        "    y_ch = y + torch.tensor(pilot).float()\n",
        "    return y_ch + np.sqrt(noise_variance) * torch.randn(y_ch.shape)"
      ]
    },
    {
      "cell_type": "code",
      "execution_count": null,
      "id": "d895ffe5",
      "metadata": {
        "id": "d895ffe5"
      },
      "outputs": [],
      "source": [
        "# Your code here\n",
        "\n",
        "\n"
      ]
    },
    {
      "cell_type": "code",
      "execution_count": null,
      "id": "f11de0fe",
      "metadata": {
        "id": "f11de0fe"
      },
      "outputs": [],
      "source": [
        "# Test dataset\n",
        "a, x, u, y_tx, power_x = transmitter(100_000, M, ovs_factor, tx_filter)\n",
        "y_ch = channel_pilot_tone(y_tx, ovs_factor, pilot_power, noise_variance)\n",
        "y_rx, d, l = receiver(y_ch, power_x, rx_filter, ovs_factor, demapper)"
      ]
    },
    {
      "cell_type": "code",
      "execution_count": null,
      "id": "0ea7b727",
      "metadata": {
        "id": "0ea7b727"
      },
      "outputs": [],
      "source": [
        "# Transmitter\n",
        "PSD(x, r'x', fs=1)\n",
        "PSD(u, 'u', fs=2)\n",
        "PSD(y_tx, 'y', fs=2)\n",
        "h, Shh_dB = get_filter_response(tx_filter, fs=2)\n",
        "plt.plot(Shh_dB, label='g')\n",
        "plt.legend()\n",
        "plt.show()"
      ]
    },
    {
      "cell_type": "code",
      "execution_count": null,
      "id": "0a00deb7",
      "metadata": {
        "id": "0a00deb7"
      },
      "outputs": [],
      "source": [
        "# Channel\n",
        "PSD(y_tx, r'$y_{tx}$', fs=2)\n",
        "PSD(y_ch, r'$y_{ch}$', fs=2)\n",
        "plt.grid()\n",
        "plt.legend()\n",
        "plt.ylim((-35, 5))\n",
        "plt.show()"
      ]
    },
    {
      "cell_type": "code",
      "execution_count": null,
      "id": "db2ed20b",
      "metadata": {
        "id": "db2ed20b"
      },
      "outputs": [],
      "source": [
        "# Receiver\n",
        "PSD(y_ch, r'$y_{ch}$', fs=2)\n",
        "PSD(y_rx, r'$y_{rx}$', fs=2)\n",
        "PSD(y_rx, r'$y_{rx}(k + 100)$', fs=2, fftshift=True)\n",
        "PSD(d, 'd', fs=1)\n",
        "plt.grid()\n",
        "plt.show()\n",
        "scatterplot(x, d, show=False)\n",
        "\n",
        "plt.xlabel('even samples')\n",
        "plt.ylabel('odd samples')\n",
        "plt.legend()\n",
        "plt.show()"
      ]
    },
    {
      "cell_type": "code",
      "execution_count": null,
      "id": "c8903ee3",
      "metadata": {
        "id": "c8903ee3"
      },
      "outputs": [],
      "source": [
        ""
      ]
    }
  ],
  "metadata": {
    "kernelspec": {
      "display_name": "Python 3 (ipykernel)",
      "language": "python",
      "name": "python3"
    },
    "language_info": {
      "codemirror_mode": {
        "name": "ipython",
        "version": 3
      },
      "file_extension": ".py",
      "mimetype": "text/x-python",
      "name": "python",
      "nbconvert_exporter": "python",
      "pygments_lexer": "ipython3",
      "version": "3.9.2"
    },
    "colab": {
      "name": "tut09-to-fill.ipynb",
      "provenance": [],
      "collapsed_sections": [],
      "include_colab_link": true
    }
  },
  "nbformat": 4,
  "nbformat_minor": 5
}