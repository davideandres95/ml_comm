{
  "nbformat": 4,
  "nbformat_minor": 0,
  "metadata": {
    "@webio": {
      "lastCommId": null,
      "lastKernelId": null
    },
    "colab": {
      "name": "tut01.ipynb",
      "provenance": [],
      "collapsed_sections": [],
      "include_colab_link": true
    },
    "kernelspec": {
      "display_name": "Python 3 (ipykernel)",
      "language": "python",
      "name": "python3"
    },
    "language_info": {
      "codemirror_mode": {
        "name": "ipython",
        "version": 3
      },
      "file_extension": ".py",
      "mimetype": "text/x-python",
      "name": "python",
      "nbconvert_exporter": "python",
      "pygments_lexer": "ipython3",
      "version": "3.9.2"
    }
  },
  "cells": [
    {
      "cell_type": "markdown",
      "metadata": {
        "id": "view-in-github",
        "colab_type": "text"
      },
      "source": [
        "<a href=\"https://colab.research.google.com/github/davideandres95/ml_comm/blob/main/tut01.ipynb\" target=\"_parent\"><img src=\"https://colab.research.google.com/assets/colab-badge.svg\" alt=\"Open In Colab\"/></a>"
      ]
    },
    {
      "cell_type": "markdown",
      "metadata": {
        "id": "D65Okar_b8-y"
      },
      "source": [
        "#  Tutorial 1: Introduction to Python and Equalizer in Pytorch\n",
        "October 21st, 2021\n",
        "\n",
        "In this tutorial, we will introduce the basic principles of Python and Pytorch. \n",
        "\n",
        "## Table of Contents\n",
        "\n",
        "\n",
        "*   1) Python Intro: \n",
        "    * Arrays\n",
        "    * Loops and Conditions\n",
        "    * Print formatting\n",
        "    * Plotting\n",
        "*   2) Pytorch Intro:\n",
        "    * Tensors\n",
        "* 3) Equalizer Example\n",
        "\n"
      ]
    },
    {
      "cell_type": "markdown",
      "metadata": {
        "id": "d5dt4143kZLv"
      },
      "source": [
        "## Jupyter Notebooks\n",
        "\n",
        "We will use Jupyter Notebooks during the whole semester.\n",
        "\n",
        "*   Jupyter Notebooks are composed of cells that can contain text (like this cell), images, LaTex, **code**,...\n",
        "*   Connects to a Python runtime environment in the background to execute code\n",
        "\n",
        "\n"
      ]
    },
    {
      "cell_type": "markdown",
      "metadata": {
        "id": "Syh7AHl3oo7I"
      },
      "source": [
        "## 1) Python Intro\n",
        "### Numpy Arrays"
      ]
    },
    {
      "cell_type": "code",
      "metadata": {
        "id": "E_Vk6_2boo7J"
      },
      "source": [
        "import numpy as np"
      ],
      "execution_count": null,
      "outputs": []
    },
    {
      "cell_type": "code",
      "metadata": {
        "colab": {
          "base_uri": "https://localhost:8080/"
        },
        "id": "wPAMorYioo7K",
        "outputId": "fea25674-7bee-4acc-ba85-652d2974f82d"
      },
      "source": [
        "a = np.array([[1, 2, 3], [4, 5, 6]])\n",
        "print('Visualize the array: ')\n",
        "print(a)\n",
        "print('Number of elements in the array: ', a.size)\n",
        "print('Shape of the array: ', a.shape)\n",
        "print('Data type of the array: ', a.dtype)"
      ],
      "execution_count": null,
      "outputs": [
        {
          "name": "stdout",
          "output_type": "stream",
          "text": [
            "Visualize the array: \n",
            "[[1 2 3]\n",
            " [4 5 6]]\n",
            "Number of elements in the array:  6\n",
            "Shape of the array:  (2, 3)\n",
            "Data type of the array:  int64\n"
          ]
        }
      ]
    },
    {
      "cell_type": "code",
      "metadata": {
        "colab": {
          "base_uri": "https://localhost:8080/"
        },
        "id": "GImA-Jkioo7L",
        "outputId": "09cf6b2c-d5b7-4b76-9235-e528140d5f59"
      },
      "source": [
        "a = np.array([[1., 2., 3.], [4., 5., 6.]])\n",
        "a.dtype"
      ],
      "execution_count": null,
      "outputs": [
        {
          "data": {
            "text/plain": [
              "dtype('float64')"
            ]
          },
          "execution_count": 3,
          "metadata": {},
          "output_type": "execute_result"
        }
      ]
    },
    {
      "cell_type": "markdown",
      "metadata": {
        "id": "Nnh5P7wboo7L"
      },
      "source": [
        "#### Indexing, Slicing, Reshaping"
      ]
    },
    {
      "cell_type": "code",
      "metadata": {
        "colab": {
          "base_uri": "https://localhost:8080/"
        },
        "id": "pkrPQyxFoo7M",
        "outputId": "9d52a612-6f30-4d1b-e315-527c41ea31c9"
      },
      "source": [
        "print('Access a single element: ', a[1,2])\n",
        "print('Access a row: ', a[0,:])\n",
        "print('Access a column: ', a[:,1])"
      ],
      "execution_count": null,
      "outputs": [
        {
          "name": "stdout",
          "output_type": "stream",
          "text": [
            "Access a single element:  6.0\n",
            "Access a row:  [1. 2. 3.]\n",
            "Access a column:  [2. 5.]\n"
          ]
        }
      ]
    },
    {
      "cell_type": "code",
      "metadata": {
        "colab": {
          "base_uri": "https://localhost:8080/"
        },
        "id": "AF4l1s_Aoo7N",
        "outputId": "c001bc7a-26cd-40b0-8ab6-620a8cac79ed"
      },
      "source": [
        "print(np.reshape(a, (3,2)))\n",
        "print(np.reshape(a, (-1,6)))"
      ],
      "execution_count": null,
      "outputs": [
        {
          "name": "stdout",
          "output_type": "stream",
          "text": [
            "[[1. 2.]\n",
            " [3. 4.]\n",
            " [5. 6.]]\n",
            "[[1. 2. 3. 4. 5. 6.]]\n"
          ]
        }
      ]
    },
    {
      "cell_type": "markdown",
      "metadata": {
        "id": "epaD0NZaoo7N"
      },
      "source": [
        "#### Passing by reference"
      ]
    },
    {
      "cell_type": "code",
      "metadata": {
        "colab": {
          "base_uri": "https://localhost:8080/"
        },
        "id": "fsdnqGGEoo7N",
        "outputId": "25261851-9182-4347-e46d-6b52c58905ba"
      },
      "source": [
        "print('Array a before reference: ', a)\n",
        "b = a[:,0]\n",
        "b[:] = 8\n",
        "print('Array a after reference: ', a)\n",
        "\n"
      ],
      "execution_count": null,
      "outputs": [
        {
          "name": "stdout",
          "output_type": "stream",
          "text": [
            "Array a before reference:  [[1. 2. 3.]\n",
            " [4. 5. 6.]]\n",
            "Array a after reference:  [[8. 2. 3.]\n",
            " [8. 5. 6.]]\n"
          ]
        }
      ]
    },
    {
      "cell_type": "code",
      "metadata": {
        "colab": {
          "base_uri": "https://localhost:8080/"
        },
        "id": "MGVr5pYroo7O",
        "outputId": "e9a50e57-a968-47f8-e444-bfec33adc26d"
      },
      "source": [
        "# if real copies are needed\n",
        "a[:,0] = [1, 4] \n",
        "b = a[:,0].copy()\n",
        "b[:] = 8\n",
        "print(a)"
      ],
      "execution_count": null,
      "outputs": [
        {
          "name": "stdout",
          "output_type": "stream",
          "text": [
            "[[1. 2. 3.]\n",
            " [4. 5. 6.]]\n"
          ]
        }
      ]
    },
    {
      "cell_type": "markdown",
      "metadata": {
        "id": "ZtQXmW-Coo7O"
      },
      "source": [
        "### Loops and conditions\n",
        "Be careful of the 0-indexing!"
      ]
    },
    {
      "cell_type": "code",
      "metadata": {
        "colab": {
          "base_uri": "https://localhost:8080/"
        },
        "id": "T50V7R5Goo7O",
        "scrolled": true,
        "outputId": "6cc42208-e134-43e4-cb40-d0c91f21f26e"
      },
      "source": [
        "for i in range(5):\n",
        "    print(i)"
      ],
      "execution_count": null,
      "outputs": [
        {
          "name": "stdout",
          "output_type": "stream",
          "text": [
            "0\n",
            "1\n",
            "2\n",
            "3\n",
            "4\n"
          ]
        }
      ]
    },
    {
      "cell_type": "code",
      "metadata": {
        "colab": {
          "base_uri": "https://localhost:8080/"
        },
        "id": "Bl72xXRboo7P",
        "outputId": "41169a49-bfc7-43cf-94ca-9baeddf4a9c4"
      },
      "source": [
        "if a[0,0]==0:\n",
        "    print('first element is zero')\n",
        "elif a[0,0]==1:\n",
        "    print('first element is one')\n",
        "else:\n",
        "    print('first element is nor zero nor one')\n",
        "    "
      ],
      "execution_count": null,
      "outputs": [
        {
          "name": "stdout",
          "output_type": "stream",
          "text": [
            "first element is one\n"
          ]
        }
      ]
    },
    {
      "cell_type": "markdown",
      "metadata": {
        "id": "OLOlEPTWoo7P"
      },
      "source": [
        "### Print formatting\n",
        "It is important to have feedback from the code."
      ]
    },
    {
      "cell_type": "code",
      "metadata": {
        "colab": {
          "base_uri": "https://localhost:8080/"
        },
        "id": "R_d3AE09oo7P",
        "outputId": "cf3d9db2-1cdd-4663-99c8-98e550dbf068"
      },
      "source": [
        "n = 10\n",
        "m = 3\n",
        "print('The result of the division between {:d} and {:d} is {:.2f}.'.format(n,m,n/m))\n",
        "print(f'The result of the division between {n :d} and {m :d} is {n/m :.2f}.')"
      ],
      "execution_count": null,
      "outputs": [
        {
          "name": "stdout",
          "output_type": "stream",
          "text": [
            "The result of the division between 10 and 3 is 3.33.\n",
            "The result of the division between 10 and 3 is 3.33.\n"
          ]
        }
      ]
    },
    {
      "cell_type": "markdown",
      "metadata": {
        "id": "jzBGogXaoo7Q"
      },
      "source": [
        "### Plotting"
      ]
    },
    {
      "cell_type": "code",
      "metadata": {
        "id": "luVqieDwoo7Q"
      },
      "source": [
        "import matplotlib.pyplot as plt"
      ],
      "execution_count": null,
      "outputs": []
    },
    {
      "cell_type": "markdown",
      "metadata": {
        "id": "Pwz-sKTzoo7Q"
      },
      "source": [
        "#### Signal time plot"
      ]
    },
    {
      "cell_type": "code",
      "metadata": {
        "colab": {
          "base_uri": "https://localhost:8080/",
          "height": 296
        },
        "id": "mH8It1GMoo7Q",
        "outputId": "3c61cdcc-effc-4465-f3ae-225d92f892c4"
      },
      "source": [
        "t = np.arange(0,10,0.1)\n",
        "y = np.sin(t)\n",
        "plt.plot(t,y, label='y=sin(t)')\n",
        "plt.grid()\n",
        "plt.xlabel('time t')\n",
        "plt.legend()"
      ],
      "execution_count": null,
      "outputs": [
        {
          "data": {
            "text/plain": [
              "<matplotlib.legend.Legend at 0x7fbad7885750>"
            ]
          },
          "execution_count": 12,
          "metadata": {},
          "output_type": "execute_result"
        },
        {
          "data": {
            "image/png": "[encoded data removed]",
            "text/plain": [
              "<Figure size 432x288 with 1 Axes>"
            ]
          },
          "metadata": {},
          "output_type": "display_data"
        }
      ]
    },
    {
      "cell_type": "markdown",
      "metadata": {
        "id": "q_cD0bT4oo7R"
      },
      "source": [
        "#### Constellation scatterplot"
      ]
    },
    {
      "cell_type": "code",
      "metadata": {
        "colab": {
          "base_uri": "https://localhost:8080/",
          "height": 265
        },
        "id": "4YDYLdwyoo7R",
        "outputId": "fcd23ba9-8756-4157-890a-3342f7eddcd8"
      },
      "source": [
        "constellation = [1+1j, -1+1j, -1-1j, 1-1j]\n",
        "x = np.random.choice(constellation, 1000)\n",
        "noise = np.random.normal(0, 0.2, size=(1000,)) +  1j* np.random.normal(0, 0.2, size=(1000,))\n",
        "y = x + noise\n",
        "plt.scatter(np.real(y), np.imag(y))\n",
        "plt.scatter(np.real(x), np.imag(x), color='r')\n",
        "plt.grid()"
      ],
      "execution_count": null,
      "outputs": [
        {
          "data": {
            "image/png": "[encoded data removed]",
            "text/plain": [
              "<Figure size 432x288 with 1 Axes>"
            ]
          },
          "metadata": {},
          "output_type": "display_data"
        }
      ]
    },
    {
      "cell_type": "markdown",
      "metadata": {
        "id": "FiL3-dhuoo7R"
      },
      "source": [
        "#### Histogram"
      ]
    },
    {
      "cell_type": "code",
      "metadata": {
        "colab": {
          "base_uri": "https://localhost:8080/",
          "height": 265
        },
        "id": "VMZQRiBRoo7R",
        "outputId": "965ffec9-310a-4022-c292-cef4a32f9797"
      },
      "source": [
        "x = np.random.normal(0,1,100000)\n",
        "plt.hist(x, bins=30);\n",
        "plt.grid()\n"
      ],
      "execution_count": null,
      "outputs": [
        {
          "data": {
            "image/png": "[encoded data removed]",
            "text/plain": [
              "<Figure size 432x288 with 1 Axes>"
            ]
          },
          "metadata": {},
          "output_type": "display_data"
        }
      ]
    },
    {
      "cell_type": "markdown",
      "metadata": {
        "id": "uZILepF7oo7S"
      },
      "source": [
        "## 2) Pytorch Intro\n",
        "Let's look at some basic manipulations of tensors."
      ]
    },
    {
      "cell_type": "code",
      "metadata": {
        "id": "bX4_trDHoo7S"
      },
      "source": [
        "import torch"
      ],
      "execution_count": null,
      "outputs": []
    },
    {
      "cell_type": "code",
      "metadata": {
        "colab": {
          "base_uri": "https://localhost:8080/"
        },
        "id": "lz0kJg30oo7S",
        "outputId": "ab24ca3c-848b-4fba-d7d3-c73c40f2333e"
      },
      "source": [
        "a = torch.tensor([5., 3.])\n",
        "print(a)\n",
        "print(a.dtype)"
      ],
      "execution_count": null,
      "outputs": [
        {
          "name": "stdout",
          "output_type": "stream",
          "text": [
            "tensor([5., 3.])\n",
            "torch.float32\n"
          ]
        }
      ]
    },
    {
      "cell_type": "markdown",
      "metadata": {
        "id": "19qeKiFsoo7S"
      },
      "source": [
        "32-bit floating point numbers is the default data type in Pytorch. If desired, it can be overwritten."
      ]
    },
    {
      "cell_type": "code",
      "metadata": {
        "colab": {
          "base_uri": "https://localhost:8080/"
        },
        "id": "N5EuCc_Ioo7T",
        "outputId": "4b32c470-e483-4895-9ac7-c3863ea34eea"
      },
      "source": [
        "a = torch.tensor([5, 3], dtype=torch.int16)\n",
        "print(a)"
      ],
      "execution_count": null,
      "outputs": [
        {
          "name": "stdout",
          "output_type": "stream",
          "text": [
            "tensor([5, 3], dtype=torch.int16)\n"
          ]
        }
      ]
    },
    {
      "cell_type": "markdown",
      "metadata": {
        "id": "EgePpfOloo7T"
      },
      "source": [
        "#### Pass by reference\n",
        "Numpy's ndarrays and Pytorch's tensors are highly compatible and it is easy to switch between them. \n",
        "This is a way to create an object with the same undelying memory. This means that chenges to the new tensor are reflected to the ndarray."
      ]
    },
    {
      "cell_type": "code",
      "metadata": {
        "colab": {
          "base_uri": "https://localhost:8080/"
        },
        "id": "YuTG9VaKoo7T",
        "outputId": "d8365a7f-58d1-46de-f28e-7b26ba1aab55"
      },
      "source": [
        "a = np.array([[1,2],[3,4]])\n",
        "print(a)\n",
        "b = torch.from_numpy(a[:,0])\n",
        "print(b)\n",
        "b[:] = 8\n",
        "print(a)"
      ],
      "execution_count": null,
      "outputs": [
        {
          "name": "stdout",
          "output_type": "stream",
          "text": [
            "[[1 2]\n",
            " [3 4]]\n",
            "tensor([1, 3])\n",
            "[[8 2]\n",
            " [8 4]]\n"
          ]
        }
      ]
    },
    {
      "cell_type": "markdown",
      "metadata": {
        "id": "0NPNEl-Goo7T"
      },
      "source": [
        "The conversion works also in the other direction, with the same rule.\n"
      ]
    },
    {
      "cell_type": "code",
      "metadata": {
        "colab": {
          "base_uri": "https://localhost:8080/"
        },
        "id": "JXjeakPioo7T",
        "outputId": "4d04acb9-988f-4a83-c602-c9cade88aa7b"
      },
      "source": [
        "b = torch.rand(2,3)\n",
        "print(b)\n",
        "a = b.numpy()\n",
        "print(a)"
      ],
      "execution_count": null,
      "outputs": [
        {
          "name": "stdout",
          "output_type": "stream",
          "text": [
            "tensor([[0.7598, 0.4796, 0.4333],\n",
            "        [0.4386, 0.6542, 0.6171]])\n",
            "[[0.7598103  0.4795537  0.43333578]\n",
            " [0.4385661  0.6541998  0.61712897]]\n"
          ]
        }
      ]
    },
    {
      "cell_type": "markdown",
      "metadata": {
        "id": "PpzMmh07oo7U"
      },
      "source": [
        "#### Copy from NumPy\n",
        "If we do not wish the two objects to use the same undelying memory, torch.tensor() creates a copy of the data."
      ]
    },
    {
      "cell_type": "code",
      "metadata": {
        "colab": {
          "base_uri": "https://localhost:8080/"
        },
        "id": "CLdTfHiLoo7U",
        "outputId": "e15e572e-6617-4f6b-bc7e-557fd0744161"
      },
      "source": [
        "a = np.array([[1,2],[3,4]])\n",
        "b = torch.tensor(a)\n",
        "print(b)\n",
        "b[0,0]=8\n",
        "print(a)"
      ],
      "execution_count": null,
      "outputs": [
        {
          "name": "stdout",
          "output_type": "stream",
          "text": [
            "tensor([[1, 2],\n",
            "        [3, 4]])\n",
            "[[1 2]\n",
            " [3 4]]\n"
          ]
        }
      ]
    },
    {
      "cell_type": "markdown",
      "metadata": {
        "id": "X9A7y-yAoo7U"
      },
      "source": [
        "#### Maths \n",
        "Tensors performs mathematic and arithmetic operations intuitively, and very similar to Numpy."
      ]
    },
    {
      "cell_type": "code",
      "metadata": {
        "colab": {
          "base_uri": "https://localhost:8080/"
        },
        "id": "aqFyd-tsoo7U",
        "outputId": "580d38c0-c638-430a-a2da-cbfe3b59dd56"
      },
      "source": [
        "ones = torch.ones(2,3)\n",
        "print(ones)\n",
        "twos = ones * 2\n",
        "print(twos)\n",
        "threes = ones + twos\n",
        "print(threes)"
      ],
      "execution_count": null,
      "outputs": [
        {
          "name": "stdout",
          "output_type": "stream",
          "text": [
            "tensor([[1., 1., 1.],\n",
            "        [1., 1., 1.]])\n",
            "tensor([[2., 2., 2.],\n",
            "        [2., 2., 2.]])\n",
            "tensor([[3., 3., 3.],\n",
            "        [3., 3., 3.]])\n"
          ]
        }
      ]
    },
    {
      "cell_type": "code",
      "metadata": {
        "colab": {
          "base_uri": "https://localhost:8080/"
        },
        "id": "B5uJCK2qoo7U",
        "outputId": "ceffc649-30f4-4903-dd7c-34b7d96b5059"
      },
      "source": [
        "m = torch.rand((10,10)) # matrix of random numbers between 0 and 1\n",
        "print('Max value of the matrix: ', torch.max(m))\n",
        "print('Mean value of the matrix: ', torch.mean(m))\n",
        "print('Determinant of the matrix: ', torch.det(m))"
      ],
      "execution_count": null,
      "outputs": [
        {
          "name": "stdout",
          "output_type": "stream",
          "text": [
            "Max value of the matrix:  tensor(0.9996)\n",
            "Mean value of the matrix:  tensor(0.5248)\n",
            "Determinant of the matrix:  tensor(0.0047)\n"
          ]
        }
      ]
    },
    {
      "cell_type": "markdown",
      "metadata": {
        "id": "fK9NdEiMTnAV"
      },
      "source": [
        "## 3) Equalizer example"
      ]
    },
    {
      "cell_type": "code",
      "metadata": {
        "id": "s7de147xoo7U"
      },
      "source": [
        "from torch import nn, optim\n",
        "import matplotlib.pyplot as plt"
      ],
      "execution_count": null,
      "outputs": []
    },
    {
      "cell_type": "code",
      "metadata": {
        "id": "Tf6OcDDSoo7V"
      },
      "source": [
        "def downsample_td(signal, down):\n",
        "    assert len(signal.shape)==2, 'signal format [number_dimensions][signal_length] expected'\n",
        "    return down * signal[:, ::down]"
      ],
      "execution_count": null,
      "outputs": []
    },
    {
      "cell_type": "code",
      "metadata": {
        "id": "GSs_8vP4oo7V"
      },
      "source": [
        "# Initialize Filter\n",
        "num_taps = 41\n",
        "nn_filter = nn.Conv1d (in_channels=1 ,\n",
        "                       out_channels=1 ,\n",
        "                       kernel_size=num_taps,\n",
        "                       padding='same' )"
      ],
      "execution_count": null,
      "outputs": []
    },
    {
      "cell_type": "code",
      "metadata": {
        "id": "ibr1w-uDPlXO"
      },
      "source": [
        "# Import data\n",
        "# https://drive.google.com/file/d/18wBNg-3RH0waZ-PhJAsrS99PrqOODKYU/view?usp=sharing\n",
        "# https://drive.google.com/file/d/1a3f16dFKTgr_K7zKCZfLIaZYfAz0__Cd/view?usp=sharing\n",
        "!wget -O x.txt \"https://drive.google.com/uc?export=download&id=18wBNg-3RH0waZ-PhJAsrS99PrqOODKYU\"\n",
        "!wget -O y.txt \"https://drive.google.com/uc?export=download&id=1a3f16dFKTgr_K7zKCZfLIaZYfAz0__Cd\""
      ],
      "execution_count": null,
      "outputs": []
    },
    {
      "cell_type": "code",
      "metadata": {
        "id": "Lw8kIEuaoo7V"
      },
      "source": [
        "# Prepare data\n",
        "x = np.loadtxt('x.txt')\n",
        "y = np.loadtxt('y.txt')\n",
        "y_t = torch.Tensor(y.reshape(1, 1, -1))\n",
        "x_t = torch.Tensor(x.reshape(1, -1))"
      ],
      "execution_count": null,
      "outputs": []
    },
    {
      "cell_type": "code",
      "metadata": {
        "id": "z-YJDuQtoo7V"
      },
      "source": [
        "# Define loss function and optimizer\n",
        "loss_fn = nn.MSELoss()\n",
        "optimizer = optim.Adam(nn_filter.parameters())"
      ],
      "execution_count": null,
      "outputs": []
    },
    {
      "cell_type": "code",
      "metadata": {
        "colab": {
          "base_uri": "https://localhost:8080/"
        },
        "id": "zOyVHAHMoo7V",
        "outputId": "da321238-235d-444d-bdad-b509767425b4"
      },
      "source": [
        "[p for p in nn_filter.parameters()]"
      ],
      "execution_count": null,
      "outputs": [
        {
          "data": {
            "text/plain": [
              "[Parameter containing:\n",
              " tensor([[[-0.0915, -0.0672,  0.1162, -0.0096,  0.0467, -0.0532,  0.0950,\n",
              "            0.0317,  0.0370,  0.0816,  0.0726,  0.1291, -0.1491,  0.0263,\n",
              "            0.0865, -0.0144,  0.1137,  0.0994,  0.0476,  0.0522,  0.1515,\n",
              "            0.0393,  0.1072, -0.0954, -0.0184,  0.0281,  0.1027,  0.0609,\n",
              "           -0.0068, -0.1115,  0.0298, -0.1194, -0.0857, -0.0471,  0.0232,\n",
              "            0.1438,  0.0049,  0.0479,  0.0229, -0.0221,  0.0255]]],\n",
              "        requires_grad=True), Parameter containing:\n",
              " tensor([-0.0320], requires_grad=True)]"
            ]
          },
          "execution_count": 28,
          "metadata": {},
          "output_type": "execute_result"
        }
      ]
    },
    {
      "cell_type": "code",
      "metadata": {
        "colab": {
          "background_save": true,
          "base_uri": "https://localhost:8080/"
        },
        "id": "SpRt0vKSoo7V",
        "outputId": "d570172e-daaf-493e-dc72-9a80d9dd6dd9"
      },
      "source": [
        "# Trainings loop\n",
        "for j in range(1000):\n",
        "    x_hat = nn_filter(y_t).reshape(1, -1)\n",
        "    x_hat = downsample_td(x_hat, 2)\n",
        "    loss = loss_fn(x_hat, x_t)\n",
        "    optimizer.zero_grad()\n",
        "    loss.backward()\n",
        "    optimizer.step()\n",
        "    \n",
        "    if j % 50 == 0:\n",
        "        print(f'epoch {j}: Loss = {loss.detach().numpy() :.4f}')"
      ],
      "execution_count": null,
      "outputs": [
        {
          "name": "stdout",
          "output_type": "stream",
          "text": [
            "epoch 0: Loss = 4.8101\n",
            "epoch 50: Loss = 2.6190\n",
            "epoch 100: Loss = 1.5170\n",
            "epoch 150: Loss = 0.9038\n",
            "epoch 200: Loss = 0.5273\n",
            "epoch 250: Loss = 0.2967\n",
            "epoch 300: Loss = 0.1613\n",
            "epoch 350: Loss = 0.0851\n",
            "epoch 400: Loss = 0.0439\n",
            "epoch 450: Loss = 0.0224\n",
            "epoch 500: Loss = 0.0114\n",
            "epoch 550: Loss = 0.0060\n",
            "epoch 600: Loss = 0.0033\n",
            "epoch 650: Loss = 0.0021\n",
            "epoch 700: Loss = 0.0015\n",
            "epoch 750: Loss = 0.0012\n",
            "epoch 800: Loss = 0.0010\n",
            "epoch 850: Loss = 0.0009\n",
            "epoch 900: Loss = 0.0009\n",
            "epoch 950: Loss = 0.0008\n"
          ]
        }
      ]
    },
    {
      "cell_type": "code",
      "metadata": {
        "colab": {
          "background_save": true
        },
        "id": "yrDaMx9aoo7W",
        "outputId": "f4f7a0fa-345c-4f98-e865-0c43bf820b6b"
      },
      "source": [
        "plt.hist(downsample_td(y.reshape(1,-1), 2).reshape(-1), bins=np.arange(-5, 5, 0.1))\n",
        "plt.grid()"
      ],
      "execution_count": null,
      "outputs": [
        {
          "data": {
            "image/png": "[encoded data removed]",
            "text/plain": [
              "<Figure size 432x288 with 1 Axes>"
            ]
          },
          "metadata": {},
          "output_type": "display_data"
        }
      ]
    },
    {
      "cell_type": "code",
      "metadata": {
        "colab": {
          "background_save": true
        },
        "id": "y_2tv8AIoo7W",
        "outputId": "31c9b164-f390-4f2b-b2dc-92c485376cc6"
      },
      "source": [
        "plt.hist(x_hat.detach().numpy().reshape(-1), bins=np.arange(-5, 5, 0.1));\n",
        "plt.grid()"
      ],
      "execution_count": null,
      "outputs": [
        {
          "data": {
            "image/png": "[encoded data removed]",
            "text/plain": [
              "<Figure size 432x288 with 1 Axes>"
            ]
          },
          "metadata": {},
          "output_type": "display_data"
        }
      ]
    },
    {
      "cell_type": "code",
      "metadata": {
        "colab": {
          "background_save": true
        },
        "id": "V_Fg9Xm3oo7W"
      },
      "source": [
        ""
      ],
      "execution_count": null,
      "outputs": []
    },
    {
      "cell_type": "code",
      "metadata": {
        "colab": {
          "background_save": true
        },
        "id": "2HB2bkhioo7W"
      },
      "source": [
        ""
      ],
      "execution_count": null,
      "outputs": []
    }
  ]
}