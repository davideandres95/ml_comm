{
  "nbformat": 4,
  "nbformat_minor": 5,
  "metadata": {
    "kernelspec": {
      "display_name": "Python 3 (ipykernel)",
      "language": "python",
      "name": "python3"
    },
    "language_info": {
      "codemirror_mode": {
        "name": "ipython",
        "version": 3
      },
      "file_extension": ".py",
      "mimetype": "text/x-python",
      "name": "python",
      "nbconvert_exporter": "python",
      "pygments_lexer": "ipython3",
      "version": "3.9.2"
    },
    "colab": {
      "name": "tut02.ipynb",
      "provenance": [],
      "collapsed_sections": [],
      "include_colab_link": true
    }
  },
  "cells": [
    {
      "cell_type": "markdown",
      "metadata": {
        "id": "view-in-github",
        "colab_type": "text"
      },
      "source": [
        "<a href=\"https://colab.research.google.com/github/davideandres95/ml_comm/blob/main/tut02.ipynb\" target=\"_parent\"><img src=\"https://colab.research.google.com/assets/colab-badge.svg\" alt=\"Open In Colab\"/></a>"
      ]
    },
    {
      "cell_type": "markdown",
      "metadata": {
        "id": "b263251f"
      },
      "source": [
        "#  Tutorial 2: Information Measures and Nonlinear Equalizer\n",
        "October 28, 2021\n",
        "\n",
        "\n",
        "## Table of Contents\n",
        "\n",
        "\n",
        "*   1) Information Measures: \n",
        "*   2) How to build a NN in Pytorch:\n",
        "*   3) Equalizer Example"
      ],
      "id": "b263251f"
    },
    {
      "cell_type": "code",
      "metadata": {
        "id": "c5fc5ffc"
      },
      "source": [
        "import numpy as np\n",
        "\n",
        "import torch\n",
        "from torch import nn, optim\n",
        "import matplotlib.pyplot as plt"
      ],
      "id": "c5fc5ffc",
      "execution_count": null,
      "outputs": []
    },
    {
      "cell_type": "markdown",
      "metadata": {
        "id": "9c228a16"
      },
      "source": [
        "## 1) Information Measures \n",
        "### Expectation\n",
        "\n",
        " $$E[f(X)] = \\sum_{a\\in \\chi}P_X(a)f(a) \\approx \\frac{1}{n} \\sum_{i=1}^n f(x_i)$$\n"
      ],
      "id": "9c228a16"
    },
    {
      "cell_type": "code",
      "metadata": {
        "id": "fe27676d",
        "outputId": "3b9a7d82-f51b-448f-80e6-10c59a15d13c"
      },
      "source": [
        "pX = np.array( [0.5, 0.5])\n",
        "chi = np.array([-1,1])\n",
        "print('Theoretical expectation')\n",
        "print(np.dot(pX, chi))\n",
        "print('Empirical expectation as n grows larger:')\n",
        "for n in (100,1000,10000,100000,100000):\n",
        "    x = np.random.choice(chi, n, p=pX)\n",
        "    print(np.mean(x))\n",
        "    \n"
      ],
      "id": "fe27676d",
      "execution_count": null,
      "outputs": [
        {
          "name": "stdout",
          "output_type": "stream",
          "text": [
            "Theoretical expectation\n",
            "0.0\n",
            "Empirical expectation as n grows larger:\n",
            "-0.06\n",
            "-0.002\n",
            "0.003\n",
            "-0.00324\n",
            "-0.0038\n"
          ]
        }
      ]
    },
    {
      "cell_type": "markdown",
      "metadata": {
        "id": "766e5257"
      },
      "source": [
        "### Entropy\n",
        " $$ H(X) = \\sum_{a\\in supp(P_X)} - P_X(a)\\log_2 P_X(a) = E [-\\log_2 P_X(X)]\\approx - \\frac{1}{n} \\sum_{i=1}^n \\log_2 P_X(x_i) $$"
      ],
      "id": "766e5257"
    },
    {
      "cell_type": "code",
      "metadata": {
        "id": "ad75ffcf",
        "outputId": "add656c9-94b9-4373-c829-e08b430369ec"
      },
      "source": [
        "pX = np.array([.1, .4, .4, .1]) \n",
        "chi = np.array([1,2,3,4])\n",
        "entropy_teory = np.dot(-pX, np.log2(pX))\n",
        "print(f'Theretical entropy: {entropy_teory:.3f}')\n",
        "for n in (100, 1000, 1000000):\n",
        "    x = np.random.choice(chi, n, p=pX)\n",
        "    entropy = 0\n",
        "    for i in chi:\n",
        "        count = np.count_nonzero(x==i)\n",
        "        pX_empirical = count / n\n",
        "        entropy += -(count) * np.log2(pX_empirical) \n",
        "    \n",
        "    entropy = entropy/n\n",
        "    print(f'Empitrical entropy with {n} samples: {entropy}')\n",
        "    \n"
      ],
      "id": "ad75ffcf",
      "execution_count": null,
      "outputs": [
        {
          "name": "stdout",
          "output_type": "stream",
          "text": [
            "Theretical entropy: 1.722\n",
            "Empitrical entropy with 100 samples: 1.7663232400493831\n",
            "Empitrical entropy with 1000 samples: 1.696712365050515\n",
            "Empitrical entropy with 1000000 samples: 1.72095820076875\n"
          ]
        }
      ]
    },
    {
      "cell_type": "markdown",
      "metadata": {
        "id": "7e3d4c7e"
      },
      "source": [
        "## 2) Defining Neural Networks\n",
        "In the following, we show two methods to create NNs in Pytorch.\n",
        "### 1. nn.Sequential\n",
        "We use nn.Sequential to create simple sequential NNs."
      ],
      "id": "7e3d4c7e"
    },
    {
      "cell_type": "code",
      "metadata": {
        "id": "48c039bc",
        "outputId": "f975c579-e786-46ba-fb3e-46b1e1372c0c"
      },
      "source": [
        "net_seq = nn.Sequential(nn.Linear(1,4),\n",
        "                    nn.ReLU(),\n",
        "                    nn.Linear(4,4),\n",
        "                    nn.ReLU(),\n",
        "                    nn.Linear(4,1),\n",
        "                    nn.Sigmoid())\n",
        "\n",
        "\n",
        "print(net_seq)\n",
        "print(net_seq[2])\n",
        "print(net_seq.parameters)"
      ],
      "id": "48c039bc",
      "execution_count": null,
      "outputs": [
        {
          "name": "stdout",
          "output_type": "stream",
          "text": [
            "Sequential(\n",
            "  (0): Linear(in_features=1, out_features=4, bias=True)\n",
            "  (1): ReLU()\n",
            "  (2): Linear(in_features=4, out_features=4, bias=True)\n",
            "  (3): ReLU()\n",
            "  (4): Linear(in_features=4, out_features=1, bias=True)\n",
            "  (5): Sigmoid()\n",
            ")\n",
            "Linear(in_features=4, out_features=4, bias=True)\n",
            "<bound method Module.parameters of Sequential(\n",
            "  (0): Linear(in_features=1, out_features=4, bias=True)\n",
            "  (1): ReLU()\n",
            "  (2): Linear(in_features=4, out_features=4, bias=True)\n",
            "  (3): ReLU()\n",
            "  (4): Linear(in_features=4, out_features=1, bias=True)\n",
            "  (5): Sigmoid()\n",
            ")>\n"
          ]
        }
      ]
    },
    {
      "cell_type": "markdown",
      "metadata": {
        "id": "595dbb2b"
      },
      "source": [
        "### NN as subclass of nn.Module\n",
        "We create our NN as a subclass of nn.Module. This gives us more flexibility in network design.\n",
        "* Create NN as child class of nn.Module\n",
        "* Use super() to inherit all the methods and properties from the partent class\n",
        "* Define learnable parameters and forward propagation"
      ],
      "id": "595dbb2b"
    },
    {
      "cell_type": "code",
      "metadata": {
        "id": "80a9cbcd",
        "outputId": "d6f523a3-2ec7-4e3b-d55c-07b2131e2164"
      },
      "source": [
        "class Net(nn.Module):\n",
        "    def __init__(self,num_units=4,with_sigmoid=True):\n",
        "        print('creating NN with one hidden layer and {:d} units'.format(num_units))\n",
        "        super().__init__()\n",
        "        self.h1 = nn.Linear(1,num_units,bias=True)\n",
        "        self.h2 = nn.Linear(num_units,num_units,bias=True)\n",
        "        self.out = nn.Linear(num_units, 1, bias = False)\n",
        "        self.act_h1 = nn.ReLU()\n",
        "        self.act_h2 = nn.ReLU()\n",
        "        if with_sigmoid:\n",
        "            self.act_out = nn.Sigmoid()\n",
        "        else:\n",
        "            self.act_out = nn.Identity()\n",
        "        \n",
        "    def forward(self,x):\n",
        "        x = self.act_h1(self.h1(x))\n",
        "        x = self.act_h2(self.h2(x))\n",
        "        x = self.act_out(self.out(x))\n",
        "        return x\n",
        "    \n",
        "net = Net()\n",
        "print(net)\n",
        "print(net.parameters)"
      ],
      "id": "80a9cbcd",
      "execution_count": null,
      "outputs": [
        {
          "name": "stdout",
          "output_type": "stream",
          "text": [
            "creating NN with one hidden layer and 4 units\n",
            "Net(\n",
            "  (h1): Linear(in_features=1, out_features=4, bias=True)\n",
            "  (h2): Linear(in_features=4, out_features=4, bias=True)\n",
            "  (out): Linear(in_features=4, out_features=1, bias=False)\n",
            "  (act_h1): ReLU()\n",
            "  (act_h2): ReLU()\n",
            "  (act_out): Sigmoid()\n",
            ")\n",
            "<bound method Module.parameters of Net(\n",
            "  (h1): Linear(in_features=1, out_features=4, bias=True)\n",
            "  (h2): Linear(in_features=4, out_features=4, bias=True)\n",
            "  (out): Linear(in_features=4, out_features=1, bias=False)\n",
            "  (act_h1): ReLU()\n",
            "  (act_h2): ReLU()\n",
            "  (act_out): Sigmoid()\n",
            ")>\n"
          ]
        }
      ]
    },
    {
      "cell_type": "markdown",
      "metadata": {
        "id": "7ffaff6a"
      },
      "source": [
        "## 3) Equalizer Example"
      ],
      "id": "7ffaff6a"
    },
    {
      "cell_type": "code",
      "metadata": {
        "id": "c556aa13"
      },
      "source": [
        "# Downsampling \n",
        "def downsample_td(signal, down):\n",
        "    assert len(signal.shape)==2, 'signal format [number_dimensions][signal_length] expected'\n",
        "    return down * signal[:, ::down]\n",
        "\n",
        "# Tensor to Numpy\n",
        "def t2n(x):\n",
        "    return x.reshape(-1).detach().numpy()\n",
        "\n",
        "# Sliding window \n",
        "def getchunks(x, num_taps):\n",
        "    x = x.reshape(-1, 1)\n",
        "    chunks = torch.zeros(x.shape[0], num_taps)\n",
        "    for j in range(num_taps):\n",
        "        chunks[:, j:j+1] = torch.roll(x, j - num_taps//2)\n",
        "    return chunks\n"
      ],
      "id": "c556aa13",
      "execution_count": null,
      "outputs": []
    },
    {
      "cell_type": "code",
      "metadata": {
        "id": "76f22b36"
      },
      "source": [
        "# Define Neural Newtwork \n",
        "class EQ(nn.Module):\n",
        "    def __init__(self, num_taps):\n",
        "        super().__init__()\n",
        "        self.num_taps = num_taps\n",
        "        self.lin1 = nn.Linear(num_taps, 50)\n",
        "        self.act1 = nn.ReLU()\n",
        "        self.lin2 = nn.Linear(50, 50)\n",
        "        self.act2 = nn.ReLU()\n",
        "        self.lin3 = nn.Linear(50, 50)\n",
        "        self.act3 = nn.ReLU()\n",
        "        self.lin4 = nn.Linear(50, 1)\n",
        "\n",
        "    def forward(self, y):\n",
        "        y = getchunks(y, self.num_taps)\n",
        "        y = self.act1(self.lin1(y))\n",
        "        y = self.act2(self.lin2(y))\n",
        "        y = self.act3(self.lin3(y))\n",
        "        return self.lin4(y)"
      ],
      "id": "76f22b36",
      "execution_count": null,
      "outputs": []
    },
    {
      "cell_type": "code",
      "metadata": {
        "id": "Xrplmn2DpTKT"
      },
      "source": [
        "# Load data\n",
        "# https://drive.google.com/file/d/1LnsauugyC7-iK4EVlqghaEGZTPd6dfWG/view?usp=sharing\n",
        "# https://drive.google.com/file/d/1RoN0BNuoEM3oDwYrkYvZd-KLDqfX1pHD/view?usp=sharing\n",
        "!wget -O x.txt \"https://drive.google.com/uc?export=download&id=1LnsauugyC7-iK4EVlqghaEGZTPd6dfWG\"\n",
        "!wget -O y.txt \"https://drive.google.com/uc?export=download&id=1RoN0BNuoEM3oDwYrkYvZd-KLDqfX1pHD\""
      ],
      "id": "Xrplmn2DpTKT",
      "execution_count": null,
      "outputs": []
    },
    {
      "cell_type": "code",
      "metadata": {
        "id": "7766c86d"
      },
      "source": [
        "# Prepare data\n",
        "x = np.loadtxt('x.txt')\n",
        "y = np.loadtxt('y.txt')\n",
        "y_t = torch.Tensor(y.reshape(1, 1, -1))\n",
        "x_t = torch.Tensor(x.reshape(1, -1))\n",
        "\n",
        "ydown = downsample_td(np.reshape(y, (1,-1)),2)"
      ],
      "id": "7766c86d",
      "execution_count": null,
      "outputs": []
    },
    {
      "cell_type": "code",
      "metadata": {
        "id": "c93ed8d3",
        "outputId": "5d37c696-dad1-4e94-eafe-d692f8475dae"
      },
      "source": [
        "# Plot data\n",
        "plt.hist(ydown.reshape(-1), bins=np.arange(-3.5, 3.5, 0.1))\n",
        "plt.hist(x.reshape(-1), bins=np.arange(-3.5, 3.5, 0.1))\n",
        "plt.title('Downsampling only')\n",
        "plt.grid()"
      ],
      "id": "c93ed8d3",
      "execution_count": null,
      "outputs": [
        {
          "data": {
            "image/png": "[encoded data removed]",
            "text/plain": [
              "<Figure size 432x288 with 1 Axes>"
            ]
          },
          "metadata": {
            "needs_background": "light"
          },
          "output_type": "display_data"
        }
      ]
    },
    {
      "cell_type": "code",
      "metadata": {
        "id": "7ca63872"
      },
      "source": [
        "# Initialize Filter\n",
        "num_taps = 41\n",
        "\n",
        "whichfilter = 'nonlinear'\n",
        "\n",
        "if whichfilter == 'linear':\n",
        "    nn_filter = nn.Conv1d (in_channels=1 ,\n",
        "                           out_channels=1 ,\n",
        "                           kernel_size=num_taps,\n",
        "                           padding='same' )\n",
        "elif whichfilter == 'nonlinear':\n",
        "    nn_filter = EQ(num_taps=3)\n"
      ],
      "id": "7ca63872",
      "execution_count": null,
      "outputs": []
    },
    {
      "cell_type": "code",
      "metadata": {
        "id": "9ce49a3b"
      },
      "source": [
        "# Define loss function and optimizer\n",
        "loss_fn = nn.MSELoss()\n",
        "optimizer = optim.Adam(nn_filter.parameters(), lr=0.1)"
      ],
      "id": "9ce49a3b",
      "execution_count": null,
      "outputs": []
    },
    {
      "cell_type": "code",
      "metadata": {
        "id": "dee15645",
        "outputId": "093a82bb-fcaf-4a3d-93a3-61a8986792ce"
      },
      "source": [
        "# Trainings loop\n",
        "for j in range(500):\n",
        "    x_hat = nn_filter(y_t).reshape(1, -1)\n",
        "    x_hat = downsample_td(x_hat, 2)\n",
        "    loss = loss_fn(x_hat, x_t)\n",
        "    optimizer.zero_grad()\n",
        "    loss.backward()\n",
        "    optimizer.step()\n",
        "    \n",
        "    # Printout and visualization\n",
        "    if j % 50 == 0:\n",
        "        print(f'epoch {j}: Loss = {loss.detach().numpy() :.4f}')\n",
        "        plt.hist(t2n(x_hat).reshape(-1), bins=np.arange(-3.5, 3.5, 0.1))\n",
        "        plt.hist(x.reshape(-1), bins=np.arange(-3.5, 3.5, 0.1))\n",
        "        plt.title(f'epoch {j}')\n",
        "        plt.grid()\n",
        "        plt.show()\n",
        "\n"
      ],
      "id": "dee15645",
      "execution_count": null,
      "outputs": [
        {
          "name": "stdout",
          "output_type": "stream",
          "text": [
            "epoch 0: Loss = 5.0784\n"
          ]
        },
        {
          "data": {
            "image/png": "[encoded data removed]",
            "text/plain": [
              "<Figure size 432x288 with 1 Axes>"
            ]
          },
          "metadata": {
            "needs_background": "light"
          },
          "output_type": "display_data"
        },
        {
          "name": "stdout",
          "output_type": "stream",
          "text": [
            "epoch 50: Loss = 0.0508\n"
          ]
        },
        {
          "data": {
            "image/png": "[encoded data removed]",
            "text/plain": [
              "<Figure size 432x288 with 1 Axes>"
            ]
          },
          "metadata": {
            "needs_background": "light"
          },
          "output_type": "display_data"
        },
        {
          "name": "stdout",
          "output_type": "stream",
          "text": [
            "epoch 100: Loss = 0.0203\n"
          ]
        },
        {
          "data": {
            "image/png": "[encoded data removed]",
            "text/plain": [
              "<Figure size 432x288 with 1 Axes>"
            ]
          },
          "metadata": {
            "needs_background": "light"
          },
          "output_type": "display_data"
        },
        {
          "name": "stdout",
          "output_type": "stream",
          "text": [
            "epoch 150: Loss = 0.0150\n"
          ]
        },
        {
          "data": {
            "image/png": "[encoded data removed]",
            "text/plain": [
              "<Figure size 432x288 with 1 Axes>"
            ]
          },
          "metadata": {
            "needs_background": "light"
          },
          "output_type": "display_data"
        },
        {
          "name": "stdout",
          "output_type": "stream",
          "text": [
            "epoch 200: Loss = 0.0115\n"
          ]
        },
        {
          "data": {
            "image/png": "[encoded data removed]",
            "text/plain": [
              "<Figure size 432x288 with 1 Axes>"
            ]
          },
          "metadata": {
            "needs_background": "light"
          },
          "output_type": "display_data"
        },
        {
          "name": "stdout",
          "output_type": "stream",
          "text": [
            "epoch 250: Loss = 0.0087\n"
          ]
        },
        {
          "data": {
            "image/png": "[encoded data removed]",
            "text/plain": [
              "<Figure size 432x288 with 1 Axes>"
            ]
          },
          "metadata": {
            "needs_background": "light"
          },
          "output_type": "display_data"
        },
        {
          "name": "stdout",
          "output_type": "stream",
          "text": [
            "epoch 300: Loss = 0.0072\n"
          ]
        },
        {
          "data": {
            "image/png": "[encoded data removed]",
            "text/plain": [
              "<Figure size 432x288 with 1 Axes>"
            ]
          },
          "metadata": {
            "needs_background": "light"
          },
          "output_type": "display_data"
        },
        {
          "name": "stdout",
          "output_type": "stream",
          "text": [
            "epoch 350: Loss = 0.0062\n"
          ]
        },
        {
          "data": {
            "image/png": "[encoded data removed]",
            "text/plain": [
              "<Figure size 432x288 with 1 Axes>"
            ]
          },
          "metadata": {
            "needs_background": "light"
          },
          "output_type": "display_data"
        },
        {
          "name": "stdout",
          "output_type": "stream",
          "text": [
            "epoch 400: Loss = 0.0054\n"
          ]
        },
        {
          "data": {
            "image/png": "[encoded data removed]",
            "text/plain": [
              "<Figure size 432x288 with 1 Axes>"
            ]
          },
          "metadata": {
            "needs_background": "light"
          },
          "output_type": "display_data"
        },
        {
          "name": "stdout",
          "output_type": "stream",
          "text": [
            "epoch 450: Loss = 0.0044\n"
          ]
        },
        {
          "data": {
            "image/png": "[encoded data removed]",
            "text/plain": [
              "<Figure size 432x288 with 1 Axes>"
            ]
          },
          "metadata": {
            "needs_background": "light"
          },
          "output_type": "display_data"
        }
      ]
    },
    {
      "cell_type": "markdown",
      "metadata": {
        "id": "4a28ee36"
      },
      "source": [
        "#### Test on different data set"
      ],
      "id": "4a28ee36"
    },
    {
      "cell_type": "code",
      "metadata": {
        "id": "5ce2ebdc",
        "outputId": "9d31d952-10cc-4fb1-fe80-903b098f91f5"
      },
      "source": [
        "# Load a new data set \n",
        "# https://drive.google.com/file/d/1-sgo0dxjocooZCrzOLarj8_mXJgKysdF/view?usp=sharing\n",
        "# https://drive.google.com/file/d/1j9s0HfyBQv3kB93Pkcs7NlOqQKRId6yT/view?usp=sharing\n",
        "!wget -O x1.txt \"https://drive.google.com/uc?export=download&id=1-sgo0dxjocooZCrzOLarj8_mXJgKysdF\"\n",
        "!wget -O y1.txt \"https://drive.google.com/uc?export=download&id=1j9s0HfyBQv3kB93Pkcs7NlOqQKRId6yT\"\n",
        "\n",
        "\n",
        "x1 = np.loadtxt('x1.txt')\n",
        "y1 = np.loadtxt('y1.txt')\n",
        "y1_t = torch.Tensor(y.reshape(1, 1, -1))\n",
        "x1_t = torch.Tensor(x.reshape(1, -1))\n",
        "\n",
        "# Comupute filter output\n",
        "x1_hat = nn_filter(y1_t).reshape(1, -1)\n",
        "# Downsample\n",
        "x1_hat = downsample_td(x1_hat, 2)\n",
        "\n",
        "# Compute loss\n",
        "loss = loss_fn(x1_hat, x1_t)\n",
        "print(f'Loss of the new data set: {loss.detach().numpy() :.4f}')\n"
      ],
      "id": "5ce2ebdc",
      "execution_count": null,
      "outputs": [
        {
          "name": "stdout",
          "output_type": "stream",
          "text": [
            "Loss of the new data set: 0.0035\n"
          ]
        }
      ]
    },
    {
      "cell_type": "code",
      "metadata": {
        "id": "5717dd3b",
        "outputId": "61b7d47d-f334-4ea5-957e-7e7fa1919629"
      },
      "source": [
        "# Plot \n",
        "plt.hist(t2n(x1_hat).reshape(-1), bins=np.arange(-3.5, 3.5, 0.1))\n",
        "plt.hist(x1.reshape(-1), bins=np.arange(-3.5, 3.5, 0.1))\n",
        "plt.grid()\n",
        "plt.show()"
      ],
      "id": "5717dd3b",
      "execution_count": null,
      "outputs": [
        {
          "data": {
            "image/png": "[encoded data removed]",
            "text/plain": [
              "<Figure size 432x288 with 1 Axes>"
            ]
          },
          "metadata": {
            "needs_background": "light"
          },
          "output_type": "display_data"
        }
      ]
    },
    {
      "cell_type": "code",
      "metadata": {
        "id": "f99cd875"
      },
      "source": [
        ""
      ],
      "id": "f99cd875",
      "execution_count": null,
      "outputs": []
    }
  ]
}