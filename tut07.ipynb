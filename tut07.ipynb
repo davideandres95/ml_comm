{
  "cells": [
    {
      "cell_type": "markdown",
      "metadata": {
        "id": "view-in-github",
        "colab_type": "text"
      },
      "source": [
        "<a href=\"https://colab.research.google.com/github/davideandres95/ml_comm/blob/main/tut07.ipynb\" target=\"_parent\"><img src=\"https://colab.research.google.com/assets/colab-badge.svg\" alt=\"Open In Colab\"/></a>"
      ]
    },
    {
      "cell_type": "markdown",
      "id": "9f6902f4",
      "metadata": {
        "id": "9f6902f4"
      },
      "source": [
        "#  Tutorial 7: Mapper\n",
        "December 9, 2021"
      ]
    },
    {
      "cell_type": "code",
      "execution_count": 1,
      "id": "95c453ff",
      "metadata": {
        "id": "95c453ff"
      },
      "outputs": [],
      "source": [
        "import numpy as np\n",
        "import matplotlib.pyplot as plt\n",
        "import torch            \n",
        "from torch import nn, optim"
      ]
    },
    {
      "cell_type": "markdown",
      "id": "14158b7c",
      "metadata": {
        "id": "14158b7c"
      },
      "source": [
        "##### Problem 6.1 - One hot mapping\n",
        "Consider a mapper that maps a message $a \\in \\mathcal{A} = \\{0,1, \\dots, M-1 \\}$  with $M = 2^m$ to a channel input alphabet \n",
        "$\\mathcal{X} = \\{x_0, x_1, \\dots, x^{M-1}\\}$,i.e., $a \\mapsto x_a$. \n",
        "The channel input alphabet is fixed and given.\n",
        "* 1) Let $u = \\{u_1, u_2, \\dots,  u_{M-1} \\}$ be a one-hot representation of message a, i.e., $u_i(a) = 1(i =a)$. \n",
        "Show that a linear neuron with $M$ inputs can realize the mapping $u(a) \\mapsto  x_a$,\n",
        "$a \\in \\mathcal{A}$, for any input alphabet $\\mathcal{A}$.\n"
      ]
    },
    {
      "cell_type": "code",
      "execution_count": 2,
      "id": "e757695f",
      "metadata": {
        "id": "e757695f"
      },
      "outputs": [],
      "source": [
        "def one_hot(a, M):\n",
        "    onehot = np.zeros(M)\n",
        "    onehot[a] = 1\n",
        "    return onehot\n"
      ]
    },
    {
      "cell_type": "code",
      "execution_count": 3,
      "id": "38f2e48e",
      "metadata": {
        "id": "38f2e48e"
      },
      "outputs": [],
      "source": [
        "class Mapper(nn.Module):\n",
        "    def __init__(self, alphabet):\n",
        "        super().__init__()\n",
        "        self.M = alphabet.size\n",
        "        self.lin1 = nn.Linear(self.M, 1, bias=False) # set bias to zero\n",
        "        self.lin1.weight = nn.Parameter(torch.Tensor([[i for i in alphabet]]).double()) # set weigths equal to alphabet values\n",
        "\n",
        "    def forward(self, y):\n",
        "        y = self.lin1(y)\n",
        "        return y"
      ]
    },
    {
      "cell_type": "code",
      "execution_count": 4,
      "id": "66e1797c",
      "metadata": {
        "id": "66e1797c",
        "outputId": "e37c613c-7dc3-469a-880f-6db2d54bb592",
        "colab": {
          "base_uri": "https://localhost:8080/"
        }
      },
      "outputs": [
        {
          "output_type": "stream",
          "name": "stdout",
          "text": [
            "-------\n",
            "Message: 0\n",
            "One-hot representation: [1. 0. 0. 0. 0. 0. 0. 0.]\n",
            "Neuron output: -7.0\n",
            "-------\n",
            "Message: 1\n",
            "One-hot representation: [0. 1. 0. 0. 0. 0. 0. 0.]\n",
            "Neuron output: -5.0\n",
            "-------\n",
            "Message: 2\n",
            "One-hot representation: [0. 0. 1. 0. 0. 0. 0. 0.]\n",
            "Neuron output: -3.0\n",
            "-------\n",
            "Message: 3\n",
            "One-hot representation: [0. 0. 0. 1. 0. 0. 0. 0.]\n",
            "Neuron output: -1.0\n",
            "-------\n",
            "Message: 4\n",
            "One-hot representation: [0. 0. 0. 0. 1. 0. 0. 0.]\n",
            "Neuron output: 1.0\n",
            "-------\n",
            "Message: 5\n",
            "One-hot representation: [0. 0. 0. 0. 0. 1. 0. 0.]\n",
            "Neuron output: 3.0\n",
            "-------\n",
            "Message: 6\n",
            "One-hot representation: [0. 0. 0. 0. 0. 0. 1. 0.]\n",
            "Neuron output: 5.0\n",
            "-------\n",
            "Message: 7\n",
            "One-hot representation: [0. 0. 0. 0. 0. 0. 0. 1.]\n",
            "Neuron output: 7.0\n"
          ]
        }
      ],
      "source": [
        "M = 8\n",
        "alphabet = np.array([-7, -5, -3, -1, 1, 3, 5, 7])\n",
        "mapper = Mapper(alphabet)\n",
        "messages = np.arange(M)\n",
        "\n",
        "for i in messages:\n",
        "    print('-------')\n",
        "    print(f'Message: {i}')\n",
        "    print(f'One-hot representation: {one_hot(i,M)}')\n",
        "    t = torch.tensor(one_hot(i,M)).double()\n",
        "    x = mapper(t)\n",
        "    print(f'Neuron output: {x[0].detach()}')"
      ]
    },
    {
      "cell_type": "markdown",
      "id": "56beb53f",
      "metadata": {
        "id": "56beb53f"
      },
      "source": [
        "* 2) For $M = 8$, sample the symbols in $\\mathcal{X}$ uniform at random from the interval $[-8, 8]$\n",
        "and train a linear neuron that realizes $u(a) \\mapsto x_a$ using the MSE loss."
      ]
    },
    {
      "cell_type": "code",
      "execution_count": 5,
      "id": "91b26ca1",
      "metadata": {
        "id": "91b26ca1"
      },
      "outputs": [],
      "source": [
        "def classic_mapper(msg, alphabet):\n",
        "    return alphabet[msg]"
      ]
    },
    {
      "cell_type": "code",
      "execution_count": 6,
      "id": "b0040ab5",
      "metadata": {
        "id": "b0040ab5"
      },
      "outputs": [],
      "source": [
        "class Mapper2(nn.Module):\n",
        "    def __init__(self, M):\n",
        "        super().__init__()\n",
        "        self.lin1 = nn.Linear(M, 1)\n",
        "        \n",
        "    def forward(self, y):\n",
        "        y = self.lin1(y)\n",
        "        return y"
      ]
    },
    {
      "cell_type": "code",
      "execution_count": 15,
      "id": "69dc1356",
      "metadata": {
        "id": "69dc1356"
      },
      "outputs": [],
      "source": [
        "# Create data \n",
        "n = 100000\n",
        "a = np.random.choice(range(M), size=n) # messages \n",
        "x = classic_mapper(a, alphabet) # alphabeth symbols to be used as labels\n",
        "onehot = np.array([one_hot(a[i], M) for i in range(n)]) # hot one representation to be used as inputs"
      ]
    },
    {
      "cell_type": "code",
      "execution_count": 16,
      "id": "70c49132",
      "metadata": {
        "id": "70c49132"
      },
      "outputs": [],
      "source": [
        "# Initialize network\n",
        "mapper2 = Mapper2(M)\n",
        "# loss function\n",
        "loss_fn = nn.MSELoss()\n",
        "# Optimizer\n",
        "optimizer = optim.Adam(mapper2.parameters(), lr=0.1)"
      ]
    },
    {
      "cell_type": "code",
      "execution_count": 18,
      "id": "df41e8b0",
      "metadata": {
        "id": "df41e8b0",
        "outputId": "e579c56b-56e8-44d5-d68c-65da007b235a",
        "colab": {
          "base_uri": "https://localhost:8080/"
        }
      },
      "outputs": [
        {
          "output_type": "stream",
          "name": "stdout",
          "text": [
            "epoch 0: Loss = 20.9991\n",
            "epoch 100: Loss = 0.0397\n",
            "epoch 200: Loss = 0.0000\n",
            "epoch 300: Loss = 0.0000\n",
            "epoch 400: Loss = 0.0000\n",
            "epoch 500: Loss = 0.0000\n",
            "epoch 600: Loss = 0.0000\n",
            "epoch 700: Loss = 0.0000\n",
            "epoch 800: Loss = 0.0000\n",
            "epoch 900: Loss = 0.0000\n"
          ]
        }
      ],
      "source": [
        "x_t = torch.tensor(x.reshape(-1,1)).float()\n",
        "onehot_t = torch.tensor(onehot).float()\n",
        "# Training loop\n",
        "for j in range(1000):\n",
        "    x_hat = mapper2(onehot_t)\n",
        "    loss = loss_fn(x_hat, x_t)\n",
        "    optimizer.zero_grad()\n",
        "    loss.backward()\n",
        "    optimizer.step()\n",
        "\n",
        "    # Printout and visualization\n",
        "    if j % 100 == 0:\n",
        "        print(f'epoch {j}: Loss = {loss.detach().numpy() :.4f}')"
      ]
    },
    {
      "cell_type": "code",
      "execution_count": 19,
      "id": "8a15edf2",
      "metadata": {
        "id": "8a15edf2",
        "outputId": "17f53e0d-b64b-49eb-df11-61d1d5397191",
        "colab": {
          "base_uri": "https://localhost:8080/",
          "height": 265
        }
      },
      "outputs": [
        {
          "output_type": "display_data",
          "data": {
            "image/png": "[encoded data removed]",
            "text/plain": [
              "<Figure size 432x288 with 1 Axes>"
            ]
          },
          "metadata": {
            "needs_background": "light"
          }
        }
      ],
      "source": [
        "# Data for the plots\n",
        "a_plot = np.arange(M)\n",
        "x_plot = classic_mapper(a, alphabet)\n",
        "onehot_plot = torch.tensor(np.array([one_hot(a_plot[i], M) for i in range(M)])).float()\n",
        "xhat_plot = mapper2(onehot_plot).detach().numpy()\n",
        "# Plot\n",
        "plt.scatter(np.real(xhat_plot),np.imag(xhat_plot), marker=\"o\",label='learned const')\n",
        "plt.scatter(np.real(x_plot),np.imag(x_plot), marker='x', label='target const')\n",
        "\n",
        "plt.legend()\n",
        "plt.grid()"
      ]
    },
    {
      "cell_type": "markdown",
      "id": "c07d8e20",
      "metadata": {
        "id": "c07d8e20"
      },
      "source": [
        "* 3) Let $\\boldsymbol{b} = \\{b_0, b_1, \\dots, b_{m-1} \\}$ be a binary representation of message $a$. Identify an input\n",
        "alphabet $\\mathcal{X}$ for which a linear neuron with $m$ inputs cannot realize the mapping $\\boldsymbol{b}(a) \\mapsto x_a$."
      ]
    },
    {
      "cell_type": "markdown",
      "id": "a172fddb",
      "metadata": {
        "id": "a172fddb"
      },
      "source": [
        "* 4) For the input alphabet you identified in 3), train a linear unit with $m$ inputs using\n",
        "the MSE loss to verify that the mapping $\\boldsymbol{b}(a) \\mapsto x_a$ can indeed not be realized."
      ]
    },
    {
      "cell_type": "code",
      "execution_count": 20,
      "id": "b4576832",
      "metadata": {
        "id": "b4576832"
      },
      "outputs": [],
      "source": [
        "def get_labeling(msg):\n",
        "    label = np.array([[0,0,0], [0,0,1], [0,1,1], [0,1,0], [1,1,0], [1,1,1], [1,0,1], [1,0,0]])\n",
        "    return label[msg, :]"
      ]
    },
    {
      "cell_type": "code",
      "execution_count": 21,
      "id": "a3f50ae9",
      "metadata": {
        "id": "a3f50ae9"
      },
      "outputs": [],
      "source": [
        "class Mapper3(nn.Module):\n",
        "    def __init__(self, m):\n",
        "        super().__init__()\n",
        "        self.lin1 = nn.Linear(m, 1)\n",
        "        \n",
        "    def forward(self, y):\n",
        "        y = self.lin1(y)\n",
        "        return y"
      ]
    },
    {
      "cell_type": "code",
      "execution_count": 22,
      "id": "ba4fe306",
      "metadata": {
        "id": "ba4fe306",
        "outputId": "314cedae-32cc-4e25-bcde-3c7e76e8c61f",
        "colab": {
          "base_uri": "https://localhost:8080/"
        }
      },
      "outputs": [
        {
          "output_type": "stream",
          "name": "stdout",
          "text": [
            "epoch 0: Loss = 20.6904\n",
            "epoch 100: Loss = 5.1698\n",
            "epoch 200: Loss = 4.9848\n",
            "epoch 300: Loss = 4.9848\n",
            "epoch 400: Loss = 4.9848\n",
            "epoch 500: Loss = 4.9848\n",
            "epoch 600: Loss = 4.9848\n",
            "epoch 700: Loss = 4.9848\n",
            "epoch 800: Loss = 4.9848\n",
            "epoch 900: Loss = 4.9848\n"
          ]
        }
      ],
      "source": [
        "m = 3\n",
        "x_t = torch.tensor(x.reshape(-1,1)).float()\n",
        "bits = get_labeling(a)\n",
        "bits_t = torch.tensor(bits).float()\n",
        "# Initialize network\n",
        "mapper3 = Mapper3(m)\n",
        "# loss function\n",
        "loss_fn = nn.MSELoss()\n",
        "# Optimizer\n",
        "optimizer = optim.Adam(mapper3.parameters(), lr=0.1)\n",
        "# Training loop\n",
        "for j in range(1000):\n",
        "    x_hat = mapper3(bits_t)\n",
        "    loss = loss_fn(x_hat, x_t)\n",
        "    optimizer.zero_grad()\n",
        "    loss.backward()\n",
        "    optimizer.step()\n",
        "\n",
        "    # Printout and visualization\n",
        "    if j % 100 == 0:\n",
        "        print(f'epoch {j}: Loss = {loss.detach().numpy() :.4f}')"
      ]
    },
    {
      "cell_type": "code",
      "execution_count": 23,
      "id": "da551939",
      "metadata": {
        "id": "da551939",
        "outputId": "5f22a01c-5e5f-4fd8-f4fd-36963ec2e617",
        "colab": {
          "base_uri": "https://localhost:8080/",
          "height": 265
        }
      },
      "outputs": [
        {
          "output_type": "display_data",
          "data": {
            "image/png": "[encoded data removed]",
            "text/plain": [
              "<Figure size 432x288 with 1 Axes>"
            ]
          },
          "metadata": {
            "needs_background": "light"
          }
        }
      ],
      "source": [
        "# Data for the plots\n",
        "A = get_labeling(range(M))\n",
        "x_plot = classic_mapper(range(M), alphabet)\n",
        "xhat_plot = mapper3(torch.tensor(A).float()).detach().numpy()\n",
        "# Plot\n",
        "plt.scatter(np.real(xhat_plot),np.imag(xhat_plot), marker=\"o\",label='learned const')\n",
        "plt.scatter(np.real(x_plot),np.imag(x_plot), marker='x', label='target const')\n",
        "plt.legend()\n",
        "plt.grid()"
      ]
    },
    {
      "cell_type": "markdown",
      "id": "6d69c04b",
      "metadata": {
        "id": "6d69c04b"
      },
      "source": [
        "* 5) For the input alphabet from 3), devise a non-linear neural network with $m$\n",
        "inputs that approximates the mapping $\\boldsymbol{b}(a) \\mapsto x_a$ well w.r.t. the MSE loss."
      ]
    },
    {
      "cell_type": "code",
      "execution_count": 25,
      "id": "a100eab3",
      "metadata": {
        "id": "a100eab3"
      },
      "outputs": [],
      "source": [
        "class Mapper4(nn.Module):\n",
        "    def __init__(self, m, width):\n",
        "        super().__init__()\n",
        "        self.lin1 = nn.Linear(m, width)\n",
        "        self.act1 = nn.ReLU()\n",
        "        self.lin2 = nn.Linear(width, width)\n",
        "        self.act2 = nn.ReLU()\n",
        "        self.lin3 = nn.Linear(width, 1)\n",
        "        \n",
        "    def forward(self, y):\n",
        "        y = self.act1(self.lin1(y))\n",
        "        y = self.act2(self.lin2(y))\n",
        "        return self.lin3(y)"
      ]
    },
    {
      "cell_type": "code",
      "execution_count": 35,
      "id": "6efc82aa",
      "metadata": {
        "id": "6efc82aa",
        "outputId": "6027eeba-a1ce-4a17-a324-f3efe454b558",
        "colab": {
          "base_uri": "https://localhost:8080/"
        }
      },
      "outputs": [
        {
          "output_type": "stream",
          "name": "stdout",
          "text": [
            "epoch 0: Loss = 20.9300\n",
            "epoch 100: Loss = 0.0160\n"
          ]
        }
      ],
      "source": [
        "m = 3\n",
        "nn_width = 10\n",
        "x_t = torch.tensor(x.reshape(-1,1)).float()\n",
        "bits = get_labeling(a)\n",
        "bits_t = torch.tensor(bits).float()\n",
        "# Initialize network\n",
        "mapper4 = Mapper4(m, nn_width)\n",
        "# loss function\n",
        "loss_fn = nn.MSELoss()\n",
        "# Optimizer\n",
        "optimizer = optim.Adam(mapper4.parameters(), lr=0.1)\n",
        "# Training loop\n",
        "for j in range(1000):\n",
        "    x_hat = mapper4(bits_t)\n",
        "    loss = loss_fn(x_hat, x_t)\n",
        "    optimizer.zero_grad()\n",
        "    loss.backward()\n",
        "    optimizer.step()\n",
        "\n",
        "    # Printout and visualization\n",
        "    if j % 100 == 0:\n",
        "        print(f'epoch {j}: Loss = {loss.detach().numpy() :.4f}')\n",
        "    if loss < 1e-3:\n",
        "        break"
      ]
    },
    {
      "cell_type": "code",
      "execution_count": 36,
      "id": "a3c1e171",
      "metadata": {
        "id": "a3c1e171",
        "outputId": "c0ef31aa-2148-43c5-bd05-04f2fa6426ed",
        "colab": {
          "base_uri": "https://localhost:8080/",
          "height": 265
        }
      },
      "outputs": [
        {
          "output_type": "display_data",
          "data": {
            "image/png": "[encoded data removed]",
            "text/plain": [
              "<Figure size 432x288 with 1 Axes>"
            ]
          },
          "metadata": {
            "needs_background": "light"
          }
        }
      ],
      "source": [
        "# Data for the plots\n",
        "A = get_labeling(range(M))\n",
        "x_plot = classic_mapper(range(M), alphabet)\n",
        "xhat_plot = mapper4(torch.tensor(A).float()).detach().numpy()\n",
        "# Plot\n",
        "plt.scatter(np.real(xhat_plot),np.imag(xhat_plot), marker=\"o\",label='learned const')\n",
        "plt.scatter(np.real(x_plot),np.imag(x_plot), marker='x', label='target const')\n",
        "\n",
        "plt.legend()\n",
        "plt.grid()"
      ]
    },
    {
      "cell_type": "markdown",
      "id": "61d78d63",
      "metadata": {
        "id": "61d78d63"
      },
      "source": [
        "##### Problem 6.2 \n",
        "Consider the channel in the picture.\n",
        "* 1) Implement the channel as differentiable function supporting torch.autograd using functions provided by torch\n",
        "* 2) Use a linear neuron with $M$ inputs and one output as transmitter and a linear neuron with one input and M outputs as receiver. \n",
        "Sample a message $a \\in  \\{0,1, \\dots, M-1 \\}$ and use its one-hot representation $\\boldsymbol{u}$ as transmitter input. \n",
        "Train transmitter and receiver w.r.t. the cross equivocation $ce(\\boldsymbol{u}, \\boldsymbol{\\ell})$, where $\\boldsymbol{\\ell}$ is the receiver output.\n",
        "* 3) Plot the learned channel input alphabet and compare it to the scatterplot of the channel output."
      ]
    },
    {
      "cell_type": "code",
      "execution_count": 37,
      "id": "d7cc7546",
      "metadata": {
        "id": "d7cc7546"
      },
      "outputs": [],
      "source": [
        "# Channel \n",
        "def tanh_channel(x, sigma2, seed=None):\n",
        "    noise_t = sigma2*torch.randn(len(x),1)\n",
        "    return torch.add(torch.tanh(x), noise_t)\n",
        "    #return torch.tanh(x)\n",
        "#TODO: make it wotk also with additive noise"
      ]
    },
    {
      "cell_type": "code",
      "execution_count": 41,
      "id": "cb8c99d8",
      "metadata": {
        "id": "cb8c99d8",
        "outputId": "56b48498-83e0-4824-b4a5-60a5bddb8af5",
        "colab": {
          "base_uri": "https://localhost:8080/",
          "height": 265
        }
      },
      "outputs": [
        {
          "output_type": "display_data",
          "data": {
            "image/png": "[encoded data removed]",
            "text/plain": [
              "<Figure size 432x288 with 1 Axes>"
            ]
          },
          "metadata": {
            "needs_background": "light"
          }
        }
      ],
      "source": [
        "x = np.arange(-8,9,0.1)\n",
        "plt.plot(x, np.tanh(x))\n",
        "plt.grid()"
      ]
    },
    {
      "cell_type": "code",
      "execution_count": 42,
      "id": "5fb387aa",
      "metadata": {
        "id": "5fb387aa"
      },
      "outputs": [],
      "source": [
        "# Transmitter and receiver NNs\n",
        "class Transmitter(nn.Module):\n",
        "    def __init__(self, M):\n",
        "        super().__init__()\n",
        "        self.lin1 = nn.Linear(M, 1)\n",
        "\n",
        "    def forward(self, y):\n",
        "        y = self.lin1(y)\n",
        "        return y\n",
        "    \n",
        "class Receiver(nn.Module):\n",
        "    def __init__(self, M):\n",
        "        super().__init__()\n",
        "        self.lin1 = nn.Linear(1, M)\n",
        "\n",
        "    def forward(self, y):\n",
        "        y = self.lin1(y)\n",
        "        return y    "
      ]
    },
    {
      "cell_type": "code",
      "execution_count": 50,
      "id": "80fa7a82",
      "metadata": {
        "id": "80fa7a82",
        "colab": {
          "base_uri": "https://localhost:8080/"
        },
        "outputId": "fe0604bc-6441-4fcb-95d4-e8b65ffcf7f1"
      },
      "outputs": [
        {
          "output_type": "stream",
          "name": "stdout",
          "text": [
            "8\n"
          ]
        }
      ],
      "source": [
        "# Create data\n",
        "n = 100000\n",
        "snrdB = 20\n",
        "snr = 10**(snrdB/10)\n",
        "sigma2 = 1/snr\n",
        "print(M)\n",
        "a = np.random.choice(range(M), size=n)\n",
        "onehot = np.array([one_hot(a[i], M) for i in range(n)])"
      ]
    },
    {
      "cell_type": "code",
      "execution_count": 44,
      "id": "14bc5036",
      "metadata": {
        "id": "14bc5036"
      },
      "outputs": [],
      "source": [
        "# Initialize networks\n",
        "tx = Transmitter(M)\n",
        "rx = Receiver(M)\n",
        "# Loss function\n",
        "loss_fn = nn.CrossEntropyLoss()\n",
        "# Optimizer\n",
        "optimizer = optim.Adam(list(tx.parameters()) + list(rx.parameters()), lr=0.1)"
      ]
    },
    {
      "cell_type": "code",
      "execution_count": 45,
      "id": "0fbdb225",
      "metadata": {
        "id": "0fbdb225"
      },
      "outputs": [],
      "source": [
        " # Batches\n",
        "batch_size = 100\n",
        "onehot_t = torch.tensor(onehot).float()\n",
        "a_t = torch.tensor(a)\n",
        "a_t = a_t.type(torch.LongTensor)"
      ]
    },
    {
      "cell_type": "code",
      "execution_count": 46,
      "id": "30a8d286",
      "metadata": {
        "id": "30a8d286",
        "outputId": "62e644ee-f6d3-45f1-9157-e18156f061a5",
        "colab": {
          "base_uri": "https://localhost:8080/"
        }
      },
      "outputs": [
        {
          "output_type": "stream",
          "name": "stdout",
          "text": [
            "epoch 0: Loss = 2.2619\n",
            "epoch 1000: Loss = 0.4152\n",
            "epoch 2000: Loss = 0.2179\n",
            "epoch 3000: Loss = 0.1913\n",
            "epoch 4000: Loss = 0.1818\n",
            "epoch 5000: Loss = 0.0323\n",
            "epoch 6000: Loss = 0.0165\n",
            "epoch 7000: Loss = 0.0118\n",
            "epoch 8000: Loss = 0.0082\n",
            "epoch 9000: Loss = 0.0055\n"
          ]
        }
      ],
      "source": [
        "# Training loop\n",
        "for j in range(10000):\n",
        "    x = tx(onehot_t)\n",
        "    y = tanh_channel(x, sigma2).float()\n",
        "    l = rx(y)\n",
        "    loss = loss_fn(l, a_t)\n",
        "    optimizer.zero_grad()\n",
        "    loss.backward()\n",
        "    optimizer.step()\n",
        "\n",
        "    # Printout and visualization\n",
        "    if j % 1000 == 0:\n",
        "        print(f'epoch {j}: Loss = {loss.detach().numpy() :.4f}')\n",
        "    if loss < 1e-3:\n",
        "        break"
      ]
    },
    {
      "cell_type": "code",
      "execution_count": 47,
      "id": "d75a6a3a",
      "metadata": {
        "id": "d75a6a3a"
      },
      "outputs": [],
      "source": [
        "# Data for the plots\n",
        "a_plot = np.arange(M)\n",
        "onehot_plot = np.array([one_hot(a_plot[i], M) for i in range(M)])\n",
        "learned_x = tx(torch.tensor(onehot_plot).float())\n",
        "yy_plot = torch.tanh(learned_x)"
      ]
    },
    {
      "cell_type": "code",
      "execution_count": 48,
      "id": "3ab761ab",
      "metadata": {
        "id": "3ab761ab",
        "outputId": "dfdb96bd-5ab9-48f1-d195-b19b76b83537",
        "colab": {
          "base_uri": "https://localhost:8080/",
          "height": 281
        }
      },
      "outputs": [
        {
          "output_type": "display_data",
          "data": {
            "image/png": "[encoded data removed]",
            "text/plain": [
              "<Figure size 432x288 with 1 Axes>"
            ]
          },
          "metadata": {
            "needs_background": "light"
          }
        }
      ],
      "source": [
        "# Plot\n",
        "plt.scatter(np.real(learned_x.detach().numpy()), np.imag(learned_x.detach().numpy()))\n",
        "plt.title('Learned constellation')\n",
        "plt.grid()"
      ]
    },
    {
      "cell_type": "code",
      "execution_count": 49,
      "id": "4ae71e14",
      "metadata": {
        "id": "4ae71e14",
        "outputId": "928c3eba-c1fb-4600-9e0d-ec1b519c4373",
        "colab": {
          "base_uri": "https://localhost:8080/",
          "height": 281
        }
      },
      "outputs": [
        {
          "output_type": "display_data",
          "data": {
            "image/png": "[encoded data removed]",
            "text/plain": [
              "<Figure size 432x288 with 1 Axes>"
            ]
          },
          "metadata": {
            "needs_background": "light"
          }
        }
      ],
      "source": [
        "plt.scatter(np.real(yy_plot.detach().numpy()), np.imag(yy_plot.detach().numpy()))\n",
        "plt.title('Constellation after tanh')\n",
        "plt.grid()"
      ]
    },
    {
      "cell_type": "code",
      "source": [
        "# Create test data\n",
        "n = 100000\n",
        "a_test = np.random.choice(range(M), size=n)\n",
        "onehot = np.array([one_hot(a_test[i], M) for i in range(n)])\n",
        "x_test = tx(a) # mapped symbols\n",
        "y_test = tanh_channel(x_test, sigma2).float()\n",
        "x_hat_test = rx(y_test)"
      ],
      "metadata": {
        "id": "rNZ9ehZNHGQT",
        "outputId": "ad31f31d-949b-4849-9891-b275c1bcd231",
        "colab": {
          "base_uri": "https://localhost:8080/",
          "height": 380
        }
      },
      "id": "rNZ9ehZNHGQT",
      "execution_count": 53,
      "outputs": [
        {
          "output_type": "error",
          "ename": "TypeError",
          "evalue": "ignored",
          "traceback": [
            "\u001b[0;31m---------------------------------------------------------------------------\u001b[0m",
            "\u001b[0;31mTypeError\u001b[0m                                 Traceback (most recent call last)",
            "\u001b[0;32m<ipython-input-53-af804908dd44>\u001b[0m in \u001b[0;36m<module>\u001b[0;34m()\u001b[0m\n\u001b[1;32m      3\u001b[0m \u001b[0ma_test\u001b[0m \u001b[0;34m=\u001b[0m \u001b[0mnp\u001b[0m\u001b[0;34m.\u001b[0m\u001b[0mrandom\u001b[0m\u001b[0;34m.\u001b[0m\u001b[0mchoice\u001b[0m\u001b[0;34m(\u001b[0m\u001b[0mrange\u001b[0m\u001b[0;34m(\u001b[0m\u001b[0mM\u001b[0m\u001b[0;34m)\u001b[0m\u001b[0;34m,\u001b[0m \u001b[0msize\u001b[0m\u001b[0;34m=\u001b[0m\u001b[0mn\u001b[0m\u001b[0;34m)\u001b[0m\u001b[0;34m\u001b[0m\u001b[0;34m\u001b[0m\u001b[0m\n\u001b[1;32m      4\u001b[0m \u001b[0monehot\u001b[0m \u001b[0;34m=\u001b[0m \u001b[0mnp\u001b[0m\u001b[0;34m.\u001b[0m\u001b[0marray\u001b[0m\u001b[0;34m(\u001b[0m\u001b[0;34m[\u001b[0m\u001b[0mone_hot\u001b[0m\u001b[0;34m(\u001b[0m\u001b[0ma_test\u001b[0m\u001b[0;34m[\u001b[0m\u001b[0mi\u001b[0m\u001b[0;34m]\u001b[0m\u001b[0;34m,\u001b[0m \u001b[0mM\u001b[0m\u001b[0;34m)\u001b[0m \u001b[0;32mfor\u001b[0m \u001b[0mi\u001b[0m \u001b[0;32min\u001b[0m \u001b[0mrange\u001b[0m\u001b[0;34m(\u001b[0m\u001b[0mn\u001b[0m\u001b[0;34m)\u001b[0m\u001b[0;34m]\u001b[0m\u001b[0;34m)\u001b[0m\u001b[0;34m\u001b[0m\u001b[0;34m\u001b[0m\u001b[0m\n\u001b[0;32m----> 5\u001b[0;31m \u001b[0mx_test\u001b[0m \u001b[0;34m=\u001b[0m \u001b[0mtx\u001b[0m\u001b[0;34m(\u001b[0m\u001b[0ma\u001b[0m\u001b[0;34m)\u001b[0m \u001b[0;31m# mapped symbols\u001b[0m\u001b[0;34m\u001b[0m\u001b[0;34m\u001b[0m\u001b[0m\n\u001b[0m\u001b[1;32m      6\u001b[0m \u001b[0my_test\u001b[0m \u001b[0;34m=\u001b[0m \u001b[0mtanh_channel\u001b[0m\u001b[0;34m(\u001b[0m\u001b[0mx_test\u001b[0m\u001b[0;34m,\u001b[0m \u001b[0msigma2\u001b[0m\u001b[0;34m)\u001b[0m\u001b[0;34m.\u001b[0m\u001b[0mfloat\u001b[0m\u001b[0;34m(\u001b[0m\u001b[0;34m)\u001b[0m\u001b[0;34m\u001b[0m\u001b[0;34m\u001b[0m\u001b[0m\n\u001b[1;32m      7\u001b[0m \u001b[0mx_hat_test\u001b[0m \u001b[0;34m=\u001b[0m \u001b[0mrx\u001b[0m\u001b[0;34m(\u001b[0m\u001b[0my_test\u001b[0m\u001b[0;34m)\u001b[0m\u001b[0;34m\u001b[0m\u001b[0;34m\u001b[0m\u001b[0m\n",
            "\u001b[0;32m/usr/local/lib/python3.7/dist-packages/torch/nn/modules/module.py\u001b[0m in \u001b[0;36m_call_impl\u001b[0;34m(self, *input, **kwargs)\u001b[0m\n\u001b[1;32m   1100\u001b[0m         if not (self._backward_hooks or self._forward_hooks or self._forward_pre_hooks or _global_backward_hooks\n\u001b[1;32m   1101\u001b[0m                 or _global_forward_hooks or _global_forward_pre_hooks):\n\u001b[0;32m-> 1102\u001b[0;31m             \u001b[0;32mreturn\u001b[0m \u001b[0mforward_call\u001b[0m\u001b[0;34m(\u001b[0m\u001b[0;34m*\u001b[0m\u001b[0minput\u001b[0m\u001b[0;34m,\u001b[0m \u001b[0;34m**\u001b[0m\u001b[0mkwargs\u001b[0m\u001b[0;34m)\u001b[0m\u001b[0;34m\u001b[0m\u001b[0;34m\u001b[0m\u001b[0m\n\u001b[0m\u001b[1;32m   1103\u001b[0m         \u001b[0;31m# Do not call functions when jit is used\u001b[0m\u001b[0;34m\u001b[0m\u001b[0;34m\u001b[0m\u001b[0;34m\u001b[0m\u001b[0m\n\u001b[1;32m   1104\u001b[0m         \u001b[0mfull_backward_hooks\u001b[0m\u001b[0;34m,\u001b[0m \u001b[0mnon_full_backward_hooks\u001b[0m \u001b[0;34m=\u001b[0m \u001b[0;34m[\u001b[0m\u001b[0;34m]\u001b[0m\u001b[0;34m,\u001b[0m \u001b[0;34m[\u001b[0m\u001b[0;34m]\u001b[0m\u001b[0;34m\u001b[0m\u001b[0;34m\u001b[0m\u001b[0m\n",
            "\u001b[0;32m<ipython-input-42-3c7206d5a6ec>\u001b[0m in \u001b[0;36mforward\u001b[0;34m(self, y)\u001b[0m\n\u001b[1;32m      6\u001b[0m \u001b[0;34m\u001b[0m\u001b[0m\n\u001b[1;32m      7\u001b[0m     \u001b[0;32mdef\u001b[0m \u001b[0mforward\u001b[0m\u001b[0;34m(\u001b[0m\u001b[0mself\u001b[0m\u001b[0;34m,\u001b[0m \u001b[0my\u001b[0m\u001b[0;34m)\u001b[0m\u001b[0;34m:\u001b[0m\u001b[0;34m\u001b[0m\u001b[0;34m\u001b[0m\u001b[0m\n\u001b[0;32m----> 8\u001b[0;31m         \u001b[0my\u001b[0m \u001b[0;34m=\u001b[0m \u001b[0mself\u001b[0m\u001b[0;34m.\u001b[0m\u001b[0mlin1\u001b[0m\u001b[0;34m(\u001b[0m\u001b[0my\u001b[0m\u001b[0;34m)\u001b[0m\u001b[0;34m\u001b[0m\u001b[0;34m\u001b[0m\u001b[0m\n\u001b[0m\u001b[1;32m      9\u001b[0m         \u001b[0;32mreturn\u001b[0m \u001b[0my\u001b[0m\u001b[0;34m\u001b[0m\u001b[0;34m\u001b[0m\u001b[0m\n\u001b[1;32m     10\u001b[0m \u001b[0;34m\u001b[0m\u001b[0m\n",
            "\u001b[0;32m/usr/local/lib/python3.7/dist-packages/torch/nn/modules/module.py\u001b[0m in \u001b[0;36m_call_impl\u001b[0;34m(self, *input, **kwargs)\u001b[0m\n\u001b[1;32m   1100\u001b[0m         if not (self._backward_hooks or self._forward_hooks or self._forward_pre_hooks or _global_backward_hooks\n\u001b[1;32m   1101\u001b[0m                 or _global_forward_hooks or _global_forward_pre_hooks):\n\u001b[0;32m-> 1102\u001b[0;31m             \u001b[0;32mreturn\u001b[0m \u001b[0mforward_call\u001b[0m\u001b[0;34m(\u001b[0m\u001b[0;34m*\u001b[0m\u001b[0minput\u001b[0m\u001b[0;34m,\u001b[0m \u001b[0;34m**\u001b[0m\u001b[0mkwargs\u001b[0m\u001b[0;34m)\u001b[0m\u001b[0;34m\u001b[0m\u001b[0;34m\u001b[0m\u001b[0m\n\u001b[0m\u001b[1;32m   1103\u001b[0m         \u001b[0;31m# Do not call functions when jit is used\u001b[0m\u001b[0;34m\u001b[0m\u001b[0;34m\u001b[0m\u001b[0;34m\u001b[0m\u001b[0m\n\u001b[1;32m   1104\u001b[0m         \u001b[0mfull_backward_hooks\u001b[0m\u001b[0;34m,\u001b[0m \u001b[0mnon_full_backward_hooks\u001b[0m \u001b[0;34m=\u001b[0m \u001b[0;34m[\u001b[0m\u001b[0;34m]\u001b[0m\u001b[0;34m,\u001b[0m \u001b[0;34m[\u001b[0m\u001b[0;34m]\u001b[0m\u001b[0;34m\u001b[0m\u001b[0;34m\u001b[0m\u001b[0m\n",
            "\u001b[0;32m/usr/local/lib/python3.7/dist-packages/torch/nn/modules/linear.py\u001b[0m in \u001b[0;36mforward\u001b[0;34m(self, input)\u001b[0m\n\u001b[1;32m    101\u001b[0m \u001b[0;34m\u001b[0m\u001b[0m\n\u001b[1;32m    102\u001b[0m     \u001b[0;32mdef\u001b[0m \u001b[0mforward\u001b[0m\u001b[0;34m(\u001b[0m\u001b[0mself\u001b[0m\u001b[0;34m,\u001b[0m \u001b[0minput\u001b[0m\u001b[0;34m:\u001b[0m \u001b[0mTensor\u001b[0m\u001b[0;34m)\u001b[0m \u001b[0;34m->\u001b[0m \u001b[0mTensor\u001b[0m\u001b[0;34m:\u001b[0m\u001b[0;34m\u001b[0m\u001b[0;34m\u001b[0m\u001b[0m\n\u001b[0;32m--> 103\u001b[0;31m         \u001b[0;32mreturn\u001b[0m \u001b[0mF\u001b[0m\u001b[0;34m.\u001b[0m\u001b[0mlinear\u001b[0m\u001b[0;34m(\u001b[0m\u001b[0minput\u001b[0m\u001b[0;34m,\u001b[0m \u001b[0mself\u001b[0m\u001b[0;34m.\u001b[0m\u001b[0mweight\u001b[0m\u001b[0;34m,\u001b[0m \u001b[0mself\u001b[0m\u001b[0;34m.\u001b[0m\u001b[0mbias\u001b[0m\u001b[0;34m)\u001b[0m\u001b[0;34m\u001b[0m\u001b[0;34m\u001b[0m\u001b[0m\n\u001b[0m\u001b[1;32m    104\u001b[0m \u001b[0;34m\u001b[0m\u001b[0m\n\u001b[1;32m    105\u001b[0m     \u001b[0;32mdef\u001b[0m \u001b[0mextra_repr\u001b[0m\u001b[0;34m(\u001b[0m\u001b[0mself\u001b[0m\u001b[0;34m)\u001b[0m \u001b[0;34m->\u001b[0m \u001b[0mstr\u001b[0m\u001b[0;34m:\u001b[0m\u001b[0;34m\u001b[0m\u001b[0;34m\u001b[0m\u001b[0m\n",
            "\u001b[0;32m/usr/local/lib/python3.7/dist-packages/torch/nn/functional.py\u001b[0m in \u001b[0;36mlinear\u001b[0;34m(input, weight, bias)\u001b[0m\n\u001b[1;32m   1846\u001b[0m     \u001b[0;32mif\u001b[0m \u001b[0mhas_torch_function_variadic\u001b[0m\u001b[0;34m(\u001b[0m\u001b[0minput\u001b[0m\u001b[0;34m,\u001b[0m \u001b[0mweight\u001b[0m\u001b[0;34m,\u001b[0m \u001b[0mbias\u001b[0m\u001b[0;34m)\u001b[0m\u001b[0;34m:\u001b[0m\u001b[0;34m\u001b[0m\u001b[0;34m\u001b[0m\u001b[0m\n\u001b[1;32m   1847\u001b[0m         \u001b[0;32mreturn\u001b[0m \u001b[0mhandle_torch_function\u001b[0m\u001b[0;34m(\u001b[0m\u001b[0mlinear\u001b[0m\u001b[0;34m,\u001b[0m \u001b[0;34m(\u001b[0m\u001b[0minput\u001b[0m\u001b[0;34m,\u001b[0m \u001b[0mweight\u001b[0m\u001b[0;34m,\u001b[0m \u001b[0mbias\u001b[0m\u001b[0;34m)\u001b[0m\u001b[0;34m,\u001b[0m \u001b[0minput\u001b[0m\u001b[0;34m,\u001b[0m \u001b[0mweight\u001b[0m\u001b[0;34m,\u001b[0m \u001b[0mbias\u001b[0m\u001b[0;34m=\u001b[0m\u001b[0mbias\u001b[0m\u001b[0;34m)\u001b[0m\u001b[0;34m\u001b[0m\u001b[0;34m\u001b[0m\u001b[0m\n\u001b[0;32m-> 1848\u001b[0;31m     \u001b[0;32mreturn\u001b[0m \u001b[0mtorch\u001b[0m\u001b[0;34m.\u001b[0m\u001b[0m_C\u001b[0m\u001b[0;34m.\u001b[0m\u001b[0m_nn\u001b[0m\u001b[0;34m.\u001b[0m\u001b[0mlinear\u001b[0m\u001b[0;34m(\u001b[0m\u001b[0minput\u001b[0m\u001b[0;34m,\u001b[0m \u001b[0mweight\u001b[0m\u001b[0;34m,\u001b[0m \u001b[0mbias\u001b[0m\u001b[0;34m)\u001b[0m\u001b[0;34m\u001b[0m\u001b[0;34m\u001b[0m\u001b[0m\n\u001b[0m\u001b[1;32m   1849\u001b[0m \u001b[0;34m\u001b[0m\u001b[0m\n\u001b[1;32m   1850\u001b[0m \u001b[0;34m\u001b[0m\u001b[0m\n",
            "\u001b[0;31mTypeError\u001b[0m: linear(): argument 'input' (position 1) must be Tensor, not numpy.ndarray"
          ]
        }
      ]
    },
    {
      "cell_type": "code",
      "source": [
        "# Plot\n",
        "plt.scatter(np.real(x_test), np.imag(x_test))\n",
        "plt.title('Learned constellation')\n",
        "plt.grid()"
      ],
      "metadata": {
        "id": "ACF10d9xJMjS",
        "outputId": "1db98e55-d0be-4301-8078-a15da0ab07a6",
        "colab": {
          "base_uri": "https://localhost:8080/",
          "height": 217
        }
      },
      "id": "ACF10d9xJMjS",
      "execution_count": 51,
      "outputs": [
        {
          "output_type": "error",
          "ename": "NameError",
          "evalue": "ignored",
          "traceback": [
            "\u001b[0;31m---------------------------------------------------------------------------\u001b[0m",
            "\u001b[0;31mNameError\u001b[0m                                 Traceback (most recent call last)",
            "\u001b[0;32m<ipython-input-51-226fc656aa1f>\u001b[0m in \u001b[0;36m<module>\u001b[0;34m()\u001b[0m\n\u001b[1;32m      1\u001b[0m \u001b[0;31m# Plot\u001b[0m\u001b[0;34m\u001b[0m\u001b[0;34m\u001b[0m\u001b[0;34m\u001b[0m\u001b[0m\n\u001b[0;32m----> 2\u001b[0;31m \u001b[0mplt\u001b[0m\u001b[0;34m.\u001b[0m\u001b[0mscatter\u001b[0m\u001b[0;34m(\u001b[0m\u001b[0mnp\u001b[0m\u001b[0;34m.\u001b[0m\u001b[0mreal\u001b[0m\u001b[0;34m(\u001b[0m\u001b[0mx_test\u001b[0m\u001b[0;34m)\u001b[0m\u001b[0;34m,\u001b[0m \u001b[0mnp\u001b[0m\u001b[0;34m.\u001b[0m\u001b[0mimag\u001b[0m\u001b[0;34m(\u001b[0m\u001b[0mx_test\u001b[0m\u001b[0;34m)\u001b[0m\u001b[0;34m)\u001b[0m\u001b[0;34m\u001b[0m\u001b[0;34m\u001b[0m\u001b[0m\n\u001b[0m\u001b[1;32m      3\u001b[0m \u001b[0mplt\u001b[0m\u001b[0;34m.\u001b[0m\u001b[0mtitle\u001b[0m\u001b[0;34m(\u001b[0m\u001b[0;34m'Learned constellation'\u001b[0m\u001b[0;34m)\u001b[0m\u001b[0;34m\u001b[0m\u001b[0;34m\u001b[0m\u001b[0m\n\u001b[1;32m      4\u001b[0m \u001b[0mplt\u001b[0m\u001b[0;34m.\u001b[0m\u001b[0mgrid\u001b[0m\u001b[0;34m(\u001b[0m\u001b[0;34m)\u001b[0m\u001b[0;34m\u001b[0m\u001b[0;34m\u001b[0m\u001b[0m\n",
            "\u001b[0;31mNameError\u001b[0m: name 'x_test' is not defined"
          ]
        }
      ]
    }
  ],
  "metadata": {
    "kernelspec": {
      "display_name": "Python 3 (ipykernel)",
      "language": "python",
      "name": "python3"
    },
    "language_info": {
      "codemirror_mode": {
        "name": "ipython",
        "version": 3
      },
      "file_extension": ".py",
      "mimetype": "text/x-python",
      "name": "python",
      "nbconvert_exporter": "python",
      "pygments_lexer": "ipython3",
      "version": "3.9.2"
    },
    "colab": {
      "name": "tut07.ipynb",
      "provenance": [],
      "collapsed_sections": [],
      "include_colab_link": true
    }
  },
  "nbformat": 4,
  "nbformat_minor": 5
}