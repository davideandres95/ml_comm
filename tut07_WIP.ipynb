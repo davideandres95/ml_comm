{
  "cells": [
    {
      "cell_type": "markdown",
      "metadata": {
        "id": "view-in-github",
        "colab_type": "text"
      },
      "source": [
        "<a href=\"https://colab.research.google.com/github/davideandres95/ml_comm/blob/main/tut07_WIP.ipynb\" target=\"_parent\"><img src=\"https://colab.research.google.com/assets/colab-badge.svg\" alt=\"Open In Colab\"/></a>"
      ]
    },
    {
      "cell_type": "markdown",
      "id": "9f6902f4",
      "metadata": {
        "id": "9f6902f4"
      },
      "source": [
        "#  Tutorial 7: Mapper\n",
        "December 9, 2021"
      ]
    },
    {
      "cell_type": "code",
      "execution_count": 32,
      "id": "95c453ff",
      "metadata": {
        "id": "95c453ff"
      },
      "outputs": [],
      "source": [
        "import numpy as np\n",
        "import matplotlib.pyplot as plt\n",
        "import torch            \n",
        "from torch import nn, optim"
      ]
    },
    {
      "cell_type": "code",
      "source": [
        "import warnings\n",
        "warnings.filterwarnings('ignore')"
      ],
      "metadata": {
        "id": "4EdgLkFXzIZP"
      },
      "id": "4EdgLkFXzIZP",
      "execution_count": null,
      "outputs": []
    },
    {
      "cell_type": "code",
      "source": [
        "plt.rcParams['figure.figsize'] = [12, 8]\n",
        "plt.rcParams['figure.dpi'] = 100 "
      ],
      "metadata": {
        "id": "sdxR4QQ5VGGd"
      },
      "id": "sdxR4QQ5VGGd",
      "execution_count": null,
      "outputs": []
    },
    {
      "cell_type": "markdown",
      "id": "14158b7c",
      "metadata": {
        "id": "14158b7c"
      },
      "source": [
        "##### Problem 6.1 - One hot mapping\n",
        "Consider a mapper that maps a message $a \\in \\mathcal{A} = \\{0,1, \\dots, M-1 \\}$  with $M = 2^m$ to a channel input alphabet \n",
        "$\\mathcal{X} = \\{x_0, x_1, \\dots, x^{M-1}\\}$,i.e., $a \\mapsto x_a$. \n",
        "The channel input alphabet is fixed and given.\n",
        "* 1) Let $u = \\{u_1, u_2, \\dots,  u_{M-1} \\}$ be a one-hot representation of message a, i.e., $u_i(a) = 1(i =a)$. \n",
        "Show that a linear neuron with $M$ inputs can realize the mapping $u(a) \\mapsto  x_a$,\n",
        "$a \\in \\mathcal{A}$, for any input alphabet $\\mathcal{A}$.\n"
      ]
    },
    {
      "cell_type": "code",
      "execution_count": null,
      "id": "e757695f",
      "metadata": {
        "id": "e757695f"
      },
      "outputs": [],
      "source": [
        "def one_hot(a, M):\n",
        "    onehot = np.zeros(M)\n",
        "    onehot[a] = 1\n",
        "    return onehot\n"
      ]
    },
    {
      "cell_type": "code",
      "execution_count": null,
      "id": "38f2e48e",
      "metadata": {
        "id": "38f2e48e"
      },
      "outputs": [],
      "source": [
        "class Mapper(nn.Module):\n",
        "    def __init__(self, alphabet):\n",
        "        super().__init__()\n",
        "        self.M = alphabet.size\n",
        "        self.lin1 = nn.Linear(self.M, 1, bias=False) # set bias to zero\n",
        "        self.lin1.weight = nn.Parameter(torch.Tensor([[i for i in alphabet]]).double()) # set weigths equal to alphabet values\n",
        "\n",
        "    def forward(self, y):\n",
        "        y = self.lin1(y)\n",
        "        return y"
      ]
    },
    {
      "cell_type": "code",
      "execution_count": null,
      "id": "66e1797c",
      "metadata": {
        "id": "66e1797c"
      },
      "outputs": [],
      "source": [
        "M = 8\n",
        "alphabet = np.array([-7, -5, -3, -1, 1, 3, 5, 7])\n",
        "mapper = Mapper(alphabet)\n",
        "messages = np.arange(M)\n",
        "\n",
        "for i in messages:\n",
        "    print('-------')\n",
        "    print(f'Message: {i}')\n",
        "    print(f'One-hot representation: {one_hot(i,M)}')\n",
        "    t = torch.tensor(one_hot(i,M)).double()\n",
        "    x = mapper(t)\n",
        "    print(f'Neuron output: {x[0].detach()}')"
      ]
    },
    {
      "cell_type": "markdown",
      "id": "56beb53f",
      "metadata": {
        "id": "56beb53f"
      },
      "source": [
        "* 2) For $M = 8$, sample the symbols in $\\mathcal{X}$ uniform at random from the interval $[-8, 8]$\n",
        "and train a linear neuron that realizes $u(a) \\mapsto x_a$ using the MSE loss."
      ]
    },
    {
      "cell_type": "code",
      "execution_count": null,
      "id": "91b26ca1",
      "metadata": {
        "id": "91b26ca1"
      },
      "outputs": [],
      "source": [
        "def classic_mapper(msg, alphabet):\n",
        "    return alphabet[msg]"
      ]
    },
    {
      "cell_type": "code",
      "execution_count": null,
      "id": "b0040ab5",
      "metadata": {
        "id": "b0040ab5"
      },
      "outputs": [],
      "source": [
        "class Mapper2(nn.Module):\n",
        "    def __init__(self, M):\n",
        "        super().__init__()\n",
        "        self.lin1 = nn.Linear(M, 1)\n",
        "        \n",
        "    def forward(self, y):\n",
        "        y = self.lin1(y)\n",
        "        return y"
      ]
    },
    {
      "cell_type": "code",
      "execution_count": null,
      "id": "69dc1356",
      "metadata": {
        "id": "69dc1356"
      },
      "outputs": [],
      "source": [
        "# Create data \n",
        "n = 100000\n",
        "a = np.random.choice(range(M), size=n) # messages \n",
        "x = classic_mapper(a, alphabet) # alphabeth symbols to be used as labels\n",
        "onehot = np.array([one_hot(a[i], M) for i in range(n)]) # hot one representation to be used as inputs"
      ]
    },
    {
      "cell_type": "code",
      "execution_count": null,
      "id": "70c49132",
      "metadata": {
        "id": "70c49132"
      },
      "outputs": [],
      "source": [
        "# Initialize network\n",
        "mapper2 = Mapper2(M)\n",
        "# loss function\n",
        "loss_fn = nn.MSELoss()\n",
        "# Optimizer\n",
        "optimizer = optim.Adam(mapper2.parameters(), lr=0.1)"
      ]
    },
    {
      "cell_type": "code",
      "execution_count": null,
      "id": "df41e8b0",
      "metadata": {
        "id": "df41e8b0",
        "outputId": "07160c61-8fe2-44b2-a9ad-6fc921405c10",
        "colab": {
          "base_uri": "https://localhost:8080/"
        }
      },
      "outputs": [
        {
          "output_type": "stream",
          "name": "stdout",
          "text": [
            "epoch 0: Loss = 20.3174\n",
            "epoch 100: Loss = 0.0517\n",
            "epoch 200: Loss = 0.0000\n",
            "epoch 300: Loss = 0.0000\n",
            "epoch 400: Loss = 0.0000\n",
            "epoch 500: Loss = 0.0000\n",
            "epoch 600: Loss = 0.0000\n",
            "epoch 700: Loss = 0.0000\n",
            "epoch 800: Loss = 0.0000\n",
            "epoch 900: Loss = 0.0000\n"
          ]
        }
      ],
      "source": [
        "x_t = torch.tensor(x.reshape(-1,1)).float()\n",
        "onehot_t = torch.tensor(onehot).float()\n",
        "# Training loop\n",
        "for j in range(1000):\n",
        "    x_hat = mapper2(onehot_t)\n",
        "    loss = loss_fn(x_hat, x_t)\n",
        "    optimizer.zero_grad()\n",
        "    loss.backward()\n",
        "    optimizer.step()\n",
        "\n",
        "    # Printout and visualization\n",
        "    if j % 100 == 0:\n",
        "        print(f'epoch {j}: Loss = {loss.detach().numpy() :.4f}')"
      ]
    },
    {
      "cell_type": "code",
      "execution_count": null,
      "id": "8a15edf2",
      "metadata": {
        "id": "8a15edf2",
        "outputId": "9df9cce8-f800-49c7-e627-922583c6518f",
        "colab": {
          "base_uri": "https://localhost:8080/",
          "height": 265
        }
      },
      "outputs": [
        {
          "output_type": "display_data",
          "data": {
            "image/png": "[encoded data removed]",
            "text/plain": [
              "<Figure size 432x288 with 1 Axes>"
            ]
          },
          "metadata": {
            "needs_background": "light"
          }
        }
      ],
      "source": [
        "# Data for the plots\n",
        "a_plot = np.arange(M)\n",
        "x_plot = classic_mapper(a, alphabet)\n",
        "onehot_plot = torch.tensor(np.array([one_hot(a_plot[i], M) for i in range(M)])).float()\n",
        "xhat_plot = mapper2(onehot_plot).detach().numpy()\n",
        "# Plot\n",
        "plt.scatter(np.real(xhat_plot),np.imag(xhat_plot), marker=\"o\",label='learned const')\n",
        "plt.scatter(np.real(x_plot),np.imag(x_plot), marker='x', label='target const')\n",
        "\n",
        "plt.legend()\n",
        "plt.grid()"
      ]
    },
    {
      "cell_type": "markdown",
      "id": "c07d8e20",
      "metadata": {
        "id": "c07d8e20"
      },
      "source": [
        "* 3) Let $\\boldsymbol{b} = \\{b_0, b_1, \\dots, b_{m-1} \\}$ be a binary representation of message $a$. Identify an input\n",
        "alphabet $\\mathcal{X}$ for which a linear neuron with $m$ inputs cannot realize the mapping $\\boldsymbol{b}(a) \\mapsto x_a$."
      ]
    },
    {
      "cell_type": "markdown",
      "id": "a172fddb",
      "metadata": {
        "id": "a172fddb"
      },
      "source": [
        "* 4) For the input alphabet you identified in 3), train a linear unit with $m$ inputs using\n",
        "the MSE loss to verify that the mapping $\\boldsymbol{b}(a) \\mapsto x_a$ can indeed not be realized."
      ]
    },
    {
      "cell_type": "code",
      "execution_count": null,
      "id": "b4576832",
      "metadata": {
        "id": "b4576832"
      },
      "outputs": [],
      "source": [
        "def get_labeling(msg):\n",
        "    label = np.array([[0,0,0], [0,0,1], [0,1,1], [0,1,0], [1,1,0], [1,1,1], [1,0,1], [1,0,0]])\n",
        "    return label[msg, :]"
      ]
    },
    {
      "cell_type": "code",
      "execution_count": null,
      "id": "a3f50ae9",
      "metadata": {
        "id": "a3f50ae9"
      },
      "outputs": [],
      "source": [
        "class Mapper3(nn.Module):\n",
        "    def __init__(self, m):\n",
        "        super().__init__()\n",
        "        self.lin1 = nn.Linear(m, 1)\n",
        "        \n",
        "    def forward(self, y):\n",
        "        y = self.lin1(y)\n",
        "        return y"
      ]
    },
    {
      "cell_type": "code",
      "execution_count": null,
      "id": "ba4fe306",
      "metadata": {
        "id": "ba4fe306",
        "outputId": "699c152b-7392-489e-e0e1-245f38136011",
        "colab": {
          "base_uri": "https://localhost:8080/"
        }
      },
      "outputs": [
        {
          "output_type": "stream",
          "name": "stdout",
          "text": [
            "epoch 0: Loss = 20.9441\n",
            "epoch 100: Loss = 5.2082\n",
            "epoch 200: Loss = 4.9947\n",
            "epoch 300: Loss = 4.9947\n",
            "epoch 400: Loss = 4.9947\n",
            "epoch 500: Loss = 4.9947\n",
            "epoch 600: Loss = 4.9947\n",
            "epoch 700: Loss = 4.9947\n",
            "epoch 800: Loss = 4.9947\n",
            "epoch 900: Loss = 4.9947\n"
          ]
        }
      ],
      "source": [
        "m = 3\n",
        "x_t = torch.tensor(x.reshape(-1,1)).float()\n",
        "bits = get_labeling(a)\n",
        "bits_t = torch.tensor(bits).float()\n",
        "# Initialize network\n",
        "mapper3 = Mapper3(m)\n",
        "# loss function\n",
        "loss_fn = nn.MSELoss()\n",
        "# Optimizer\n",
        "optimizer = optim.Adam(mapper3.parameters(), lr=0.1)\n",
        "# Training loop\n",
        "for j in range(1000):\n",
        "    x_hat = mapper3(bits_t)\n",
        "    loss = loss_fn(x_hat, x_t)\n",
        "    optimizer.zero_grad()\n",
        "    loss.backward()\n",
        "    optimizer.step()\n",
        "\n",
        "    # Printout and visualization\n",
        "    if j % 100 == 0:\n",
        "        print(f'epoch {j}: Loss = {loss.detach().numpy() :.4f}')"
      ]
    },
    {
      "cell_type": "code",
      "execution_count": null,
      "id": "da551939",
      "metadata": {
        "id": "da551939",
        "outputId": "f6b39704-d35d-4875-8587-56e54281e7c0",
        "colab": {
          "base_uri": "https://localhost:8080/",
          "height": 265
        }
      },
      "outputs": [
        {
          "output_type": "display_data",
          "data": {
            "image/png": "[encoded data removed]",
            "text/plain": [
              "<Figure size 432x288 with 1 Axes>"
            ]
          },
          "metadata": {
            "needs_background": "light"
          }
        }
      ],
      "source": [
        "# Data for the plots\n",
        "A = get_labeling(range(M))\n",
        "x_plot = classic_mapper(range(M), alphabet)\n",
        "xhat_plot = mapper3(torch.tensor(A).float()).detach().numpy()\n",
        "# Plot\n",
        "plt.scatter(np.real(xhat_plot),np.imag(xhat_plot), marker=\"o\",label='learned const')\n",
        "plt.scatter(np.real(x_plot),np.imag(x_plot), marker='x', label='target const')\n",
        "plt.legend()\n",
        "plt.grid()"
      ]
    },
    {
      "cell_type": "markdown",
      "id": "6d69c04b",
      "metadata": {
        "id": "6d69c04b"
      },
      "source": [
        "* 5) For the input alphabet from 3), devise a non-linear neural network with $m$\n",
        "inputs that approximates the mapping $\\boldsymbol{b}(a) \\mapsto x_a$ well w.r.t. the MSE loss."
      ]
    },
    {
      "cell_type": "code",
      "execution_count": null,
      "id": "a100eab3",
      "metadata": {
        "id": "a100eab3"
      },
      "outputs": [],
      "source": [
        "class Mapper4(nn.Module):\n",
        "    def __init__(self, m, width):\n",
        "        super().__init__()\n",
        "        self.lin1 = nn.Linear(m, width)\n",
        "        self.act1 = nn.ReLU()\n",
        "        self.lin2 = nn.Linear(width, width)\n",
        "        self.act2 = nn.ReLU()\n",
        "        self.lin3 = nn.Linear(width, 1)\n",
        "        \n",
        "    def forward(self, y):\n",
        "        y = self.act1(self.lin1(y))\n",
        "        y = self.act2(self.lin2(y))\n",
        "        return self.lin3(y)"
      ]
    },
    {
      "cell_type": "code",
      "execution_count": null,
      "id": "6efc82aa",
      "metadata": {
        "id": "6efc82aa",
        "outputId": "1ff1ec85-7b71-4a5e-9382-809b07d81ac5",
        "colab": {
          "base_uri": "https://localhost:8080/"
        }
      },
      "outputs": [
        {
          "output_type": "stream",
          "name": "stdout",
          "text": [
            "epoch 0: Loss = 20.6980\n"
          ]
        }
      ],
      "source": [
        "m = 3\n",
        "nn_width = 10\n",
        "x_t = torch.tensor(x.reshape(-1,1)).float()\n",
        "bits = get_labeling(a)\n",
        "bits_t = torch.tensor(bits).float()\n",
        "# Initialize network\n",
        "mapper4 = Mapper4(m, nn_width)\n",
        "# loss function\n",
        "loss_fn = nn.MSELoss()\n",
        "# Optimizer\n",
        "optimizer = optim.Adam(mapper4.parameters(), lr=0.1)\n",
        "# Training loop\n",
        "for j in range(1000):\n",
        "    x_hat = mapper4(bits_t)\n",
        "    loss = loss_fn(x_hat, x_t)\n",
        "    optimizer.zero_grad()\n",
        "    loss.backward()\n",
        "    optimizer.step()\n",
        "\n",
        "    # Printout and visualization\n",
        "    if j % 100 == 0:\n",
        "        print(f'epoch {j}: Loss = {loss.detach().numpy() :.4f}')\n",
        "    if loss < 1e-3:\n",
        "        break"
      ]
    },
    {
      "cell_type": "code",
      "execution_count": null,
      "id": "a3c1e171",
      "metadata": {
        "id": "a3c1e171",
        "outputId": "6887f412-70a2-481e-8a36-a30b3a23f786",
        "colab": {
          "base_uri": "https://localhost:8080/",
          "height": 265
        }
      },
      "outputs": [
        {
          "output_type": "display_data",
          "data": {
            "image/png": "[encoded data removed]",
            "text/plain": [
              "<Figure size 432x288 with 1 Axes>"
            ]
          },
          "metadata": {
            "needs_background": "light"
          }
        }
      ],
      "source": [
        "# Data for the plots\n",
        "A = get_labeling(range(M))\n",
        "x_plot = classic_mapper(range(M), alphabet)\n",
        "xhat_plot = mapper4(torch.tensor(A).float()).detach().numpy()\n",
        "# Plot\n",
        "plt.scatter(np.real(xhat_plot),np.imag(xhat_plot), marker=\"o\",label='learned const')\n",
        "plt.scatter(np.real(x_plot),np.imag(x_plot), marker='x', label='target const')\n",
        "\n",
        "plt.legend()\n",
        "plt.grid()"
      ]
    },
    {
      "cell_type": "markdown",
      "id": "61d78d63",
      "metadata": {
        "id": "61d78d63"
      },
      "source": [
        "##### Problem 6.2 \n",
        "Consider the channel in the picture.\n",
        "* 1) Implement the channel as differentiable function supporting torch.autograd using functions provided by torch\n",
        "* 2) Use a linear neuron with $M$ inputs and one output as transmitter and a linear neuron with one input and M outputs as receiver. \n",
        "Sample a message $a \\in  \\{0,1, \\dots, M-1 \\}$ and use its one-hot representation $\\boldsymbol{u}$ as transmitter input. \n",
        "Train transmitter and receiver w.r.t. the cross equivocation $ce(\\boldsymbol{u}, \\boldsymbol{\\ell})$, where $\\boldsymbol{\\ell}$ is the receiver output.\n",
        "* 3) Plot the learned channel input alphabet and compare it to the scatterplot of the channel output."
      ]
    },
    {
      "cell_type": "code",
      "execution_count": null,
      "id": "d7cc7546",
      "metadata": {
        "id": "d7cc7546"
      },
      "outputs": [],
      "source": [
        "# Channel \n",
        "def tanh_channel(x, sigma2, seed=None):\n",
        "    noise_t = sigma2*torch.randn(len(x),1)\n",
        "    return torch.add(torch.tanh(x), noise_t)\n",
        "    #return torch.tanh(x)\n",
        "#TODO: make it wotk also with additive noise"
      ]
    },
    {
      "cell_type": "code",
      "execution_count": null,
      "id": "cb8c99d8",
      "metadata": {
        "id": "cb8c99d8",
        "outputId": "55e517c7-60b6-43f2-f18b-6b5692c0b675",
        "colab": {
          "base_uri": "https://localhost:8080/",
          "height": 265
        }
      },
      "outputs": [
        {
          "output_type": "display_data",
          "data": {
            "image/png": "[encoded data removed]",
            "text/plain": [
              "<Figure size 432x288 with 1 Axes>"
            ]
          },
          "metadata": {
            "needs_background": "light"
          }
        }
      ],
      "source": [
        "x = np.arange(-8,9,0.1)\n",
        "plt.plot(x, np.tanh(x))\n",
        "plt.grid()"
      ]
    },
    {
      "cell_type": "code",
      "execution_count": null,
      "id": "5fb387aa",
      "metadata": {
        "id": "5fb387aa"
      },
      "outputs": [],
      "source": [
        "# Transmitter and receiver NNs\n",
        "class Tanh_transmitter(nn.Module):\n",
        "    def __init__(self, M):\n",
        "        super().__init__()\n",
        "        self.lin1 = nn.Linear(M, 1)\n",
        "\n",
        "    def forward(self, y):\n",
        "        y = self.lin1(y)\n",
        "        return y\n",
        "    \n",
        "class Tanh_receiver(nn.Module):\n",
        "    def __init__(self, M):\n",
        "        super().__init__()\n",
        "        self.lin1 = nn.Linear(1, M)\n",
        "\n",
        "    def forward(self, y):\n",
        "        y = self.lin1(y)\n",
        "        return y    "
      ]
    },
    {
      "cell_type": "code",
      "execution_count": null,
      "id": "80fa7a82",
      "metadata": {
        "id": "80fa7a82"
      },
      "outputs": [],
      "source": [
        "# Create data\n",
        "n = 100000\n",
        "snrdB = 20\n",
        "snr = 10**(snrdB/10)\n",
        "sigma2 = 1/snr\n",
        "a = np.random.choice(range(M), size=n)\n",
        "onehot = np.array([one_hot(a[i], M) for i in range(n)])"
      ]
    },
    {
      "cell_type": "code",
      "execution_count": null,
      "id": "14bc5036",
      "metadata": {
        "id": "14bc5036"
      },
      "outputs": [],
      "source": [
        "# Initialize networks\n",
        "tx = Tanh_transmitter(M)\n",
        "rx = Tanh_receiver(M)\n",
        "# Loss function\n",
        "loss_fn = nn.CrossEntropyLoss()\n",
        "# Optimizer\n",
        "optimizer = optim.Adam(list(tx.parameters()) + list(rx.parameters()), lr=0.1)"
      ]
    },
    {
      "cell_type": "code",
      "execution_count": null,
      "id": "0fbdb225",
      "metadata": {
        "id": "0fbdb225"
      },
      "outputs": [],
      "source": [
        " # Batches\n",
        "batch_size = 100\n",
        "onehot_t = torch.tensor(onehot).float()\n",
        "a_t = torch.tensor(a)\n",
        "a_t = a_t.type(torch.LongTensor)"
      ]
    },
    {
      "cell_type": "code",
      "execution_count": null,
      "id": "30a8d286",
      "metadata": {
        "id": "30a8d286",
        "outputId": "1876a0a2-e8c7-46c3-d50d-8fa977d47ad2",
        "colab": {
          "base_uri": "https://localhost:8080/"
        }
      },
      "outputs": [
        {
          "output_type": "stream",
          "name": "stdout",
          "text": [
            "epoch 0: Loss = 2.9631\n",
            "epoch 1000: Loss = 1.0119\n",
            "epoch 2000: Loss = 0.8127\n",
            "epoch 3000: Loss = 0.7036\n",
            "epoch 4000: Loss = 0.6402\n",
            "epoch 5000: Loss = 0.6090\n",
            "epoch 6000: Loss = 0.5958\n",
            "epoch 7000: Loss = 0.5854\n",
            "epoch 8000: Loss = 0.5781\n",
            "epoch 9000: Loss = 0.5746\n"
          ]
        }
      ],
      "source": [
        "# Training loop\n",
        "for j in range(10000):\n",
        "    x = tx(onehot_t)\n",
        "    y = tanh_channel(x, sigma2).float()\n",
        "    l = rx(y)\n",
        "    loss = loss_fn(l, a_t)\n",
        "    optimizer.zero_grad()\n",
        "    loss.backward()\n",
        "    optimizer.step()\n",
        "\n",
        "    # Printout and visualization\n",
        "    if j % 1000 == 0:\n",
        "        print(f'epoch {j}: Loss = {loss.detach().numpy() :.4f}')\n",
        "    if loss < 1e-3:\n",
        "        break"
      ]
    },
    {
      "cell_type": "code",
      "execution_count": null,
      "id": "d75a6a3a",
      "metadata": {
        "id": "d75a6a3a"
      },
      "outputs": [],
      "source": [
        "# Data for the plots\n",
        "a_plot = np.arange(M)\n",
        "onehot_plot = np.array([one_hot(a_plot[i], M) for i in range(M)])\n",
        "learned_x = tx(torch.tensor(onehot_plot).float())\n",
        "yy_plot = torch.tanh(learned_x)"
      ]
    },
    {
      "cell_type": "code",
      "execution_count": null,
      "id": "3ab761ab",
      "metadata": {
        "id": "3ab761ab",
        "outputId": "00769822-7c34-47de-993c-976fbdf02409",
        "colab": {
          "base_uri": "https://localhost:8080/",
          "height": 281
        }
      },
      "outputs": [
        {
          "output_type": "display_data",
          "data": {
            "image/png": "[encoded data removed]",
            "text/plain": [
              "<Figure size 432x288 with 1 Axes>"
            ]
          },
          "metadata": {
            "needs_background": "light"
          }
        }
      ],
      "source": [
        "# Plot\n",
        "plt.scatter(np.real(learned_x.detach().numpy()), np.imag(learned_x.detach().numpy()))\n",
        "plt.title('Learned constellation')\n",
        "plt.grid()"
      ]
    },
    {
      "cell_type": "code",
      "execution_count": null,
      "id": "4ae71e14",
      "metadata": {
        "id": "4ae71e14",
        "outputId": "9ce99809-34f1-4c98-b803-cb2a408135d6",
        "colab": {
          "base_uri": "https://localhost:8080/",
          "height": 281
        }
      },
      "outputs": [
        {
          "output_type": "display_data",
          "data": {
            "image/png": "[encoded data removed]",
            "text/plain": [
              "<Figure size 432x288 with 1 Axes>"
            ]
          },
          "metadata": {
            "needs_background": "light"
          }
        }
      ],
      "source": [
        "plt.scatter(np.real(yy_plot.detach().numpy()), np.imag(yy_plot.detach().numpy()))\n",
        "plt.title('Constellation after tanh')\n",
        "plt.grid()"
      ]
    },
    {
      "cell_type": "code",
      "source": [
        "def message(onehot):\n",
        "    return np.where(onehot == 1) # integers\n",
        "\n",
        "def softmax(x):\n",
        "    \"\"\"Compute softmax values for each sets of scores in x.\"\"\"\n",
        "    e_x = np.exp(x - np.max(x))\n",
        "    return e_x / e_x.sum()\n",
        "\n",
        "def recover_onehot(soft_decision):\n",
        "     max_index = np.where(soft_decision == np.amax(soft_decision))\n",
        "     onehot = np.zeros(len(soft_decision))\n",
        "     onehot[max_index] = 1\n",
        "     return onehot"
      ],
      "metadata": {
        "id": "cYxJ4hVFPdpq"
      },
      "id": "cYxJ4hVFPdpq",
      "execution_count": null,
      "outputs": []
    },
    {
      "cell_type": "code",
      "source": [
        "# Create test data\n",
        "n = 100\n",
        "a_test = np.random.choice(range(M), size=n)\n",
        "onehot_test = np.array([one_hot(a_test[i], M) for i in range(n)])\n",
        "x_test = tx(torch.tensor(onehot_test).float()) # mapped symbols\n",
        "y_test = tanh_channel(x_test, sigma2).float()\n",
        "x_hat_test = [recover_onehot(softmax(i)) for i in rx(y_test).detach().numpy()]\n",
        "a_hat_test = np.array([message(i)[0].tolist()[0] for i in x_hat_test])"
      ],
      "metadata": {
        "id": "rNZ9ehZNHGQT"
      },
      "id": "rNZ9ehZNHGQT",
      "execution_count": null,
      "outputs": []
    },
    {
      "cell_type": "code",
      "source": [
        "# Plot\n",
        "plt.scatter(np.real(x_test.detach().numpy()), np.imag(x_test.detach().numpy()))\n",
        "plt.title('channel input')\n",
        "plt.grid()"
      ],
      "metadata": {
        "id": "ACF10d9xJMjS",
        "outputId": "d8b413f0-b06e-4d6b-fa53-71f5fadb4946",
        "colab": {
          "base_uri": "https://localhost:8080/",
          "height": 281
        }
      },
      "id": "ACF10d9xJMjS",
      "execution_count": null,
      "outputs": [
        {
          "output_type": "display_data",
          "data": {
            "image/png": "[encoded data removed]",
            "text/plain": [
              "<Figure size 432x288 with 1 Axes>"
            ]
          },
          "metadata": {
            "needs_background": "light"
          }
        }
      ]
    },
    {
      "cell_type": "code",
      "source": [
        "# Plot\n",
        "plt.scatter(np.real(y_test.detach().numpy()), np.imag(y_test.detach().numpy()))\n",
        "plt.title('channel output')\n",
        "plt.grid()"
      ],
      "metadata": {
        "colab": {
          "base_uri": "https://localhost:8080/",
          "height": 281
        },
        "id": "uv3Ad_I7MkGA",
        "outputId": "b4f69a18-1ee3-4dac-d4e8-e5eb25c89aa6"
      },
      "id": "uv3Ad_I7MkGA",
      "execution_count": null,
      "outputs": [
        {
          "output_type": "display_data",
          "data": {
            "image/png": "[encoded data removed]",
            "text/plain": [
              "<Figure size 432x288 with 1 Axes>"
            ]
          },
          "metadata": {
            "needs_background": "light"
          }
        }
      ]
    },
    {
      "cell_type": "code",
      "source": [
        "# Plot\n",
        "plt.hist(a_hat_test, bins=np.arange(1, 7, 0.1))\n",
        "plt.hist(a_test, bins=np.arange(1, 8, 0.1))\n",
        "plt.title('demapper output')\n",
        "plt.grid()"
      ],
      "metadata": {
        "colab": {
          "base_uri": "https://localhost:8080/",
          "height": 281
        },
        "id": "AhmaZmS4Mw_p",
        "outputId": "5f321005-bad3-4d04-a94f-34fa0f44abec"
      },
      "id": "AhmaZmS4Mw_p",
      "execution_count": null,
      "outputs": [
        {
          "output_type": "display_data",
          "data": {
            "image/png": "[encoded data removed]",
            "text/plain": [
              "<Figure size 432x288 with 1 Axes>"
            ]
          },
          "metadata": {
            "needs_background": "light"
          }
        }
      ]
    },
    {
      "cell_type": "markdown",
      "source": [
        "##### Problem 6.3\n",
        "Consider an SNR constraint as introduced in Section 6.1.3. Specifically, we consider a complex signal, which we represent by a real signal where two successive real symbols are the inphase and quadrature\n",
        "components, respectively, of one complex symbol, i.e.,\n",
        "\n",
        "$x_{2i} x_{2i+1} \\leftrightarrow  c_{i} = x_{2i} + jx_{2i+1}$\n",
        "\n",
        "We normalize the average power of the signal, i.e., for a batch size of $n_{batch}$ complex symbols, we impose:\n",
        "\n",
        "$\\frac{1}{n_{batch}}\\sum \\limits _{i=0} ^{n_{batch}-1} x_{i}^{2} = P $\n",
        "\n",
        "After normalization, we add zero mean Gaussian noise.\n",
        "\n",
        "The task is now to learn a 2D constellation with 16 complex symbols.\n",
        "1. Implement the normalization layer followed by AWGN as differentiable function\n",
        "in pytorch.\n",
        "2. For a one-hot representation of the message, implement a linear unit with M = 16\n",
        "inputs and 2 outputs as a mapper at the transmitter, and a linear unit with 2\n",
        "inputs and M = 16 outputs as demapper at the receiver.\n",
        "3. Jointly train mapper and demapper w.r.t. CE loss for SNR equal to 0, 2, . . . , 10\n",
        "dB and plot the learned constellations."
      ],
      "metadata": {
        "id": "0YeIrCX72s8G"
      },
      "id": "0YeIrCX72s8G"
    },
    {
      "cell_type": "code",
      "source": [
        "# SNR Channel \n",
        "def snr_channel(x, snr, seed=None):\n",
        "    norm_factor = np.sqrt(1/np.sum([i**2 for i in x.detach().numpy().reshape(1,-1)]))\n",
        "    norm_x =  x*norm_factor\n",
        "    #print(\"The power:\",np.sum([i**2 for i in norm_x])*1/len(x))\n",
        "    sigma2 = 1/snr\n",
        "    noise_t = sigma2*torch.randn(len(x),1)\n",
        "    channel_output = torch.add(norm_x, noise_t)\n",
        "    return channel_output"
      ],
      "metadata": {
        "id": "4_2-1S0Z7Yzu"
      },
      "id": "4_2-1S0Z7Yzu",
      "execution_count": null,
      "outputs": []
    },
    {
      "cell_type": "code",
      "source": [
        "def snr_channel(x, snr, seed=None):\n",
        "    sigma2 = 1/snr\n",
        "    c = torch.mean(x**2)\n",
        "    norm_x = torch.sqrt(1 / c) * x\n",
        "    noise_t = np.sqrt(sigma2)*torch.randn(x.shape)\n",
        "    return torch.add(x, noise_t)\n"
      ],
      "metadata": {
        "id": "sb7HOfvI6yf8"
      },
      "id": "sb7HOfvI6yf8",
      "execution_count": 69,
      "outputs": []
    },
    {
      "cell_type": "code",
      "source": [
        "# Transmitter and receiver NNs\n",
        "class Snr_transmitter(nn.Module):\n",
        "    def __init__(self, M):\n",
        "        super().__init__()\n",
        "        self.lin1 = nn.Linear(M, 2)\n",
        "\n",
        "    def forward(self, y):\n",
        "        y = self.lin1(y)\n",
        "        return y\n",
        "    \n",
        "class Snr_receiver(nn.Module):\n",
        "    def __init__(self, M):\n",
        "        super().__init__()\n",
        "        self.lin1 = nn.Linear(2, M)\n",
        "\n",
        "    def forward(self, y):\n",
        "        y = self.lin1(y)\n",
        "        return y    "
      ],
      "metadata": {
        "id": "2X9s-HifGkwM"
      },
      "id": "2X9s-HifGkwM",
      "execution_count": null,
      "outputs": []
    },
    {
      "cell_type": "code",
      "source": [
        "def train_snr_scheme(snrdB, num_epochs, dataloader, labelloader, tx, rx, loss_fn, optimizer):\n",
        "  snr = 10**(snrdB/10)\n",
        "  loss_last_batch = []\n",
        "  for j in range(num_epochs):\n",
        "      for data, label in zip(dataloader, labelloader):\n",
        "          #onehot_t = torch.tensor(onehot).float()\n",
        "          x = tx(data)\n",
        "          y = snr_channel(x, snr)\n",
        "          l = rx(y)\n",
        "          loss = loss_fn(l, label)\n",
        "          loss_last_batch.append(loss.detach().numpy())\n",
        "          optimizer.zero_grad()\n",
        "          loss.backward()\n",
        "          optimizer.step()\n",
        "\n",
        "      # Printout and visualization\n",
        "      if j % 10 == 0:\n",
        "          print(f'epoch {j}: Loss = {loss.detach().numpy()/np.log(2) :.4f} dB')\n",
        "      if loss < 1e-3:\n",
        "          print(f'epoch {j}: Loss = {loss.detach().numpy() :.4f}')\n",
        "          break\n",
        "  \n",
        "  return loss_last_batch\n"
      ],
      "metadata": {
        "id": "Ged0tjGxISv-"
      },
      "id": "Ged0tjGxISv-",
      "execution_count": 67,
      "outputs": []
    },
    {
      "cell_type": "code",
      "source": [
        "M = 16\n",
        "n = 100000\n",
        "loss_batches = []\n",
        "snrdBs = np.array([0,2,4,6,8,10])\n",
        "txs = []\n",
        "rxs = []\n",
        "\n",
        "num_epochs = 120\n",
        "batch_size = 1000\n",
        "\n",
        "for idx, snrdB in enumerate(snrdBs):\n",
        "  print(f'--- SNR is: {snrdB:.2f} ---')\n",
        "  a = np.random.choice(range(M), size=n)\n",
        "  onehot = np.array([one_hot(a[i], M) for i in range(n)])\n",
        "  \n",
        "  # Initialize networks\n",
        "  txs.append(Snr_transmitter(M))\n",
        "  rxs.append(Snr_receiver(M))\n",
        "  # Loss function\n",
        "  loss_fn = nn.CrossEntropyLoss()\n",
        "\n",
        "  # Optimizer\n",
        "  optimizer = optim.Adam(list(txs[idx].parameters()) + list(rxs[idx].parameters()), lr=0.01)\n",
        "  # Data Loader\n",
        "  dataloader = torch.utils.data.DataLoader(torch.tensor(onehot).float(),\n",
        "                                         batch_size=batch_size)\n",
        "  labelloader = torch.utils.data.DataLoader(torch.tensor(a).type(torch.LongTensor),\n",
        "                                            batch_size=batch_size)\n",
        "  \n",
        "\n",
        "  loss_last_batch = train_snr_scheme(snrdB, num_epochs, dataloader, labelloader, txs[idx], rxs[idx], loss_fn, optimizer)\n",
        "  loss_batches.append(loss_last_batch)\n"
      ],
      "metadata": {
        "colab": {
          "base_uri": "https://localhost:8080/",
          "height": 645
        },
        "id": "9sv3ORbTUp1D",
        "outputId": "d7890ea9-cbdf-415d-baa1-8bbe10b41ee5"
      },
      "id": "9sv3ORbTUp1D",
      "execution_count": 68,
      "outputs": [
        {
          "output_type": "stream",
          "name": "stdout",
          "text": [
            "--- SNR is: 0.00 ---\n",
            "epoch 0: Loss = 3.0684 dB\n",
            "epoch 10: Loss = 0.1823 dB\n",
            "epoch 20: Loss = 0.0396 dB\n",
            "epoch 30: Loss = 0.0128 dB\n",
            "epoch 40: Loss = 0.0050 dB\n",
            "epoch 50: Loss = 0.0031 dB\n",
            "epoch 60: Loss = 0.0012 dB\n",
            "epoch 60: Loss = 0.0008\n",
            "--- SNR is: 2.00 ---\n",
            "epoch 0: Loss = 2.8793 dB\n",
            "epoch 10: Loss = 0.1416 dB\n",
            "epoch 20: Loss = 0.0283 dB\n",
            "epoch 30: Loss = 0.0116 dB\n",
            "epoch 40: Loss = 0.0038 dB\n"
          ]
        },
        {
          "output_type": "error",
          "ename": "KeyboardInterrupt",
          "evalue": "ignored",
          "traceback": [
            "\u001b[0;31m---------------------------------------------------------------------------\u001b[0m",
            "\u001b[0;31mKeyboardInterrupt\u001b[0m                         Traceback (most recent call last)",
            "\u001b[0;32m<ipython-input-68-d644923d6998>\u001b[0m in \u001b[0;36m<module>\u001b[0;34m()\u001b[0m\n\u001b[1;32m     29\u001b[0m \u001b[0;34m\u001b[0m\u001b[0m\n\u001b[1;32m     30\u001b[0m \u001b[0;34m\u001b[0m\u001b[0m\n\u001b[0;32m---> 31\u001b[0;31m   \u001b[0mloss_last_batch\u001b[0m \u001b[0;34m=\u001b[0m \u001b[0mtrain_snr_scheme\u001b[0m\u001b[0;34m(\u001b[0m\u001b[0msnrdB\u001b[0m\u001b[0;34m,\u001b[0m \u001b[0mnum_epochs\u001b[0m\u001b[0;34m,\u001b[0m \u001b[0mdataloader\u001b[0m\u001b[0;34m,\u001b[0m \u001b[0mlabelloader\u001b[0m\u001b[0;34m,\u001b[0m \u001b[0mtxs\u001b[0m\u001b[0;34m[\u001b[0m\u001b[0midx\u001b[0m\u001b[0;34m]\u001b[0m\u001b[0;34m,\u001b[0m \u001b[0mrxs\u001b[0m\u001b[0;34m[\u001b[0m\u001b[0midx\u001b[0m\u001b[0;34m]\u001b[0m\u001b[0;34m,\u001b[0m \u001b[0mloss_fn\u001b[0m\u001b[0;34m,\u001b[0m \u001b[0moptimizer\u001b[0m\u001b[0;34m)\u001b[0m\u001b[0;34m\u001b[0m\u001b[0;34m\u001b[0m\u001b[0m\n\u001b[0m\u001b[1;32m     32\u001b[0m   \u001b[0mloss_batches\u001b[0m\u001b[0;34m.\u001b[0m\u001b[0mappend\u001b[0m\u001b[0;34m(\u001b[0m\u001b[0mloss_last_batch\u001b[0m\u001b[0;34m)\u001b[0m\u001b[0;34m\u001b[0m\u001b[0;34m\u001b[0m\u001b[0m\n",
            "\u001b[0;32m<ipython-input-67-ad0ecdcd8683>\u001b[0m in \u001b[0;36mtrain_snr_scheme\u001b[0;34m(snrdB, num_epochs, dataloader, labelloader, tx, rx, loss_fn, optimizer)\u001b[0m\n\u001b[1;32m      3\u001b[0m   \u001b[0mloss_last_batch\u001b[0m \u001b[0;34m=\u001b[0m \u001b[0;34m[\u001b[0m\u001b[0;34m]\u001b[0m\u001b[0;34m\u001b[0m\u001b[0;34m\u001b[0m\u001b[0m\n\u001b[1;32m      4\u001b[0m   \u001b[0;32mfor\u001b[0m \u001b[0mj\u001b[0m \u001b[0;32min\u001b[0m \u001b[0mrange\u001b[0m\u001b[0;34m(\u001b[0m\u001b[0mnum_epochs\u001b[0m\u001b[0;34m)\u001b[0m\u001b[0;34m:\u001b[0m\u001b[0;34m\u001b[0m\u001b[0;34m\u001b[0m\u001b[0m\n\u001b[0;32m----> 5\u001b[0;31m       \u001b[0;32mfor\u001b[0m \u001b[0mdata\u001b[0m\u001b[0;34m,\u001b[0m \u001b[0mlabel\u001b[0m \u001b[0;32min\u001b[0m \u001b[0mzip\u001b[0m\u001b[0;34m(\u001b[0m\u001b[0mdataloader\u001b[0m\u001b[0;34m,\u001b[0m \u001b[0mlabelloader\u001b[0m\u001b[0;34m)\u001b[0m\u001b[0;34m:\u001b[0m\u001b[0;34m\u001b[0m\u001b[0;34m\u001b[0m\u001b[0m\n\u001b[0m\u001b[1;32m      6\u001b[0m           \u001b[0;31m#onehot_t = torch.tensor(onehot).float()\u001b[0m\u001b[0;34m\u001b[0m\u001b[0;34m\u001b[0m\u001b[0;34m\u001b[0m\u001b[0m\n\u001b[1;32m      7\u001b[0m           \u001b[0mx\u001b[0m \u001b[0;34m=\u001b[0m \u001b[0mtx\u001b[0m\u001b[0;34m(\u001b[0m\u001b[0mdata\u001b[0m\u001b[0;34m)\u001b[0m\u001b[0;34m\u001b[0m\u001b[0;34m\u001b[0m\u001b[0m\n",
            "\u001b[0;32m/usr/local/lib/python3.7/dist-packages/torch/utils/data/dataloader.py\u001b[0m in \u001b[0;36m__next__\u001b[0;34m(self)\u001b[0m\n\u001b[1;32m    519\u001b[0m             \u001b[0;32mif\u001b[0m \u001b[0mself\u001b[0m\u001b[0;34m.\u001b[0m\u001b[0m_sampler_iter\u001b[0m \u001b[0;32mis\u001b[0m \u001b[0;32mNone\u001b[0m\u001b[0;34m:\u001b[0m\u001b[0;34m\u001b[0m\u001b[0;34m\u001b[0m\u001b[0m\n\u001b[1;32m    520\u001b[0m                 \u001b[0mself\u001b[0m\u001b[0;34m.\u001b[0m\u001b[0m_reset\u001b[0m\u001b[0;34m(\u001b[0m\u001b[0;34m)\u001b[0m\u001b[0;34m\u001b[0m\u001b[0;34m\u001b[0m\u001b[0m\n\u001b[0;32m--> 521\u001b[0;31m             \u001b[0mdata\u001b[0m \u001b[0;34m=\u001b[0m \u001b[0mself\u001b[0m\u001b[0;34m.\u001b[0m\u001b[0m_next_data\u001b[0m\u001b[0;34m(\u001b[0m\u001b[0;34m)\u001b[0m\u001b[0;34m\u001b[0m\u001b[0;34m\u001b[0m\u001b[0m\n\u001b[0m\u001b[1;32m    522\u001b[0m             \u001b[0mself\u001b[0m\u001b[0;34m.\u001b[0m\u001b[0m_num_yielded\u001b[0m \u001b[0;34m+=\u001b[0m \u001b[0;36m1\u001b[0m\u001b[0;34m\u001b[0m\u001b[0;34m\u001b[0m\u001b[0m\n\u001b[1;32m    523\u001b[0m             \u001b[0;32mif\u001b[0m \u001b[0mself\u001b[0m\u001b[0;34m.\u001b[0m\u001b[0m_dataset_kind\u001b[0m \u001b[0;34m==\u001b[0m \u001b[0m_DatasetKind\u001b[0m\u001b[0;34m.\u001b[0m\u001b[0mIterable\u001b[0m \u001b[0;32mand\u001b[0m\u001b[0;31m \u001b[0m\u001b[0;31m\\\u001b[0m\u001b[0;34m\u001b[0m\u001b[0;34m\u001b[0m\u001b[0m\n",
            "\u001b[0;32m/usr/local/lib/python3.7/dist-packages/torch/utils/data/dataloader.py\u001b[0m in \u001b[0;36m_next_data\u001b[0;34m(self)\u001b[0m\n\u001b[1;32m    558\u001b[0m \u001b[0;34m\u001b[0m\u001b[0m\n\u001b[1;32m    559\u001b[0m     \u001b[0;32mdef\u001b[0m \u001b[0m_next_data\u001b[0m\u001b[0;34m(\u001b[0m\u001b[0mself\u001b[0m\u001b[0;34m)\u001b[0m\u001b[0;34m:\u001b[0m\u001b[0;34m\u001b[0m\u001b[0;34m\u001b[0m\u001b[0m\n\u001b[0;32m--> 560\u001b[0;31m         \u001b[0mindex\u001b[0m \u001b[0;34m=\u001b[0m \u001b[0mself\u001b[0m\u001b[0;34m.\u001b[0m\u001b[0m_next_index\u001b[0m\u001b[0;34m(\u001b[0m\u001b[0;34m)\u001b[0m  \u001b[0;31m# may raise StopIteration\u001b[0m\u001b[0;34m\u001b[0m\u001b[0;34m\u001b[0m\u001b[0m\n\u001b[0m\u001b[1;32m    561\u001b[0m         \u001b[0mdata\u001b[0m \u001b[0;34m=\u001b[0m \u001b[0mself\u001b[0m\u001b[0;34m.\u001b[0m\u001b[0m_dataset_fetcher\u001b[0m\u001b[0;34m.\u001b[0m\u001b[0mfetch\u001b[0m\u001b[0;34m(\u001b[0m\u001b[0mindex\u001b[0m\u001b[0;34m)\u001b[0m  \u001b[0;31m# may raise StopIteration\u001b[0m\u001b[0;34m\u001b[0m\u001b[0;34m\u001b[0m\u001b[0m\n\u001b[1;32m    562\u001b[0m         \u001b[0;32mif\u001b[0m \u001b[0mself\u001b[0m\u001b[0;34m.\u001b[0m\u001b[0m_pin_memory\u001b[0m\u001b[0;34m:\u001b[0m\u001b[0;34m\u001b[0m\u001b[0;34m\u001b[0m\u001b[0m\n",
            "\u001b[0;32m/usr/local/lib/python3.7/dist-packages/torch/utils/data/dataloader.py\u001b[0m in \u001b[0;36m_next_index\u001b[0;34m(self)\u001b[0m\n\u001b[1;32m    510\u001b[0m \u001b[0;34m\u001b[0m\u001b[0m\n\u001b[1;32m    511\u001b[0m     \u001b[0;32mdef\u001b[0m \u001b[0m_next_index\u001b[0m\u001b[0;34m(\u001b[0m\u001b[0mself\u001b[0m\u001b[0;34m)\u001b[0m\u001b[0;34m:\u001b[0m\u001b[0;34m\u001b[0m\u001b[0;34m\u001b[0m\u001b[0m\n\u001b[0;32m--> 512\u001b[0;31m         \u001b[0;32mreturn\u001b[0m \u001b[0mnext\u001b[0m\u001b[0;34m(\u001b[0m\u001b[0mself\u001b[0m\u001b[0;34m.\u001b[0m\u001b[0m_sampler_iter\u001b[0m\u001b[0;34m)\u001b[0m  \u001b[0;31m# may raise StopIteration\u001b[0m\u001b[0;34m\u001b[0m\u001b[0;34m\u001b[0m\u001b[0m\n\u001b[0m\u001b[1;32m    513\u001b[0m \u001b[0;34m\u001b[0m\u001b[0m\n\u001b[1;32m    514\u001b[0m     \u001b[0;32mdef\u001b[0m \u001b[0m_next_data\u001b[0m\u001b[0;34m(\u001b[0m\u001b[0mself\u001b[0m\u001b[0;34m)\u001b[0m\u001b[0;34m:\u001b[0m\u001b[0;34m\u001b[0m\u001b[0;34m\u001b[0m\u001b[0m\n",
            "\u001b[0;32m/usr/local/lib/python3.7/dist-packages/torch/utils/data/sampler.py\u001b[0m in \u001b[0;36m__iter__\u001b[0;34m(self)\u001b[0m\n\u001b[1;32m    229\u001b[0m         \u001b[0;32mfor\u001b[0m \u001b[0midx\u001b[0m \u001b[0;32min\u001b[0m \u001b[0mself\u001b[0m\u001b[0;34m.\u001b[0m\u001b[0msampler\u001b[0m\u001b[0;34m:\u001b[0m\u001b[0;34m\u001b[0m\u001b[0;34m\u001b[0m\u001b[0m\n\u001b[1;32m    230\u001b[0m             \u001b[0mbatch\u001b[0m\u001b[0;34m.\u001b[0m\u001b[0mappend\u001b[0m\u001b[0;34m(\u001b[0m\u001b[0midx\u001b[0m\u001b[0;34m)\u001b[0m\u001b[0;34m\u001b[0m\u001b[0;34m\u001b[0m\u001b[0m\n\u001b[0;32m--> 231\u001b[0;31m             \u001b[0;32mif\u001b[0m \u001b[0mlen\u001b[0m\u001b[0;34m(\u001b[0m\u001b[0mbatch\u001b[0m\u001b[0;34m)\u001b[0m \u001b[0;34m==\u001b[0m \u001b[0mself\u001b[0m\u001b[0;34m.\u001b[0m\u001b[0mbatch_size\u001b[0m\u001b[0;34m:\u001b[0m\u001b[0;34m\u001b[0m\u001b[0;34m\u001b[0m\u001b[0m\n\u001b[0m\u001b[1;32m    232\u001b[0m                 \u001b[0;32myield\u001b[0m \u001b[0mbatch\u001b[0m\u001b[0;34m\u001b[0m\u001b[0;34m\u001b[0m\u001b[0m\n\u001b[1;32m    233\u001b[0m                 \u001b[0mbatch\u001b[0m \u001b[0;34m=\u001b[0m \u001b[0;34m[\u001b[0m\u001b[0;34m]\u001b[0m\u001b[0;34m\u001b[0m\u001b[0;34m\u001b[0m\u001b[0m\n",
            "\u001b[0;31mKeyboardInterrupt\u001b[0m: "
          ]
        }
      ]
    },
    {
      "cell_type": "code",
      "source": [
        "# Plot the learned constelation\n",
        "fig, ax = plt.subplots(2, int(len(snrdBs)/2))\n",
        "a_plot = np.arange(M)\n",
        "onehot_plot = np.array([one_hot(a_plot[i], M) for i in range(M)])\n",
        "\n",
        "for idx in range(len(snrdBs)):  \n",
        "  learned_x = txs[idx](torch.tensor(onehot_plot).float())\n",
        "  yy_plot = snr_channel(learned_x, snrdB)\n",
        "\n",
        "  i = idx // int(len(snrdBs)/2)\n",
        "  j = idx % int(len(snrdBs)/2)\n",
        "  ax[i, j].scatter(learned_x.detach().numpy()[:,0], learned_x.detach().numpy()[:,1])\n",
        "  #ax[i, j].title(f'SNR={snrdB} dB')\n",
        "  #ax[i, j].grid()\n",
        "  #fig.show()"
      ],
      "metadata": {
        "id": "jw4BqQGcaZUV",
        "outputId": "360e9247-bab0-4981-8692-28d0124dfca3",
        "colab": {
          "base_uri": "https://localhost:8080/",
          "height": 664
        }
      },
      "id": "jw4BqQGcaZUV",
      "execution_count": 64,
      "outputs": [
        {
          "output_type": "display_data",
          "data": {
            "image/png": "[encoded data removed]",
            "text/plain": [
              "<Figure size 1200x800 with 6 Axes>"
            ]
          },
          "metadata": {
            "needs_background": "light"
          }
        }
      ]
    },
    {
      "cell_type": "code",
      "source": [
        "learned_x = txs[idx](torch.tensor(onehot_plot).float())\n",
        "print(learned_x.detach().numpy())\n",
        "print(learned_x.detach().numpy()[:,0])\n",
        "print(learned_x.detach().numpy()[:,1])"
      ],
      "metadata": {
        "id": "5aic2Z86adL3",
        "outputId": "795b1e99-aab3-468d-b054-3fea18087dfb",
        "colab": {
          "base_uri": "https://localhost:8080/"
        }
      },
      "id": "5aic2Z86adL3",
      "execution_count": null,
      "outputs": [
        {
          "output_type": "stream",
          "name": "stdout",
          "text": [
            "[[ 4799.6094  -4860.4565 ]\n",
            " [-6160.224    6203.859  ]\n",
            " [-3933.5605   3599.5051 ]\n",
            " [ 2467.3235   5263.233  ]\n",
            " [-3542.1152    634.7016 ]\n",
            " [-2696.1677  -5580.9844 ]\n",
            " [-6413.033   -6962.37   ]\n",
            " [-2307.7134   3449.5623 ]\n",
            " [ 6818.79     7315.1377 ]\n",
            " [ 2753.894   -3036.157  ]\n",
            " [-4778.7314   4848.7305 ]\n",
            " [ 3958.9585   -266.08215]\n",
            " [-6074.13    -4411.079  ]\n",
            " [ 5628.0796   3903.4788 ]\n",
            " [ 3819.226   -3738.922  ]\n",
            " [ 6224.7915  -6234.3945 ]]\n",
            "[ 4799.6094 -6160.224  -3933.5605  2467.3235 -3542.1152 -2696.1677\n",
            " -6413.033  -2307.7134  6818.79    2753.894  -4778.7314  3958.9585\n",
            " -6074.13    5628.0796  3819.226   6224.7915]\n",
            "[-4860.4565   6203.859    3599.5051   5263.233     634.7016  -5580.9844\n",
            " -6962.37     3449.5623   7315.1377  -3036.157    4848.7305   -266.08215\n",
            " -4411.079    3903.4788  -3738.922   -6234.3945 ]\n"
          ]
        }
      ]
    },
    {
      "cell_type": "code",
      "source": [
        "#Plot the loss\n",
        "for idx, batch in enumerate(loss_batches):\n",
        "  plt.figure(figsize=(6,3), dpi= 100, facecolor='w', edgecolor='k')\n",
        "  plt.plot(np.arange(len(loss_last_batch)), batch, label=f'Train SNR={snrdBs[idx]} dB')\n",
        "  plt.xlabel('Epoch index')\n",
        "  plt.ylabel('Loss')\n",
        "  plt.legend()\n",
        "  plt.grid()\n",
        "  plt.show()\n",
        "\n"
      ],
      "metadata": {
        "id": "VcXVm7JZIsyV"
      },
      "id": "VcXVm7JZIsyV",
      "execution_count": 50,
      "outputs": []
    },
    {
      "cell_type": "markdown",
      "source": [
        "4. For a binary representation of the message, implement a non-linear NN with m = 4\n",
        "inputs and 2 outputs as mapper at the transceiver and a non-linear NN with\n",
        "2 inputs terminated by a linear layer with m = 4 outputs as demapper at the\n",
        "receiver.\n",
        "5. Jointly train mapper and demapper w.r.t. BCE loss on LPRs for SNR equal to\n",
        "0, 2, . . . , 10 dB and plot the learned constellations.\n",
        "6. Verify if the learned bit mappings are Gray"
      ],
      "metadata": {
        "id": "Cb1Ws3TIqw_F"
      },
      "id": "Cb1Ws3TIqw_F"
    },
    {
      "cell_type": "code",
      "source": [
        "# Transmitter and receiver NNs\n",
        "class Binary_snr_transmitter(nn.Module):\n",
        "    def __init__(self, M, width):\n",
        "        super().__init__()\n",
        "        self.lin1 = nn.Linear(M, width)\n",
        "        self.act1 = nn.ReLU()\n",
        "        self.lin2 = nn.Linear(width, width)\n",
        "        self.act2 = nn.ReLU()\n",
        "        self.lin3 = nn.Linear(width, 2)\n",
        "        \n",
        "    def forward(self, y):\n",
        "        y = self.act1(self.lin1(y))\n",
        "        y = self.act2(self.lin2(y))\n",
        "        return self.lin3(y)\n",
        "    \n",
        "class Binary_snr_receiver(nn.Module):\n",
        "    def __init__(self, M, width):\n",
        "        super().__init__()\n",
        "        self.lin1 = nn.Linear(2, width)\n",
        "        self.act1 = nn.ReLU()\n",
        "        self.lin2 = nn.Linear(width, width)\n",
        "        self.act2 = nn.ReLU()\n",
        "        self.lin3 = nn.Linear(width, M)\n",
        "        \n",
        "    def forward(self, y):\n",
        "        y = self.act1(self.lin1(y))\n",
        "        y = self.act2(self.lin2(y))\n",
        "        return self.lin3(y)"
      ],
      "metadata": {
        "id": "NinKn1zDqzh7"
      },
      "id": "NinKn1zDqzh7",
      "execution_count": null,
      "outputs": []
    },
    {
      "cell_type": "code",
      "source": [
        "def get_labeling(msg):\n",
        "    label = np.array([[0,0,0,0], [0,0,0,1], [0,0,1,0], [0,0,1,1], [0,1,0,0], [0,1,0,1], [0,1,1,0], [0,1,1,1],\n",
        "                      [1,0,0,0], [1,0,0,1], [1,0,1,0], [1,0,1,1], [1,1,0,0], [1,1,0,1], [1,1,1,0], [1,1,1,1]])\n",
        "    return label[msg, :]"
      ],
      "metadata": {
        "id": "sXxmufjeJ6dc"
      },
      "id": "sXxmufjeJ6dc",
      "execution_count": null,
      "outputs": []
    },
    {
      "cell_type": "code",
      "source": [
        "M = 4\n",
        "n = 100000\n",
        "nn_width = 10\n",
        "loss_batches = []\n",
        "snrdBs = np.array([0,2,4,6,8,10])\n",
        "\n",
        "num_epochs = 100\n",
        "batch_size = 100\n",
        "\n",
        "txs = []\n",
        "rxs = []\n",
        "\n",
        "for idx, snrdB in enumerate(snrdBs):\n",
        "  print(f'--- SNR is: {snrdB:.2f} ---')\n",
        "  a = np.random.choice(range(M), size=n)\n",
        "  binary = np.array([get_labeling(a[i]) for i in range(n)])\n",
        "\n",
        "  # Initialize networks\n",
        "  txs.append(Binary_snr_transmitter(M, nn_width))\n",
        "  rxs.append(Binary_snr_receiver(M, nn_width))\n",
        "  # Loss function\n",
        "  loss_fn = nn.BCEWithLogitsLoss()\n",
        "\n",
        "  # Optimizer\n",
        "  optimizer = optim.Adam(list(txs[idx].parameters()) + list(rxs[idx].parameters()), lr=0.1)\n",
        "  # Data Loader\n",
        "  dataloader = torch.utils.data.DataLoader(torch.tensor(binary).float(),\n",
        "                                         batch_size=batch_size)\n",
        "  labelloader = torch.utils.data.DataLoader(torch.tensor(binary).float(),\n",
        "                                            batch_size=batch_size)\n",
        "  \n",
        "\n",
        "  loss_last_batch = train_snr_scheme(snrdB, num_epochs, dataloader, labelloader, txs[idx], rxs[idx], loss_fn, optimizer)\n",
        "  loss_batches.append(loss_last_batch)"
      ],
      "metadata": {
        "colab": {
          "base_uri": "https://localhost:8080/",
          "height": 447
        },
        "id": "VIDwgCVu1KVC",
        "outputId": "8031ac31-cc1a-4f1d-df90-dba32f282007"
      },
      "id": "VIDwgCVu1KVC",
      "execution_count": 56,
      "outputs": [
        {
          "output_type": "stream",
          "name": "stdout",
          "text": [
            "--- SNR is: 0.00 ---\n",
            "epoch 0: Loss = 0.3470\n",
            "epoch 10: Loss = 0.3470\n",
            "epoch 20: Loss = 0.3470\n"
          ]
        },
        {
          "output_type": "error",
          "ename": "KeyboardInterrupt",
          "evalue": "ignored",
          "traceback": [
            "\u001b[0;31m---------------------------------------------------------------------------\u001b[0m",
            "\u001b[0;31mKeyboardInterrupt\u001b[0m                         Traceback (most recent call last)",
            "\u001b[0;32m<ipython-input-56-40a9a23813f4>\u001b[0m in \u001b[0;36m<module>\u001b[0;34m()\u001b[0m\n\u001b[1;32m     31\u001b[0m \u001b[0;34m\u001b[0m\u001b[0m\n\u001b[1;32m     32\u001b[0m \u001b[0;34m\u001b[0m\u001b[0m\n\u001b[0;32m---> 33\u001b[0;31m   \u001b[0mloss_last_batch\u001b[0m \u001b[0;34m=\u001b[0m \u001b[0mtrain_snr_scheme\u001b[0m\u001b[0;34m(\u001b[0m\u001b[0msnrdB\u001b[0m\u001b[0;34m,\u001b[0m \u001b[0mnum_epochs\u001b[0m\u001b[0;34m,\u001b[0m \u001b[0mdataloader\u001b[0m\u001b[0;34m,\u001b[0m \u001b[0mlabelloader\u001b[0m\u001b[0;34m,\u001b[0m \u001b[0mtxs\u001b[0m\u001b[0;34m[\u001b[0m\u001b[0midx\u001b[0m\u001b[0;34m]\u001b[0m\u001b[0;34m,\u001b[0m \u001b[0mrxs\u001b[0m\u001b[0;34m[\u001b[0m\u001b[0midx\u001b[0m\u001b[0;34m]\u001b[0m\u001b[0;34m,\u001b[0m \u001b[0mloss_fn\u001b[0m\u001b[0;34m,\u001b[0m \u001b[0moptimizer\u001b[0m\u001b[0;34m)\u001b[0m\u001b[0;34m\u001b[0m\u001b[0;34m\u001b[0m\u001b[0m\n\u001b[0m\u001b[1;32m     34\u001b[0m   \u001b[0mloss_batches\u001b[0m\u001b[0;34m.\u001b[0m\u001b[0mappend\u001b[0m\u001b[0;34m(\u001b[0m\u001b[0mloss_last_batch\u001b[0m\u001b[0;34m)\u001b[0m\u001b[0;34m\u001b[0m\u001b[0;34m\u001b[0m\u001b[0m\n",
            "\u001b[0;32m<ipython-input-53-e3562c2850ef>\u001b[0m in \u001b[0;36mtrain_snr_scheme\u001b[0;34m(snrdB, num_epochs, dataloader, labelloader, tx, rx, loss_fn, optimizer)\u001b[0m\n\u001b[1;32m      3\u001b[0m   \u001b[0mloss_last_batch\u001b[0m \u001b[0;34m=\u001b[0m \u001b[0;34m[\u001b[0m\u001b[0;34m]\u001b[0m\u001b[0;34m\u001b[0m\u001b[0;34m\u001b[0m\u001b[0m\n\u001b[1;32m      4\u001b[0m   \u001b[0;32mfor\u001b[0m \u001b[0mj\u001b[0m \u001b[0;32min\u001b[0m \u001b[0mrange\u001b[0m\u001b[0;34m(\u001b[0m\u001b[0mnum_epochs\u001b[0m\u001b[0;34m)\u001b[0m\u001b[0;34m:\u001b[0m\u001b[0;34m\u001b[0m\u001b[0;34m\u001b[0m\u001b[0m\n\u001b[0;32m----> 5\u001b[0;31m       \u001b[0;32mfor\u001b[0m \u001b[0monehot_t\u001b[0m\u001b[0;34m,\u001b[0m \u001b[0ma_t\u001b[0m \u001b[0;32min\u001b[0m \u001b[0mzip\u001b[0m\u001b[0;34m(\u001b[0m\u001b[0mdataloader\u001b[0m\u001b[0;34m,\u001b[0m \u001b[0mlabelloader\u001b[0m\u001b[0;34m)\u001b[0m\u001b[0;34m:\u001b[0m\u001b[0;34m\u001b[0m\u001b[0;34m\u001b[0m\u001b[0m\n\u001b[0m\u001b[1;32m      6\u001b[0m           \u001b[0;31m#onehot_t = torch.tensor(onehot).float()\u001b[0m\u001b[0;34m\u001b[0m\u001b[0;34m\u001b[0m\u001b[0;34m\u001b[0m\u001b[0m\n\u001b[1;32m      7\u001b[0m           \u001b[0mx\u001b[0m \u001b[0;34m=\u001b[0m \u001b[0mtx\u001b[0m\u001b[0;34m(\u001b[0m\u001b[0monehot_t\u001b[0m\u001b[0;34m)\u001b[0m\u001b[0;34m\u001b[0m\u001b[0;34m\u001b[0m\u001b[0m\n",
            "\u001b[0;32m/usr/local/lib/python3.7/dist-packages/torch/utils/data/dataloader.py\u001b[0m in \u001b[0;36m__next__\u001b[0;34m(self)\u001b[0m\n\u001b[1;32m    519\u001b[0m             \u001b[0;32mif\u001b[0m \u001b[0mself\u001b[0m\u001b[0;34m.\u001b[0m\u001b[0m_sampler_iter\u001b[0m \u001b[0;32mis\u001b[0m \u001b[0;32mNone\u001b[0m\u001b[0;34m:\u001b[0m\u001b[0;34m\u001b[0m\u001b[0;34m\u001b[0m\u001b[0m\n\u001b[1;32m    520\u001b[0m                 \u001b[0mself\u001b[0m\u001b[0;34m.\u001b[0m\u001b[0m_reset\u001b[0m\u001b[0;34m(\u001b[0m\u001b[0;34m)\u001b[0m\u001b[0;34m\u001b[0m\u001b[0;34m\u001b[0m\u001b[0m\n\u001b[0;32m--> 521\u001b[0;31m             \u001b[0mdata\u001b[0m \u001b[0;34m=\u001b[0m \u001b[0mself\u001b[0m\u001b[0;34m.\u001b[0m\u001b[0m_next_data\u001b[0m\u001b[0;34m(\u001b[0m\u001b[0;34m)\u001b[0m\u001b[0;34m\u001b[0m\u001b[0;34m\u001b[0m\u001b[0m\n\u001b[0m\u001b[1;32m    522\u001b[0m             \u001b[0mself\u001b[0m\u001b[0;34m.\u001b[0m\u001b[0m_num_yielded\u001b[0m \u001b[0;34m+=\u001b[0m \u001b[0;36m1\u001b[0m\u001b[0;34m\u001b[0m\u001b[0;34m\u001b[0m\u001b[0m\n\u001b[1;32m    523\u001b[0m             \u001b[0;32mif\u001b[0m \u001b[0mself\u001b[0m\u001b[0;34m.\u001b[0m\u001b[0m_dataset_kind\u001b[0m \u001b[0;34m==\u001b[0m \u001b[0m_DatasetKind\u001b[0m\u001b[0;34m.\u001b[0m\u001b[0mIterable\u001b[0m \u001b[0;32mand\u001b[0m\u001b[0;31m \u001b[0m\u001b[0;31m\\\u001b[0m\u001b[0;34m\u001b[0m\u001b[0;34m\u001b[0m\u001b[0m\n",
            "\u001b[0;32m/usr/local/lib/python3.7/dist-packages/torch/utils/data/dataloader.py\u001b[0m in \u001b[0;36m_next_data\u001b[0;34m(self)\u001b[0m\n\u001b[1;32m    558\u001b[0m \u001b[0;34m\u001b[0m\u001b[0m\n\u001b[1;32m    559\u001b[0m     \u001b[0;32mdef\u001b[0m \u001b[0m_next_data\u001b[0m\u001b[0;34m(\u001b[0m\u001b[0mself\u001b[0m\u001b[0;34m)\u001b[0m\u001b[0;34m:\u001b[0m\u001b[0;34m\u001b[0m\u001b[0;34m\u001b[0m\u001b[0m\n\u001b[0;32m--> 560\u001b[0;31m         \u001b[0mindex\u001b[0m \u001b[0;34m=\u001b[0m \u001b[0mself\u001b[0m\u001b[0;34m.\u001b[0m\u001b[0m_next_index\u001b[0m\u001b[0;34m(\u001b[0m\u001b[0;34m)\u001b[0m  \u001b[0;31m# may raise StopIteration\u001b[0m\u001b[0;34m\u001b[0m\u001b[0;34m\u001b[0m\u001b[0m\n\u001b[0m\u001b[1;32m    561\u001b[0m         \u001b[0mdata\u001b[0m \u001b[0;34m=\u001b[0m \u001b[0mself\u001b[0m\u001b[0;34m.\u001b[0m\u001b[0m_dataset_fetcher\u001b[0m\u001b[0;34m.\u001b[0m\u001b[0mfetch\u001b[0m\u001b[0;34m(\u001b[0m\u001b[0mindex\u001b[0m\u001b[0;34m)\u001b[0m  \u001b[0;31m# may raise StopIteration\u001b[0m\u001b[0;34m\u001b[0m\u001b[0;34m\u001b[0m\u001b[0m\n\u001b[1;32m    562\u001b[0m         \u001b[0;32mif\u001b[0m \u001b[0mself\u001b[0m\u001b[0;34m.\u001b[0m\u001b[0m_pin_memory\u001b[0m\u001b[0;34m:\u001b[0m\u001b[0;34m\u001b[0m\u001b[0;34m\u001b[0m\u001b[0m\n",
            "\u001b[0;32m/usr/local/lib/python3.7/dist-packages/torch/utils/data/dataloader.py\u001b[0m in \u001b[0;36m_next_index\u001b[0;34m(self)\u001b[0m\n\u001b[1;32m    510\u001b[0m \u001b[0;34m\u001b[0m\u001b[0m\n\u001b[1;32m    511\u001b[0m     \u001b[0;32mdef\u001b[0m \u001b[0m_next_index\u001b[0m\u001b[0;34m(\u001b[0m\u001b[0mself\u001b[0m\u001b[0;34m)\u001b[0m\u001b[0;34m:\u001b[0m\u001b[0;34m\u001b[0m\u001b[0;34m\u001b[0m\u001b[0m\n\u001b[0;32m--> 512\u001b[0;31m         \u001b[0;32mreturn\u001b[0m \u001b[0mnext\u001b[0m\u001b[0;34m(\u001b[0m\u001b[0mself\u001b[0m\u001b[0;34m.\u001b[0m\u001b[0m_sampler_iter\u001b[0m\u001b[0;34m)\u001b[0m  \u001b[0;31m# may raise StopIteration\u001b[0m\u001b[0;34m\u001b[0m\u001b[0;34m\u001b[0m\u001b[0m\n\u001b[0m\u001b[1;32m    513\u001b[0m \u001b[0;34m\u001b[0m\u001b[0m\n\u001b[1;32m    514\u001b[0m     \u001b[0;32mdef\u001b[0m \u001b[0m_next_data\u001b[0m\u001b[0;34m(\u001b[0m\u001b[0mself\u001b[0m\u001b[0;34m)\u001b[0m\u001b[0;34m:\u001b[0m\u001b[0;34m\u001b[0m\u001b[0;34m\u001b[0m\u001b[0m\n",
            "\u001b[0;32m/usr/local/lib/python3.7/dist-packages/torch/utils/data/sampler.py\u001b[0m in \u001b[0;36m__iter__\u001b[0;34m(self)\u001b[0m\n\u001b[1;32m    229\u001b[0m         \u001b[0;32mfor\u001b[0m \u001b[0midx\u001b[0m \u001b[0;32min\u001b[0m \u001b[0mself\u001b[0m\u001b[0;34m.\u001b[0m\u001b[0msampler\u001b[0m\u001b[0;34m:\u001b[0m\u001b[0;34m\u001b[0m\u001b[0;34m\u001b[0m\u001b[0m\n\u001b[1;32m    230\u001b[0m             \u001b[0mbatch\u001b[0m\u001b[0;34m.\u001b[0m\u001b[0mappend\u001b[0m\u001b[0;34m(\u001b[0m\u001b[0midx\u001b[0m\u001b[0;34m)\u001b[0m\u001b[0;34m\u001b[0m\u001b[0;34m\u001b[0m\u001b[0m\n\u001b[0;32m--> 231\u001b[0;31m             \u001b[0;32mif\u001b[0m \u001b[0mlen\u001b[0m\u001b[0;34m(\u001b[0m\u001b[0mbatch\u001b[0m\u001b[0;34m)\u001b[0m \u001b[0;34m==\u001b[0m \u001b[0mself\u001b[0m\u001b[0;34m.\u001b[0m\u001b[0mbatch_size\u001b[0m\u001b[0;34m:\u001b[0m\u001b[0;34m\u001b[0m\u001b[0;34m\u001b[0m\u001b[0m\n\u001b[0m\u001b[1;32m    232\u001b[0m                 \u001b[0;32myield\u001b[0m \u001b[0mbatch\u001b[0m\u001b[0;34m\u001b[0m\u001b[0;34m\u001b[0m\u001b[0m\n\u001b[1;32m    233\u001b[0m                 \u001b[0mbatch\u001b[0m \u001b[0;34m=\u001b[0m \u001b[0;34m[\u001b[0m\u001b[0;34m]\u001b[0m\u001b[0;34m\u001b[0m\u001b[0;34m\u001b[0m\u001b[0m\n",
            "\u001b[0;31mKeyboardInterrupt\u001b[0m: "
          ]
        }
      ]
    },
    {
      "cell_type": "code",
      "source": [
        "fig, ax = plt.subplots(2, int(len(snrdBs)/2))\n",
        "\n",
        "for idx in range(len(snrdBs)):\n",
        "  a_plot = np.arange(M)\n",
        "  onehot_plot = np.array([get_labeling(a_plot[i]) for i in range(M)])\n",
        "  learned_x = txs[idx](torch.tensor(onehot_plot).float())\n",
        "  yy_plot = snr_channel(learned_x, snrdB)\n",
        "  \n",
        "  # Plot the learned constelation\n",
        "  i = idx // int(len(snrdBs)/2)\n",
        "  j = idx % int(len(snrdBs)/2)\n",
        "  ax[i, j].scatter(learned_x.detach().numpy()[:,0], learned_x.detach().numpy()[:,1])"
      ],
      "metadata": {
        "id": "TY11g_OSdTm8",
        "outputId": "7f4879f9-62ad-48a1-a1b8-0d24e00e0cde",
        "colab": {
          "base_uri": "https://localhost:8080/",
          "height": 698
        }
      },
      "id": "TY11g_OSdTm8",
      "execution_count": 34,
      "outputs": [
        {
          "output_type": "display_data",
          "data": {
            "image/png": "[encoded data removed]",
            "text/plain": [
              "<Figure size 1200x800 with 6 Axes>"
            ]
          },
          "metadata": {
            "needs_background": "light"
          }
        }
      ]
    },
    {
      "cell_type": "code",
      "source": [
        "#Plot the loss\n",
        "for idx, batch in enumerate(loss_batches):\n",
        "  plt.plot(np.arange(len(loss_last_batch)), batch, label=f'Train SNR={snrdBs[idx]} dB')\n",
        "  plt.xlabel('Epoch index')\n",
        "  plt.ylabel('Loss')\n",
        "  plt.legend()\n",
        "  plt.grid()\n",
        "  plt.show()"
      ],
      "metadata": {
        "id": "DDm6VJas_Jke"
      },
      "id": "DDm6VJas_Jke",
      "execution_count": null,
      "outputs": []
    }
  ],
  "metadata": {
    "kernelspec": {
      "display_name": "Python 3 (ipykernel)",
      "language": "python",
      "name": "python3"
    },
    "language_info": {
      "codemirror_mode": {
        "name": "ipython",
        "version": 3
      },
      "file_extension": ".py",
      "mimetype": "text/x-python",
      "name": "python",
      "nbconvert_exporter": "python",
      "pygments_lexer": "ipython3",
      "version": "3.9.2"
    },
    "colab": {
      "name": "tut07.ipynb",
      "provenance": [],
      "collapsed_sections": [],
      "include_colab_link": true
    }
  },
  "nbformat": 4,
  "nbformat_minor": 5
}