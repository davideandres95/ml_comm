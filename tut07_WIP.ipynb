{
  "cells": [
    {
      "cell_type": "markdown",
      "metadata": {
        "id": "view-in-github",
        "colab_type": "text"
      },
      "source": [
        "<a href=\"https://colab.research.google.com/github/davideandres95/ml_comm/blob/main/tut07_WIP.ipynb\" target=\"_parent\"><img src=\"https://colab.research.google.com/assets/colab-badge.svg\" alt=\"Open In Colab\"/></a>"
      ]
    },
    {
      "cell_type": "markdown",
      "id": "9f6902f4",
      "metadata": {
        "id": "9f6902f4"
      },
      "source": [
        "#  Tutorial 7: Mapper\n",
        "December 9, 2021"
      ]
    },
    {
      "cell_type": "code",
      "execution_count": 1,
      "id": "95c453ff",
      "metadata": {
        "id": "95c453ff"
      },
      "outputs": [],
      "source": [
        "import numpy as np\n",
        "import matplotlib.pyplot as plt\n",
        "import torch            \n",
        "from torch import nn, optim"
      ]
    },
    {
      "cell_type": "code",
      "source": [
        "plt.rcParams['figure.figsize'] = [12, 8]\n",
        "plt.rcParams['figure.dpi'] = 100 "
      ],
      "metadata": {
        "id": "sdxR4QQ5VGGd"
      },
      "id": "sdxR4QQ5VGGd",
      "execution_count": 34,
      "outputs": []
    },
    {
      "cell_type": "markdown",
      "id": "14158b7c",
      "metadata": {
        "id": "14158b7c"
      },
      "source": [
        "##### Problem 6.1 - One hot mapping\n",
        "Consider a mapper that maps a message $a \\in \\mathcal{A} = \\{0,1, \\dots, M-1 \\}$  with $M = 2^m$ to a channel input alphabet \n",
        "$\\mathcal{X} = \\{x_0, x_1, \\dots, x^{M-1}\\}$,i.e., $a \\mapsto x_a$. \n",
        "The channel input alphabet is fixed and given.\n",
        "* 1) Let $u = \\{u_1, u_2, \\dots,  u_{M-1} \\}$ be a one-hot representation of message a, i.e., $u_i(a) = 1(i =a)$. \n",
        "Show that a linear neuron with $M$ inputs can realize the mapping $u(a) \\mapsto  x_a$,\n",
        "$a \\in \\mathcal{A}$, for any input alphabet $\\mathcal{A}$.\n"
      ]
    },
    {
      "cell_type": "code",
      "execution_count": 6,
      "id": "e757695f",
      "metadata": {
        "id": "e757695f"
      },
      "outputs": [],
      "source": [
        "def one_hot(a, M):\n",
        "    onehot = np.zeros(M)\n",
        "    onehot[a] = 1\n",
        "    return onehot\n"
      ]
    },
    {
      "cell_type": "code",
      "execution_count": 4,
      "id": "38f2e48e",
      "metadata": {
        "id": "38f2e48e"
      },
      "outputs": [],
      "source": [
        "class Mapper(nn.Module):\n",
        "    def __init__(self, alphabet):\n",
        "        super().__init__()\n",
        "        self.M = alphabet.size\n",
        "        self.lin1 = nn.Linear(self.M, 1, bias=False) # set bias to zero\n",
        "        self.lin1.weight = nn.Parameter(torch.Tensor([[i for i in alphabet]]).double()) # set weigths equal to alphabet values\n",
        "\n",
        "    def forward(self, y):\n",
        "        y = self.lin1(y)\n",
        "        return y"
      ]
    },
    {
      "cell_type": "code",
      "execution_count": 5,
      "id": "66e1797c",
      "metadata": {
        "id": "66e1797c",
        "outputId": "b1030b70-fbc0-4670-87de-d11c684e0cec",
        "colab": {
          "base_uri": "https://localhost:8080/"
        }
      },
      "outputs": [
        {
          "output_type": "stream",
          "name": "stdout",
          "text": [
            "-------\n",
            "Message: 0\n",
            "One-hot representation: [1. 0. 0. 0. 0. 0. 0. 0.]\n",
            "Neuron output: -7.0\n",
            "-------\n",
            "Message: 1\n",
            "One-hot representation: [0. 1. 0. 0. 0. 0. 0. 0.]\n",
            "Neuron output: -5.0\n",
            "-------\n",
            "Message: 2\n",
            "One-hot representation: [0. 0. 1. 0. 0. 0. 0. 0.]\n",
            "Neuron output: -3.0\n",
            "-------\n",
            "Message: 3\n",
            "One-hot representation: [0. 0. 0. 1. 0. 0. 0. 0.]\n",
            "Neuron output: -1.0\n",
            "-------\n",
            "Message: 4\n",
            "One-hot representation: [0. 0. 0. 0. 1. 0. 0. 0.]\n",
            "Neuron output: 1.0\n",
            "-------\n",
            "Message: 5\n",
            "One-hot representation: [0. 0. 0. 0. 0. 1. 0. 0.]\n",
            "Neuron output: 3.0\n",
            "-------\n",
            "Message: 6\n",
            "One-hot representation: [0. 0. 0. 0. 0. 0. 1. 0.]\n",
            "Neuron output: 5.0\n",
            "-------\n",
            "Message: 7\n",
            "One-hot representation: [0. 0. 0. 0. 0. 0. 0. 1.]\n",
            "Neuron output: 7.0\n"
          ]
        }
      ],
      "source": [
        "M = 8\n",
        "alphabet = np.array([-7, -5, -3, -1, 1, 3, 5, 7])\n",
        "mapper = Mapper(alphabet)\n",
        "messages = np.arange(M)\n",
        "\n",
        "for i in messages:\n",
        "    print('-------')\n",
        "    print(f'Message: {i}')\n",
        "    print(f'One-hot representation: {one_hot(i,M)}')\n",
        "    t = torch.tensor(one_hot(i,M)).double()\n",
        "    x = mapper(t)\n",
        "    print(f'Neuron output: {x[0].detach()}')"
      ]
    },
    {
      "cell_type": "markdown",
      "id": "56beb53f",
      "metadata": {
        "id": "56beb53f"
      },
      "source": [
        "* 2) For $M = 8$, sample the symbols in $\\mathcal{X}$ uniform at random from the interval $[-8, 8]$\n",
        "and train a linear neuron that realizes $u(a) \\mapsto x_a$ using the MSE loss."
      ]
    },
    {
      "cell_type": "code",
      "execution_count": 6,
      "id": "91b26ca1",
      "metadata": {
        "id": "91b26ca1"
      },
      "outputs": [],
      "source": [
        "def classic_mapper(msg, alphabet):\n",
        "    return alphabet[msg]"
      ]
    },
    {
      "cell_type": "code",
      "execution_count": 7,
      "id": "b0040ab5",
      "metadata": {
        "id": "b0040ab5"
      },
      "outputs": [],
      "source": [
        "class Mapper2(nn.Module):\n",
        "    def __init__(self, M):\n",
        "        super().__init__()\n",
        "        self.lin1 = nn.Linear(M, 1)\n",
        "        \n",
        "    def forward(self, y):\n",
        "        y = self.lin1(y)\n",
        "        return y"
      ]
    },
    {
      "cell_type": "code",
      "execution_count": 8,
      "id": "69dc1356",
      "metadata": {
        "id": "69dc1356"
      },
      "outputs": [],
      "source": [
        "# Create data \n",
        "n = 100000\n",
        "a = np.random.choice(range(M), size=n) # messages \n",
        "x = classic_mapper(a, alphabet) # alphabeth symbols to be used as labels\n",
        "onehot = np.array([one_hot(a[i], M) for i in range(n)]) # hot one representation to be used as inputs"
      ]
    },
    {
      "cell_type": "code",
      "execution_count": 9,
      "id": "70c49132",
      "metadata": {
        "id": "70c49132"
      },
      "outputs": [],
      "source": [
        "# Initialize network\n",
        "mapper2 = Mapper2(M)\n",
        "# loss function\n",
        "loss_fn = nn.MSELoss()\n",
        "# Optimizer\n",
        "optimizer = optim.Adam(mapper2.parameters(), lr=0.1)"
      ]
    },
    {
      "cell_type": "code",
      "execution_count": 10,
      "id": "df41e8b0",
      "metadata": {
        "id": "df41e8b0",
        "outputId": "ed1e2c61-58a1-4f0a-f468-2419ab166891",
        "colab": {
          "base_uri": "https://localhost:8080/"
        }
      },
      "outputs": [
        {
          "output_type": "stream",
          "name": "stdout",
          "text": [
            "epoch 0: Loss = 21.6276\n",
            "epoch 100: Loss = 0.0887\n",
            "epoch 200: Loss = 0.0000\n",
            "epoch 300: Loss = 0.0000\n",
            "epoch 400: Loss = 0.0000\n",
            "epoch 500: Loss = 0.0000\n",
            "epoch 600: Loss = 0.0000\n",
            "epoch 700: Loss = 0.0000\n",
            "epoch 800: Loss = 0.0000\n",
            "epoch 900: Loss = 0.0000\n"
          ]
        }
      ],
      "source": [
        "x_t = torch.tensor(x.reshape(-1,1)).float()\n",
        "onehot_t = torch.tensor(onehot).float()\n",
        "# Training loop\n",
        "for j in range(1000):\n",
        "    x_hat = mapper2(onehot_t)\n",
        "    loss = loss_fn(x_hat, x_t)\n",
        "    optimizer.zero_grad()\n",
        "    loss.backward()\n",
        "    optimizer.step()\n",
        "\n",
        "    # Printout and visualization\n",
        "    if j % 100 == 0:\n",
        "        print(f'epoch {j}: Loss = {loss.detach().numpy() :.4f}')"
      ]
    },
    {
      "cell_type": "code",
      "execution_count": 11,
      "id": "8a15edf2",
      "metadata": {
        "id": "8a15edf2",
        "outputId": "f23fdad2-17a1-47ca-ccba-57a2be3d4c34",
        "colab": {
          "base_uri": "https://localhost:8080/",
          "height": 664
        }
      },
      "outputs": [
        {
          "output_type": "display_data",
          "data": {
            "image/png": "[encoded data removed]",
            "text/plain": [
              "<Figure size 1200x800 with 1 Axes>"
            ]
          },
          "metadata": {
            "needs_background": "light"
          }
        }
      ],
      "source": [
        "# Data for the plots\n",
        "a_plot = np.arange(M)\n",
        "x_plot = classic_mapper(a, alphabet)\n",
        "onehot_plot = torch.tensor(np.array([one_hot(a_plot[i], M) for i in range(M)])).float()\n",
        "xhat_plot = mapper2(onehot_plot).detach().numpy()\n",
        "# Plot\n",
        "plt.scatter(np.real(xhat_plot),np.imag(xhat_plot), marker=\"o\",label='learned const')\n",
        "plt.scatter(np.real(x_plot),np.imag(x_plot), marker='x', label='target const')\n",
        "\n",
        "plt.legend()\n",
        "plt.grid()"
      ]
    },
    {
      "cell_type": "markdown",
      "id": "c07d8e20",
      "metadata": {
        "id": "c07d8e20"
      },
      "source": [
        "* 3) Let $\\boldsymbol{b} = \\{b_0, b_1, \\dots, b_{m-1} \\}$ be a binary representation of message $a$. Identify an input\n",
        "alphabet $\\mathcal{X}$ for which a linear neuron with $m$ inputs cannot realize the mapping $\\boldsymbol{b}(a) \\mapsto x_a$."
      ]
    },
    {
      "cell_type": "markdown",
      "id": "a172fddb",
      "metadata": {
        "id": "a172fddb"
      },
      "source": [
        "* 4) For the input alphabet you identified in 3), train a linear unit with $m$ inputs using\n",
        "the MSE loss to verify that the mapping $\\boldsymbol{b}(a) \\mapsto x_a$ can indeed not be realized."
      ]
    },
    {
      "cell_type": "code",
      "execution_count": 12,
      "id": "b4576832",
      "metadata": {
        "id": "b4576832"
      },
      "outputs": [],
      "source": [
        "def get_labeling(msg):\n",
        "    label = np.array([[0,0,0], [0,0,1], [0,1,1], [0,1,0], [1,1,0], [1,1,1], [1,0,1], [1,0,0]])\n",
        "    return label[msg, :]"
      ]
    },
    {
      "cell_type": "code",
      "execution_count": 13,
      "id": "a3f50ae9",
      "metadata": {
        "id": "a3f50ae9"
      },
      "outputs": [],
      "source": [
        "class Mapper3(nn.Module):\n",
        "    def __init__(self, m):\n",
        "        super().__init__()\n",
        "        self.lin1 = nn.Linear(m, 1)\n",
        "        \n",
        "    def forward(self, y):\n",
        "        y = self.lin1(y)\n",
        "        return y"
      ]
    },
    {
      "cell_type": "code",
      "execution_count": 14,
      "id": "ba4fe306",
      "metadata": {
        "id": "ba4fe306",
        "outputId": "af099819-4d51-47be-ef65-9d13cd95bcf5",
        "colab": {
          "base_uri": "https://localhost:8080/"
        }
      },
      "outputs": [
        {
          "output_type": "stream",
          "name": "stdout",
          "text": [
            "epoch 0: Loss = 22.1300\n",
            "epoch 100: Loss = 5.2907\n",
            "epoch 200: Loss = 4.9920\n",
            "epoch 300: Loss = 4.9919\n",
            "epoch 400: Loss = 4.9919\n",
            "epoch 500: Loss = 4.9919\n",
            "epoch 600: Loss = 4.9919\n",
            "epoch 700: Loss = 4.9920\n",
            "epoch 800: Loss = 4.9919\n",
            "epoch 900: Loss = 4.9919\n"
          ]
        }
      ],
      "source": [
        "m = 3\n",
        "x_t = torch.tensor(x.reshape(-1,1)).float()\n",
        "bits = get_labeling(a)\n",
        "bits_t = torch.tensor(bits).float()\n",
        "# Initialize network\n",
        "mapper3 = Mapper3(m)\n",
        "# loss function\n",
        "loss_fn = nn.MSELoss()\n",
        "# Optimizer\n",
        "optimizer = optim.Adam(mapper3.parameters(), lr=0.1)\n",
        "# Training loop\n",
        "for j in range(1000):\n",
        "    x_hat = mapper3(bits_t)\n",
        "    loss = loss_fn(x_hat, x_t)\n",
        "    optimizer.zero_grad()\n",
        "    loss.backward()\n",
        "    optimizer.step()\n",
        "\n",
        "    # Printout and visualization\n",
        "    if j % 100 == 0:\n",
        "        print(f'epoch {j}: Loss = {loss.detach().numpy() :.4f}')"
      ]
    },
    {
      "cell_type": "code",
      "execution_count": 15,
      "id": "da551939",
      "metadata": {
        "id": "da551939",
        "outputId": "8fc294d3-108d-4f9e-b606-fd836e85181c",
        "colab": {
          "base_uri": "https://localhost:8080/",
          "height": 664
        }
      },
      "outputs": [
        {
          "output_type": "display_data",
          "data": {
            "image/png": "[encoded data removed]",
            "text/plain": [
              "<Figure size 1200x800 with 1 Axes>"
            ]
          },
          "metadata": {
            "needs_background": "light"
          }
        }
      ],
      "source": [
        "# Data for the plots\n",
        "A = get_labeling(range(M))\n",
        "x_plot = classic_mapper(range(M), alphabet)\n",
        "xhat_plot = mapper3(torch.tensor(A).float()).detach().numpy()\n",
        "# Plot\n",
        "plt.scatter(np.real(xhat_plot),np.imag(xhat_plot), marker=\"o\",label='learned const')\n",
        "plt.scatter(np.real(x_plot),np.imag(x_plot), marker='x', label='target const')\n",
        "plt.legend()\n",
        "plt.grid()"
      ]
    },
    {
      "cell_type": "markdown",
      "id": "6d69c04b",
      "metadata": {
        "id": "6d69c04b"
      },
      "source": [
        "* 5) For the input alphabet from 3), devise a non-linear neural network with $m$\n",
        "inputs that approximates the mapping $\\boldsymbol{b}(a) \\mapsto x_a$ well w.r.t. the MSE loss."
      ]
    },
    {
      "cell_type": "code",
      "execution_count": 16,
      "id": "a100eab3",
      "metadata": {
        "id": "a100eab3"
      },
      "outputs": [],
      "source": [
        "class Mapper4(nn.Module):\n",
        "    def __init__(self, m, width):\n",
        "        super().__init__()\n",
        "        self.lin1 = nn.Linear(m, width)\n",
        "        self.act1 = nn.ReLU()\n",
        "        self.lin2 = nn.Linear(width, width)\n",
        "        self.act2 = nn.ReLU()\n",
        "        self.lin3 = nn.Linear(width, 1)\n",
        "        \n",
        "    def forward(self, y):\n",
        "        y = self.act1(self.lin1(y))\n",
        "        y = self.act2(self.lin2(y))\n",
        "        return self.lin3(y)"
      ]
    },
    {
      "cell_type": "code",
      "execution_count": 17,
      "id": "6efc82aa",
      "metadata": {
        "id": "6efc82aa",
        "outputId": "f2a98b73-7c3b-48ff-d16b-6e43a0350cef",
        "colab": {
          "base_uri": "https://localhost:8080/"
        }
      },
      "outputs": [
        {
          "output_type": "stream",
          "name": "stdout",
          "text": [
            "epoch 0: Loss = 21.1130\n"
          ]
        }
      ],
      "source": [
        "m = 3\n",
        "nn_width = 10\n",
        "x_t = torch.tensor(x.reshape(-1,1)).float()\n",
        "bits = get_labeling(a)\n",
        "bits_t = torch.tensor(bits).float()\n",
        "# Initialize network\n",
        "mapper4 = Mapper4(m, nn_width)\n",
        "# loss function\n",
        "loss_fn = nn.MSELoss()\n",
        "# Optimizer\n",
        "optimizer = optim.Adam(mapper4.parameters(), lr=0.1)\n",
        "# Training loop\n",
        "for j in range(1000):\n",
        "    x_hat = mapper4(bits_t)\n",
        "    loss = loss_fn(x_hat, x_t)\n",
        "    optimizer.zero_grad()\n",
        "    loss.backward()\n",
        "    optimizer.step()\n",
        "\n",
        "    # Printout and visualization\n",
        "    if j % 100 == 0:\n",
        "        print(f'epoch {j}: Loss = {loss.detach().numpy() :.4f}')\n",
        "    if loss < 1e-3:\n",
        "        break"
      ]
    },
    {
      "cell_type": "code",
      "execution_count": 18,
      "id": "a3c1e171",
      "metadata": {
        "id": "a3c1e171",
        "outputId": "0b6ad455-6805-4735-acc7-6f36fe10a7d6",
        "colab": {
          "base_uri": "https://localhost:8080/",
          "height": 664
        }
      },
      "outputs": [
        {
          "output_type": "display_data",
          "data": {
            "image/png": "[encoded data removed]",
            "text/plain": [
              "<Figure size 1200x800 with 1 Axes>"
            ]
          },
          "metadata": {
            "needs_background": "light"
          }
        }
      ],
      "source": [
        "# Data for the plots\n",
        "A = get_labeling(range(M))\n",
        "x_plot = classic_mapper(range(M), alphabet)\n",
        "xhat_plot = mapper4(torch.tensor(A).float()).detach().numpy()\n",
        "# Plot\n",
        "plt.scatter(np.real(xhat_plot),np.imag(xhat_plot), marker=\"o\",label='learned const')\n",
        "plt.scatter(np.real(x_plot),np.imag(x_plot), marker='x', label='target const')\n",
        "\n",
        "plt.legend()\n",
        "plt.grid()"
      ]
    },
    {
      "cell_type": "markdown",
      "id": "61d78d63",
      "metadata": {
        "id": "61d78d63"
      },
      "source": [
        "##### Problem 6.2 \n",
        "Consider the channel in the picture.\n",
        "* 1) Implement the channel as differentiable function supporting torch.autograd using functions provided by torch\n",
        "* 2) Use a linear neuron with $M$ inputs and one output as transmitter and a linear neuron with one input and M outputs as receiver. \n",
        "Sample a message $a \\in  \\{0,1, \\dots, M-1 \\}$ and use its one-hot representation $\\boldsymbol{u}$ as transmitter input. \n",
        "Train transmitter and receiver w.r.t. the cross equivocation $ce(\\boldsymbol{u}, \\boldsymbol{\\ell})$, where $\\boldsymbol{\\ell}$ is the receiver output.\n",
        "* 3) Plot the learned channel input alphabet and compare it to the scatterplot of the channel output."
      ]
    },
    {
      "cell_type": "code",
      "execution_count": 19,
      "id": "d7cc7546",
      "metadata": {
        "id": "d7cc7546"
      },
      "outputs": [],
      "source": [
        "# Channel \n",
        "def tanh_channel(x, sigma2, seed=None):\n",
        "    noise_t = sigma2*torch.randn(len(x),1)\n",
        "    return torch.add(torch.tanh(x), noise_t)\n",
        "    #return torch.tanh(x)\n",
        "#TODO: make it wotk also with additive noise"
      ]
    },
    {
      "cell_type": "code",
      "execution_count": 20,
      "id": "cb8c99d8",
      "metadata": {
        "id": "cb8c99d8",
        "outputId": "e568c56a-035b-4d27-fb5f-baecc3ee4d65",
        "colab": {
          "base_uri": "https://localhost:8080/",
          "height": 664
        }
      },
      "outputs": [
        {
          "output_type": "display_data",
          "data": {
            "image/png": "[encoded data removed]",
            "text/plain": [
              "<Figure size 1200x800 with 1 Axes>"
            ]
          },
          "metadata": {
            "needs_background": "light"
          }
        }
      ],
      "source": [
        "x = np.arange(-8,9,0.1)\n",
        "plt.plot(x, np.tanh(x))\n",
        "plt.grid()"
      ]
    },
    {
      "cell_type": "code",
      "execution_count": 21,
      "id": "5fb387aa",
      "metadata": {
        "id": "5fb387aa"
      },
      "outputs": [],
      "source": [
        "# Transmitter and receiver NNs\n",
        "class Tanh_transmitter(nn.Module):\n",
        "    def __init__(self, M):\n",
        "        super().__init__()\n",
        "        self.lin1 = nn.Linear(M, 1)\n",
        "\n",
        "    def forward(self, y):\n",
        "        y = self.lin1(y)\n",
        "        return y\n",
        "    \n",
        "class Tanh_receiver(nn.Module):\n",
        "    def __init__(self, M):\n",
        "        super().__init__()\n",
        "        self.lin1 = nn.Linear(1, M)\n",
        "\n",
        "    def forward(self, y):\n",
        "        y = self.lin1(y)\n",
        "        return y    "
      ]
    },
    {
      "cell_type": "code",
      "execution_count": 22,
      "id": "80fa7a82",
      "metadata": {
        "id": "80fa7a82"
      },
      "outputs": [],
      "source": [
        "# Create data\n",
        "n = 100000\n",
        "snrdB = 20\n",
        "snr = 10**(snrdB/10)\n",
        "sigma2 = 1/snr\n",
        "a = np.random.choice(range(M), size=n)\n",
        "onehot = np.array([one_hot(a[i], M) for i in range(n)])"
      ]
    },
    {
      "cell_type": "code",
      "execution_count": 23,
      "id": "14bc5036",
      "metadata": {
        "id": "14bc5036"
      },
      "outputs": [],
      "source": [
        "# Initialize networks\n",
        "tx = Tanh_transmitter(M)\n",
        "rx = Tanh_receiver(M)\n",
        "# Loss function\n",
        "loss_fn = nn.CrossEntropyLoss()\n",
        "# Optimizer\n",
        "optimizer = optim.Adam(list(tx.parameters()) + list(rx.parameters()), lr=0.1)"
      ]
    },
    {
      "cell_type": "code",
      "execution_count": 24,
      "id": "0fbdb225",
      "metadata": {
        "id": "0fbdb225"
      },
      "outputs": [],
      "source": [
        " # Batches\n",
        "batch_size = 100\n",
        "onehot_t = torch.tensor(onehot).float()\n",
        "a_t = torch.tensor(a)\n",
        "a_t = a_t.type(torch.LongTensor)"
      ]
    },
    {
      "cell_type": "code",
      "execution_count": 25,
      "id": "30a8d286",
      "metadata": {
        "id": "30a8d286",
        "outputId": "4ac9c123-e5ee-4e41-c25d-7d58fb31a09e",
        "colab": {
          "base_uri": "https://localhost:8080/"
        }
      },
      "outputs": [
        {
          "output_type": "stream",
          "name": "stdout",
          "text": [
            "epoch 0: Loss = 2.1930\n",
            "epoch 1000: Loss = 0.6166\n",
            "epoch 2000: Loss = 0.3728\n",
            "epoch 3000: Loss = 0.2002\n",
            "epoch 4000: Loss = 0.1868\n",
            "epoch 5000: Loss = 0.0383\n",
            "epoch 6000: Loss = 0.0198\n",
            "epoch 7000: Loss = 0.0139\n",
            "epoch 8000: Loss = 0.0095\n",
            "epoch 9000: Loss = 0.0063\n"
          ]
        }
      ],
      "source": [
        "# Training loop\n",
        "for j in range(10000):\n",
        "    x = tx(onehot_t)\n",
        "    y = tanh_channel(x, sigma2).float()\n",
        "    l = rx(y)\n",
        "    loss = loss_fn(l, a_t)\n",
        "    optimizer.zero_grad()\n",
        "    loss.backward()\n",
        "    optimizer.step()\n",
        "\n",
        "    # Printout and visualization\n",
        "    if j % 1000 == 0:\n",
        "        print(f'epoch {j}: Loss = {loss.detach().numpy() :.4f}')\n",
        "    if loss < 1e-3:\n",
        "        break"
      ]
    },
    {
      "cell_type": "code",
      "execution_count": 26,
      "id": "d75a6a3a",
      "metadata": {
        "id": "d75a6a3a"
      },
      "outputs": [],
      "source": [
        "# Data for the plots\n",
        "a_plot = np.arange(M)\n",
        "onehot_plot = np.array([one_hot(a_plot[i], M) for i in range(M)])\n",
        "learned_x = tx(torch.tensor(onehot_plot).float())\n",
        "yy_plot = torch.tanh(learned_x)"
      ]
    },
    {
      "cell_type": "code",
      "execution_count": 27,
      "id": "3ab761ab",
      "metadata": {
        "id": "3ab761ab",
        "outputId": "be79ffd7-f655-4f56-838e-4c20e455d1d5",
        "colab": {
          "base_uri": "https://localhost:8080/",
          "height": 687
        }
      },
      "outputs": [
        {
          "output_type": "display_data",
          "data": {
            "image/png": "[encoded data removed]",
            "text/plain": [
              "<Figure size 1200x800 with 1 Axes>"
            ]
          },
          "metadata": {
            "needs_background": "light"
          }
        }
      ],
      "source": [
        "# Plot\n",
        "plt.scatter(np.real(learned_x.detach().numpy()), np.imag(learned_x.detach().numpy()))\n",
        "plt.title('Learned constellation')\n",
        "plt.grid()"
      ]
    },
    {
      "cell_type": "code",
      "execution_count": 28,
      "id": "4ae71e14",
      "metadata": {
        "id": "4ae71e14",
        "outputId": "28e63b0f-e8ac-4943-ce0d-bd16558a65f9",
        "colab": {
          "base_uri": "https://localhost:8080/",
          "height": 687
        }
      },
      "outputs": [
        {
          "output_type": "display_data",
          "data": {
            "image/png": "[encoded data removed]",
            "text/plain": [
              "<Figure size 1200x800 with 1 Axes>"
            ]
          },
          "metadata": {
            "needs_background": "light"
          }
        }
      ],
      "source": [
        "plt.scatter(np.real(yy_plot.detach().numpy()), np.imag(yy_plot.detach().numpy()))\n",
        "plt.title('Constellation after tanh')\n",
        "plt.grid()"
      ]
    },
    {
      "cell_type": "code",
      "source": [
        "def message(onehot):\n",
        "    return np.where(onehot == 1) # integers\n",
        "\n",
        "def softmax(x):\n",
        "    \"\"\"Compute softmax values for each sets of scores in x.\"\"\"\n",
        "    e_x = np.exp(x - np.max(x))\n",
        "    return e_x / e_x.sum()\n",
        "\n",
        "def recover_onehot(soft_decision):\n",
        "     max_index = np.where(soft_decision == np.amax(soft_decision))\n",
        "     onehot = np.zeros(len(soft_decision))\n",
        "     onehot[max_index] = 1\n",
        "     return onehot"
      ],
      "metadata": {
        "id": "cYxJ4hVFPdpq"
      },
      "id": "cYxJ4hVFPdpq",
      "execution_count": 29,
      "outputs": []
    },
    {
      "cell_type": "code",
      "source": [
        "# Create test data\n",
        "n = 100\n",
        "a_test = np.random.choice(range(M), size=n)\n",
        "onehot_test = np.array([one_hot(a_test[i], M) for i in range(n)])\n",
        "x_test = tx(torch.tensor(onehot_test).float()) # mapped symbols\n",
        "y_test = tanh_channel(x_test, sigma2).float()\n",
        "x_hat_test = [recover_onehot(softmax(i)) for i in rx(y_test).detach().numpy()]\n",
        "a_hat_test = np.array([message(i)[0].tolist()[0] for i in x_hat_test])"
      ],
      "metadata": {
        "id": "rNZ9ehZNHGQT"
      },
      "id": "rNZ9ehZNHGQT",
      "execution_count": 30,
      "outputs": []
    },
    {
      "cell_type": "code",
      "source": [
        "# Plot\n",
        "plt.scatter(np.real(x_test.detach().numpy()), np.imag(x_test.detach().numpy()))\n",
        "plt.title('channel input')\n",
        "plt.grid()"
      ],
      "metadata": {
        "id": "ACF10d9xJMjS",
        "outputId": "06051102-d125-4283-9f80-e7332775a394",
        "colab": {
          "base_uri": "https://localhost:8080/",
          "height": 687
        }
      },
      "id": "ACF10d9xJMjS",
      "execution_count": 31,
      "outputs": [
        {
          "output_type": "display_data",
          "data": {
            "image/png": "[encoded data removed]",
            "text/plain": [
              "<Figure size 1200x800 with 1 Axes>"
            ]
          },
          "metadata": {
            "needs_background": "light"
          }
        }
      ]
    },
    {
      "cell_type": "code",
      "source": [
        "# Plot\n",
        "plt.scatter(np.real(y_test.detach().numpy()), np.imag(y_test.detach().numpy()))\n",
        "plt.title('channel output')\n",
        "plt.grid()"
      ],
      "metadata": {
        "colab": {
          "base_uri": "https://localhost:8080/",
          "height": 687
        },
        "id": "uv3Ad_I7MkGA",
        "outputId": "70ecd2ac-d0bc-4110-8a50-88ec099752c7"
      },
      "id": "uv3Ad_I7MkGA",
      "execution_count": 32,
      "outputs": [
        {
          "output_type": "display_data",
          "data": {
            "image/png": "[encoded data removed]",
            "text/plain": [
              "<Figure size 1200x800 with 1 Axes>"
            ]
          },
          "metadata": {
            "needs_background": "light"
          }
        }
      ]
    },
    {
      "cell_type": "code",
      "source": [
        "# Plot\n",
        "plt.hist(a_hat_test, bins=np.arange(1, 7, 0.1))\n",
        "plt.hist(a_test, bins=np.arange(1, 8, 0.1))\n",
        "plt.title('demapper output')\n",
        "plt.grid()"
      ],
      "metadata": {
        "colab": {
          "base_uri": "https://localhost:8080/",
          "height": 687
        },
        "id": "AhmaZmS4Mw_p",
        "outputId": "e3de6d4b-7d1d-4d76-d505-5b13141fe52f"
      },
      "id": "AhmaZmS4Mw_p",
      "execution_count": 33,
      "outputs": [
        {
          "output_type": "display_data",
          "data": {
            "image/png": "[encoded data removed]",
            "text/plain": [
              "<Figure size 1200x800 with 1 Axes>"
            ]
          },
          "metadata": {
            "needs_background": "light"
          }
        }
      ]
    },
    {
      "cell_type": "markdown",
      "source": [
        "##### Problem 6.3\n",
        "Consider an SNR constraint as introduced in Section 6.1.3. Specifically, we consider a complex signal, which we represent by a real signal where two successive real symbols are the inphase and quadrature\n",
        "components, respectively, of one complex symbol, i.e.,\n",
        "\n",
        "$x_{2i} x_{2i+1} \\leftrightarrow  c_{i} = x_{2i} + jx_{2i+1}$\n",
        "\n",
        "We normalize the average power of the signal, i.e., for a batch size of $n_{batch}$ complex symbols, we impose:\n",
        "\n",
        "$\\frac{1}{n_{batch}}\\sum \\limits _{i=0} ^{n_{batch}-1} x_{i}^{2} = P $\n",
        "\n",
        "After normalization, we add zero mean Gaussian noise.\n",
        "\n",
        "The task is now to learn a 2D constellation with 16 complex symbols.\n",
        "1. Implement the normalization layer followed by AWGN as differentiable function\n",
        "in pytorch.\n",
        "2. For a one-hot representation of the message, implement a linear unit with M = 16\n",
        "inputs and 2 outputs as a mapper at the transmitter, and a linear unit with 2\n",
        "inputs and M = 16 outputs as demapper at the receiver.\n",
        "3. Jointly train mapper and demapper w.r.t. CE loss for SNR equal to 0, 2, . . . , 10\n",
        "dB and plot the learned constellations."
      ],
      "metadata": {
        "id": "0YeIrCX72s8G"
      },
      "id": "0YeIrCX72s8G"
    },
    {
      "cell_type": "code",
      "source": [
        "# SNR Channel \n",
        "def snr_channel(x, snr, seed=None):\n",
        "    P = 1 # Normalization Factor\n",
        "    sigma2 = P/snr\n",
        "    c = torch.mean(x**2)\n",
        "    norm_x = torch.sqrt(P / c) * x\n",
        "    noise_t = np.sqrt(sigma2)*torch.randn(x.shape)\n",
        "    return torch.add(x, noise_t)\n"
      ],
      "metadata": {
        "id": "sb7HOfvI6yf8"
      },
      "id": "sb7HOfvI6yf8",
      "execution_count": 17,
      "outputs": []
    },
    {
      "cell_type": "code",
      "source": [
        "def normalization(x, P):\n",
        "    c = torch.mean(x**2)\n",
        "    return torch.sqrt(P / c) * x"
      ],
      "metadata": {
        "id": "XAYMkY0ESS9U"
      },
      "id": "XAYMkY0ESS9U",
      "execution_count": 27,
      "outputs": []
    },
    {
      "cell_type": "code",
      "source": [
        "def awgn(x, sigma2):\n",
        "    noise_t = np.sqrt(sigma2)*torch.randn(x.shape)\n",
        "    return torch.add(x, noise_t)"
      ],
      "metadata": {
        "id": "6wL47cpESWBa"
      },
      "id": "6wL47cpESWBa",
      "execution_count": 28,
      "outputs": []
    },
    {
      "cell_type": "code",
      "source": [
        "# Transmitter and receiver NNs\n",
        "class Snr_transmitter(nn.Module):\n",
        "  def __init__(self, M):\n",
        "    super().__init__()\n",
        "    self.lin1 = nn.Linear(M, 32)\n",
        "    self.lin2 = nn.Linear(32, 32)\n",
        "    self.lin3 = nn.Linear(32, 2)\n",
        "        \n",
        "  def forward(self, y):\n",
        "    return self.lin3(self.lin2(self.lin1(y)))\n",
        "    \n",
        "class Snr_receiver(nn.Module):\n",
        "  def __init__(self, M):\n",
        "    super().__init__()\n",
        "    self.lin1 = nn.Linear(2, 32)\n",
        "    self.lin2 = nn.Linear(32, 32)\n",
        "    self.lin3 = nn.Linear(32, M)\n",
        "        \n",
        "  def forward(self, y):\n",
        "      return self.lin3(self.lin2(self.lin1(y)))"
      ],
      "metadata": {
        "id": "2X9s-HifGkwM"
      },
      "id": "2X9s-HifGkwM",
      "execution_count": 3,
      "outputs": []
    },
    {
      "cell_type": "code",
      "source": [
        "def train_snr_scheme(num_epochs, dataloader, labelloader, sigma2, tx, rx, loss_fn, optimizer):\n",
        "  loss_last_batch = []\n",
        "  for j in range(num_epochs):\n",
        "      for data, label in zip(dataloader, labelloader):\n",
        "          #x = tx(data)\n",
        "          #y = snr_channel(x, snr)\n",
        "          #l = rx(y)\n",
        "          xhat = tx(data)\n",
        "          xhat = normalization(xhat, P)\n",
        "          yhat = awgn(xhat, sigma2)\n",
        "          l = rx(yhat)\n",
        "          loss = loss_fn(l, label)\n",
        "          loss_last_batch.append(loss.detach().numpy())\n",
        "          optimizer.zero_grad()\n",
        "          loss.backward()\n",
        "          optimizer.step()\n",
        "\n",
        "      # Printout and visualization\n",
        "      if j % 10 == 0:\n",
        "          print(f'epoch {j}: Loss = {loss.detach().numpy()/np.log(2) :.4f} dB')\n",
        "      if loss < 1e-3:\n",
        "          break\n",
        "  return loss_last_batch"
      ],
      "metadata": {
        "id": "X1fXbqlUd6G_"
      },
      "id": "X1fXbqlUd6G_",
      "execution_count": 41,
      "outputs": []
    },
    {
      "cell_type": "code",
      "source": [
        "# Generate data\n",
        "M = 16\n",
        "n = 100000\n",
        "P = 1\n",
        "snrdBs = np.array([0,2,4,6,8,10])\n",
        "snrs = 10**(snrdBs/10)\n",
        "\n",
        "a = np.random.choice(range(M), size=n)\n",
        "onehot = np.array([one_hot(a[i], M) for i in range(n)])\n",
        "\n",
        "# Convert array to tensor\n",
        "a_t = torch.tensor(a).type(torch.LongTensor)\n",
        "onehot_t = torch.tensor(onehot).float()\n",
        "\n",
        "# Data Loader\n",
        "dataloader = torch.utils.data.DataLoader(onehot_t, batch_size=batch_size)\n",
        "labelloader = torch.utils.data.DataLoader(a_t, batch_size=batch_size)\n",
        "\n",
        "#Loss Function\n",
        "loss_fn = nn.CrossEntropyLoss()"
      ],
      "metadata": {
        "id": "0nbfpI8b-Cct"
      },
      "id": "0nbfpI8b-Cct",
      "execution_count": 30,
      "outputs": []
    },
    {
      "cell_type": "code",
      "source": [
        "loss_batches = []\n",
        "num_epochs = 100\n",
        "batch_size = 5000\n",
        "\n",
        "# Initialize networks\n",
        "txs = [] \n",
        "rxs = []\n",
        "\n",
        "for idx, snr in enumerate(snrs):\n",
        "  print(f'--- SNR is: {snrdBs[idx]} dB---')\n",
        "  sigma2 = P/snr\n",
        "  #Initialize Networks\n",
        "  txs.append(Snr_transmitter(M))\n",
        "  rxs.append(Snr_receiver(M))\n",
        "  # Optimizer\n",
        "  optimizer = optim.Adam(list(txs[idx].parameters()) + list(rxs[idx].parameters()), lr=0.01)\n",
        "    \n",
        "  loss_last_batch = train_snr_scheme(num_epochs, dataloader, labelloader, sigma2, txs[idx], rxs[idx], loss_fn, optimizer)\n",
        "  loss_batches.append(loss_last_batch)\n",
        "\n",
        "  \n"
      ],
      "metadata": {
        "id": "9sv3ORbTUp1D"
      },
      "id": "9sv3ORbTUp1D",
      "execution_count": null,
      "outputs": []
    },
    {
      "cell_type": "code",
      "source": [
        "# Plot the learned constelation\n",
        "fig, ax = plt.subplots(2, int(len(snrdBs)/2), sharex='col', sharey='row')\n",
        "#fig, ax = plt.subplots(2, int(len(snrdBs)/2))\n",
        "a_plot = np.arange(M)\n",
        "onehot_plot = np.array([one_hot(a_plot[i], M) for i in range(M)])\n",
        "\n",
        "for idx in range(len(snrdBs)):  \n",
        "  learned_x = txs[idx](torch.tensor(onehot_plot).float())\n",
        "  learned_x = snr_channel(learned_x,snrs[idx])\n",
        "  learned_x = learned_x.detach().numpy()\n",
        "  #yy_plot = snr_channel(learned_x, snrdB)\n",
        "\n",
        "  i = idx // int(len(snrdBs)/2)\n",
        "  j = idx % int(len(snrdBs)/2)\n",
        "  ax[i, j].scatter(learned_x[:,0], learned_x[:,1])\n",
        "  #ax[i, j].title(f'SNR={snrdB} dB')\n",
        "  ax[i, j].grid()\n",
        "  #fig.show()"
      ],
      "metadata": {
        "id": "jw4BqQGcaZUV",
        "outputId": "cf32c752-933c-4809-97c5-393e281796ed",
        "colab": {
          "base_uri": "https://localhost:8080/",
          "height": 664
        }
      },
      "id": "jw4BqQGcaZUV",
      "execution_count": 35,
      "outputs": [
        {
          "output_type": "display_data",
          "data": {
            "image/png": "[encoded data removed]",
            "text/plain": [
              "<Figure size 1200x800 with 6 Axes>"
            ]
          },
          "metadata": {
            "needs_background": "light"
          }
        }
      ]
    },
    {
      "cell_type": "code",
      "source": [
        "#Plot the loss\n",
        "for idx, batch in enumerate(loss_batches):\n",
        "  plt.figure(figsize=(6,3), dpi= 100, facecolor='w', edgecolor='k')\n",
        "  plt.plot(np.arange(len(batch)), batch, label=f'Train SNR={snrdBs[idx]} dB')\n",
        "  plt.xlabel('Epoch index')\n",
        "  plt.ylabel('Loss')\n",
        "  plt.legend()\n",
        "  plt.grid()\n",
        "  plt.show()\n",
        "\n"
      ],
      "metadata": {
        "id": "VcXVm7JZIsyV"
      },
      "id": "VcXVm7JZIsyV",
      "execution_count": null,
      "outputs": []
    },
    {
      "cell_type": "markdown",
      "source": [
        "4. For a binary representation of the message, implement a non-linear NN with m = 4\n",
        "inputs and 2 outputs as mapper at the transceiver and a non-linear NN with\n",
        "2 inputs terminated by a linear layer with m = 4 outputs as demapper at the\n",
        "receiver.\n",
        "5. Jointly train mapper and demapper w.r.t. BCE loss on LPRs for SNR equal to\n",
        "0, 2, . . . , 10 dB and plot the learned constellations.\n",
        "6. Verify if the learned bit mappings are Gray"
      ],
      "metadata": {
        "id": "Cb1Ws3TIqw_F"
      },
      "id": "Cb1Ws3TIqw_F"
    },
    {
      "cell_type": "code",
      "source": [
        "# Transmitter and receiver NNs\n",
        "class Binary_snr_transmitter(nn.Module):\n",
        "    def __init__(self, M, width):\n",
        "        super().__init__()\n",
        "        self.lin1 = nn.Linear(M, width)\n",
        "        self.act1 = nn.ReLU()\n",
        "        self.lin2 = nn.Linear(width, width)\n",
        "        self.act2 = nn.ReLU()\n",
        "        self.lin3 = nn.Linear(width, 2)\n",
        "        \n",
        "    def forward(self, y):\n",
        "        y = self.act1(self.lin1(y))\n",
        "        y = self.act2(self.lin2(y))\n",
        "        return self.lin3(y)\n",
        "    \n",
        "class Binary_snr_receiver(nn.Module):\n",
        "    def __init__(self, M, width):\n",
        "        super().__init__()\n",
        "        self.lin1 = nn.Linear(2, width)\n",
        "        self.act1 = nn.ReLU()\n",
        "        self.lin2 = nn.Linear(width, width)\n",
        "        self.act2 = nn.ReLU()\n",
        "        self.lin3 = nn.Linear(width, M)\n",
        "        \n",
        "    def forward(self, y):\n",
        "        y = self.act1(self.lin1(y))\n",
        "        y = self.act2(self.lin2(y))\n",
        "        return self.lin3(y)"
      ],
      "metadata": {
        "id": "NinKn1zDqzh7"
      },
      "id": "NinKn1zDqzh7",
      "execution_count": 37,
      "outputs": []
    },
    {
      "cell_type": "code",
      "source": [
        "def get_labeling(msg):\n",
        "    label = np.array([[0,0,0,0], [0,0,0,1], [0,0,1,0], [0,0,1,1], [0,1,0,0], [0,1,0,1], [0,1,1,0], [0,1,1,1],\n",
        "                      [1,0,0,0], [1,0,0,1], [1,0,1,0], [1,0,1,1], [1,1,0,0], [1,1,0,1], [1,1,1,0], [1,1,1,1]])\n",
        "    return label[msg, :]"
      ],
      "metadata": {
        "id": "sXxmufjeJ6dc"
      },
      "id": "sXxmufjeJ6dc",
      "execution_count": 38,
      "outputs": []
    },
    {
      "cell_type": "code",
      "source": [
        "# Generate data\n",
        "M = 16\n",
        "n = 100000\n",
        "nn_width = 20\n",
        "snrdBs = np.array([0,2,4,6,8,10])\n",
        "snrs = 10**(snrdBs/10)\n",
        "\n",
        "a = np.random.choice(range(M), size=n)\n",
        "binary = np.array([get_labeling(a[i]) for i in range(n)])\n",
        "\n",
        "# Convert to tensor\n",
        "binary_t = torch.tensor(binary).float()\n",
        "a_t = torch.tensor(binary).float()\n",
        "\n",
        "# Loss Function\n",
        "loss_fn = nn.BCEWithLogitsLoss()"
      ],
      "metadata": {
        "id": "ugK4G22AChuS"
      },
      "id": "ugK4G22AChuS",
      "execution_count": 39,
      "outputs": []
    },
    {
      "cell_type": "code",
      "source": [
        "binary_t"
      ],
      "metadata": {
        "id": "6RK0CRxVJw8J",
        "outputId": "97ca4a0a-23fd-4f08-d8c6-fdf6fd463e6f",
        "colab": {
          "base_uri": "https://localhost:8080/"
        }
      },
      "id": "6RK0CRxVJw8J",
      "execution_count": 53,
      "outputs": [
        {
          "output_type": "execute_result",
          "data": {
            "text/plain": [
              "tensor([[1., 1., 0., 0.],\n",
              "        [0., 0., 0., 1.],\n",
              "        [0., 1., 1., 1.],\n",
              "        ...,\n",
              "        [0., 1., 0., 0.],\n",
              "        [0., 0., 1., 1.],\n",
              "        [0., 1., 1., 1.]])"
            ]
          },
          "metadata": {},
          "execution_count": 53
        }
      ]
    },
    {
      "cell_type": "code",
      "source": [
        "txs = []\n",
        "rxs = []\n",
        "\n",
        "for idx, snr in enumerate(snrs):\n",
        "  print(f'--- SNR is: {snrdBs[idx]} dB---')\n",
        "  \n",
        "  sigma2 = P/snr\n",
        "  # Initialize networks\n",
        "  txs.append(Binary_snr_transmitter(4, nn_width))\n",
        "  rxs.append(Binary_snr_receiver(4, nn_width))\n",
        "  # Loss function\n",
        "\n",
        "\n",
        "  # Optimizer\n",
        "  optimizer = optim.Adam(list(txs[idx].parameters()) + list(rxs[idx].parameters()), lr=0.1)\n",
        "  # Data Loader\n",
        "  dataloader = torch.utils.data.DataLoader(binary_t, batch_size=batch_size)\n",
        "  labelloader = torch.utils.data.DataLoader(binary_t, batch_size=batch_size)\n",
        "  \n",
        "\n",
        "  loss_last_batch = train_snr_scheme(num_epochs, dataloader, labelloader, sigma2, txs[idx], rxs[idx], loss_fn, optimizer)\n",
        "  loss_batches.append(loss_last_batch)"
      ],
      "metadata": {
        "colab": {
          "base_uri": "https://localhost:8080/"
        },
        "id": "VIDwgCVu1KVC",
        "outputId": "d81f8ce9-c8dc-45f1-9e52-30e14cc28a0c"
      },
      "id": "VIDwgCVu1KVC",
      "execution_count": null,
      "outputs": [
        {
          "output_type": "stream",
          "name": "stdout",
          "text": [
            "--- SNR is: 0 dB---\n",
            "epoch 0: Loss = 0.9363 dB\n",
            "epoch 10: Loss = 0.8160 dB\n",
            "epoch 20: Loss = 0.8204 dB\n",
            "epoch 30: Loss = 0.7656 dB\n",
            "epoch 40: Loss = 0.7594 dB\n",
            "epoch 50: Loss = 0.7580 dB\n",
            "epoch 60: Loss = 0.7573 dB\n",
            "epoch 70: Loss = 0.7536 dB\n",
            "epoch 80: Loss = 0.7597 dB\n"
          ]
        }
      ]
    },
    {
      "cell_type": "code",
      "source": [
        "fig, ax = plt.subplots(2, int(len(snrdBs)/2))\n",
        "\n",
        "for idx in range(len(snrdBs)):\n",
        "  a_plot = np.arange(M)\n",
        "  onehot_plot = np.array([get_labeling(a_plot[i]) for i in range(M)])\n",
        "  learned_x = txs[idx](torch.tensor(onehot_plot).float())\n",
        "  yy_plot = snr_channel(learned_x, snrdB)\n",
        "  \n",
        "  # Plot the learned constelation\n",
        "  i = idx // int(len(snrdBs)/2)\n",
        "  j = idx % int(len(snrdBs)/2)\n",
        "  ax[i, j].scatter(learned_x.detach().numpy()[:,0], learned_x.detach().numpy()[:,1])"
      ],
      "metadata": {
        "id": "TY11g_OSdTm8"
      },
      "id": "TY11g_OSdTm8",
      "execution_count": null,
      "outputs": []
    },
    {
      "cell_type": "code",
      "source": [
        "#Plot the loss\n",
        "for idx, batch in enumerate(loss_batches):\n",
        "  plt.plot(np.arange(len(batch)), batch, label=f'Train SNR={snrdBs[idx]} dB')\n",
        "  plt.xlabel('Epoch index')\n",
        "  plt.ylabel('Loss')\n",
        "  plt.legend()\n",
        "  plt.grid()\n",
        "  plt.show()"
      ],
      "metadata": {
        "id": "DDm6VJas_Jke"
      },
      "id": "DDm6VJas_Jke",
      "execution_count": null,
      "outputs": []
    }
  ],
  "metadata": {
    "kernelspec": {
      "display_name": "Python 3 (ipykernel)",
      "language": "python",
      "name": "python3"
    },
    "language_info": {
      "codemirror_mode": {
        "name": "ipython",
        "version": 3
      },
      "file_extension": ".py",
      "mimetype": "text/x-python",
      "name": "python",
      "nbconvert_exporter": "python",
      "pygments_lexer": "ipython3",
      "version": "3.9.2"
    },
    "colab": {
      "name": "tut07.ipynb",
      "provenance": [],
      "collapsed_sections": [],
      "include_colab_link": true
    }
  },
  "nbformat": 4,
  "nbformat_minor": 5
}